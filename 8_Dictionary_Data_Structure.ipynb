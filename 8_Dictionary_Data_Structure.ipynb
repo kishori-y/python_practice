{
 "cells": [
  {
   "cell_type": "markdown",
   "id": "75cb7175",
   "metadata": {},
   "source": [
    "# Dictionary Data Structure"
   ]
  },
  {
   "cell_type": "code",
   "execution_count": 2,
   "id": "9a2bcc9f",
   "metadata": {},
   "outputs": [
    {
     "name": "stdout",
     "output_type": "stream",
     "text": [
      "{100: 'durga', 200: 'ravi', 300: 'shiva'}\n"
     ]
    }
   ],
   "source": [
    "# How to cerate Dictionary?\n",
    "\n",
    "# d={}  or  d=dict()\n",
    "\n",
    "d={}\n",
    "d[100]=\"durga\"\n",
    "d[200]=\"ravi\"\n",
    "d[300]=\"shiva\"\n",
    "print(d)"
   ]
  },
  {
   "cell_type": "code",
   "execution_count": 10,
   "id": "7b55051b",
   "metadata": {},
   "outputs": [
    {
     "name": "stdout",
     "output_type": "stream",
     "text": [
      "durga\n",
      "shiva\n",
      "key 400 is not in d\n"
     ]
    }
   ],
   "source": [
    "# How to access data from the dictionary?\n",
    "\n",
    "d={100:'durga',200:'ravi',300:'shiva'}\n",
    "print(d[100])\n",
    "print(d[300])\n",
    "# print(d[400]) # KeyError: 400\n",
    "if 400 in d:\n",
    "    print(d[400])\n",
    "else:\n",
    "    print(\"key 400 is not in d\")"
   ]
  },
  {
   "cell_type": "code",
   "execution_count": 13,
   "id": "3b4a743d",
   "metadata": {},
   "outputs": [
    {
     "name": "stdout",
     "output_type": "stream",
     "text": [
      "Enter number of students: 3\n",
      "Enter Student Name: a\n",
      "Enter % of Marks of Student: 90%\n",
      "Enter Student Name: b\n",
      "Enter % of Marks of Student: 80%\n",
      "Enter Student Name: c\n",
      "Enter % of Marks of Student: 78%\n",
      "Name of Student \t % of marks\n",
      "\t a \t\t 90%\n",
      "\t b \t\t 80%\n",
      "\t c \t\t 78%\n"
     ]
    }
   ],
   "source": [
    "# Q. Write a program to enter name and percentage marks in a dictionary \n",
    "#        and display information on the screen\n",
    "\n",
    "rec={}\n",
    "n=int(input(\"Enter number of students: \"))\n",
    "i=1\n",
    "while i<=n:\n",
    "    name=input(\"Enter Student Name: \")\n",
    "    marks=input(\"Enter % of Marks of Student: \")\n",
    "    rec[name]=marks\n",
    "    i=i+1\n",
    "print(\"Name of Student\",\"\\t\",\"% of marks\")\n",
    "for x in rec:\n",
    "    print(\"\\t\",x,\"\\t\\t\",rec[x])"
   ]
  },
  {
   "cell_type": "code",
   "execution_count": 15,
   "id": "d8577e59",
   "metadata": {},
   "outputs": [
    {
     "name": "stdout",
     "output_type": "stream",
     "text": [
      "{100: 'durga', 200: 'ravi', 300: 'shiva'}\n",
      "{100: 'durga', 200: 'ravi', 300: 'shiva', 400: 'pavan'}\n",
      "{100: 'sunny', 200: 'ravi', 300: 'shiva', 400: 'pavan'}\n"
     ]
    }
   ],
   "source": [
    "# How to update dictionaries?\n",
    "\n",
    "d={100:\"durga\",200:\"ravi\",300:\"shiva\"}\n",
    "print(d)\n",
    "d[400]=\"pavan\"\n",
    "print(d)\n",
    "d[100]=\"sunny\"\n",
    "print(d)"
   ]
  },
  {
   "cell_type": "code",
   "execution_count": 19,
   "id": "219241b8",
   "metadata": {},
   "outputs": [
    {
     "name": "stdout",
     "output_type": "stream",
     "text": [
      "{100: 'durga', 200: 'ravi', 300: 'shiva'}\n",
      "{200: 'ravi', 300: 'shiva'}\n"
     ]
    }
   ],
   "source": [
    "# How to Delete elements from dictionary?\n",
    "\n",
    "d={100:\"durga\",200:\"ravi\",300:\"shiva\"}\n",
    "print(d)\n",
    "del d[100]\n",
    "print(d)\n",
    "#del d[400]   # KeyError: 400\n",
    "#print(d)  "
   ]
  },
  {
   "cell_type": "code",
   "execution_count": 20,
   "id": "b0da283c",
   "metadata": {},
   "outputs": [
    {
     "name": "stdout",
     "output_type": "stream",
     "text": [
      "{100: 'durga', 200: 'ravi', 300: 'shiva'}\n",
      "{}\n"
     ]
    }
   ],
   "source": [
    "# How to Remove all entries from the dictionary?\n",
    "\n",
    "d={100:\"durga\",200:\"ravi\",300:\"shiva\"}\n",
    "print(d)\n",
    "d.clear()\n",
    "print(d)"
   ]
  },
  {
   "cell_type": "code",
   "execution_count": 24,
   "id": "80e545d0",
   "metadata": {},
   "outputs": [
    {
     "name": "stdout",
     "output_type": "stream",
     "text": [
      "{100: 'durga', 200: 'ravi', 300: 'shiva'}\n",
      "{100: 'durga', 200: 'ravi', 300: 'shiva'}\n"
     ]
    }
   ],
   "source": [
    "# How to Delete total dictionary.(we can not access d )\n",
    "\n",
    "d={100:\"durga\",200:\"ravi\",300:\"shiva\"}\n",
    "print(d)\n",
    "#del d      # NameError: name 'd' is not defined\n",
    "print(d)   \n"
   ]
  },
  {
   "cell_type": "markdown",
   "id": "e025167f",
   "metadata": {},
   "source": [
    "# Important Functions of dictionary:"
   ]
  },
  {
   "cell_type": "code",
   "execution_count": 25,
   "id": "939e10d0",
   "metadata": {},
   "outputs": [],
   "source": [
    "# 1. dict():  To create a dictionary."
   ]
  },
  {
   "cell_type": "code",
   "execution_count": 26,
   "id": "0d7da1d2",
   "metadata": {},
   "outputs": [],
   "source": [
    "# 2. len(): Returns the number of items in the dictionary."
   ]
  },
  {
   "cell_type": "code",
   "execution_count": 27,
   "id": "b4bae457",
   "metadata": {},
   "outputs": [],
   "source": [
    "# 3. clear():  To remove all elements from the dictionary."
   ]
  },
  {
   "cell_type": "code",
   "execution_count": 29,
   "id": "812d92c3",
   "metadata": {},
   "outputs": [
    {
     "name": "stdout",
     "output_type": "stream",
     "text": [
      "durga\n",
      "durga\n",
      "None\n",
      "durga\n",
      "guest\n"
     ]
    }
   ],
   "source": [
    "# 4. get():  To get the value associated with the key.\n",
    "#             d.get(key)\n",
    "#             d.get(key,defaultvalue)\n",
    "\n",
    "# eg:\n",
    "d={100:\"durga\",200:\"ravi\",300:\"shiva\"}\n",
    "print(d[100])\n",
    "# print(d[400]) # KeyError: 400\n",
    "print(d.get(100))\n",
    "print(d.get(400))\n",
    "print(d.get(100,\"guest\"))\n",
    "print(d.get(400,\"guest\"))"
   ]
  },
  {
   "cell_type": "code",
   "execution_count": 1,
   "id": "2d061de5",
   "metadata": {},
   "outputs": [
    {
     "name": "stdout",
     "output_type": "stream",
     "text": [
      "durga\n",
      "{200: 'ravi', 300: 'shiva'}\n"
     ]
    },
    {
     "ename": "KeyError",
     "evalue": "400",
     "output_type": "error",
     "traceback": [
      "\u001b[1;31m---------------------------------------------------------------------------\u001b[0m",
      "\u001b[1;31mKeyError\u001b[0m                                  Traceback (most recent call last)",
      "Cell \u001b[1;32mIn[1], line 6\u001b[0m\n\u001b[0;32m      4\u001b[0m \u001b[38;5;28mprint\u001b[39m(d\u001b[38;5;241m.\u001b[39mpop(\u001b[38;5;241m100\u001b[39m))\n\u001b[0;32m      5\u001b[0m \u001b[38;5;28mprint\u001b[39m(d)\n\u001b[1;32m----> 6\u001b[0m \u001b[38;5;28mprint\u001b[39m(\u001b[43md\u001b[49m\u001b[38;5;241;43m.\u001b[39;49m\u001b[43mpop\u001b[49m\u001b[43m(\u001b[49m\u001b[38;5;241;43m400\u001b[39;49m\u001b[43m)\u001b[49m)\n",
      "\u001b[1;31mKeyError\u001b[0m: 400"
     ]
    }
   ],
   "source": [
    "# 5. pop():\n",
    "\n",
    "d={100:\"durga\",200:\"ravi\",300:\"shiva\"}\n",
    "print(d.pop(100))\n",
    "print(d)\n",
    "print(d.pop(400))  # KeyError: 400 (not available in dict)\n"
   ]
  },
  {
   "cell_type": "code",
   "execution_count": 2,
   "id": "9bbd4995",
   "metadata": {},
   "outputs": [
    {
     "name": "stdout",
     "output_type": "stream",
     "text": [
      "{100: 'durga', 200: 'ravi', 300: 'shiva'}\n",
      "(300, 'shiva')\n",
      "{100: 'durga', 200: 'ravi'}\n"
     ]
    }
   ],
   "source": [
    "# 6. popitem():\n",
    "\n",
    "d={100:\"durga\",200:\"ravi\",300:\"shiva\"}\n",
    "print(d)\n",
    "print(d.popitem())\n",
    "print(d)"
   ]
  },
  {
   "cell_type": "code",
   "execution_count": 3,
   "id": "bdb3f16c",
   "metadata": {},
   "outputs": [
    {
     "ename": "KeyError",
     "evalue": "'popitem(): dictionary is empty'",
     "output_type": "error",
     "traceback": [
      "\u001b[1;31m---------------------------------------------------------------------------\u001b[0m",
      "\u001b[1;31mKeyError\u001b[0m                                  Traceback (most recent call last)",
      "Cell \u001b[1;32mIn[3], line 2\u001b[0m\n\u001b[0;32m      1\u001b[0m d\u001b[38;5;241m=\u001b[39m{}\n\u001b[1;32m----> 2\u001b[0m \u001b[38;5;28mprint\u001b[39m(\u001b[43md\u001b[49m\u001b[38;5;241;43m.\u001b[39;49m\u001b[43mpopitem\u001b[49m\u001b[43m(\u001b[49m\u001b[43m)\u001b[49m)\n",
      "\u001b[1;31mKeyError\u001b[0m: 'popitem(): dictionary is empty'"
     ]
    }
   ],
   "source": [
    "d={}\n",
    "print(d.popitem())  # KeyError: 'popitem(): dictionary is empty'"
   ]
  },
  {
   "cell_type": "code",
   "execution_count": 4,
   "id": "94d9b4ec",
   "metadata": {},
   "outputs": [
    {
     "name": "stdout",
     "output_type": "stream",
     "text": [
      "dict_keys([100, 200, 300])\n",
      "100\n",
      "200\n",
      "300\n"
     ]
    }
   ],
   "source": [
    "# 7. keys():\n",
    "\n",
    "d={100:\"durga\",200:\"ravi\",300:\"shiva\"}\n",
    "print(d.keys())\n",
    "for k in d.keys():\n",
    "    print(k)"
   ]
  },
  {
   "cell_type": "code",
   "execution_count": 6,
   "id": "87e5a340",
   "metadata": {},
   "outputs": [
    {
     "name": "stdout",
     "output_type": "stream",
     "text": [
      "dict_values(['durga', 'ravi', 'shiva'])\n",
      "durga\n",
      "ravi\n",
      "shiva\n"
     ]
    }
   ],
   "source": [
    "# 8. values():\n",
    "\n",
    "d={100:\"durga\",200:\"ravi\",300:\"shiva\"}\n",
    "print(d.values())\n",
    "for v in d.values():\n",
    "    print(v)\n"
   ]
  },
  {
   "cell_type": "code",
   "execution_count": 7,
   "id": "9b827e0e",
   "metadata": {},
   "outputs": [
    {
     "name": "stdout",
     "output_type": "stream",
     "text": [
      "100 -- durga\n",
      "200 -- ravi\n",
      "300 -- shiva\n"
     ]
    }
   ],
   "source": [
    "# 9. items(): It returns list of tuples representing key-value pairs. [(k,v)(k,v)(k,v)]\n",
    "\n",
    "d={100:\"durga\",200:\"ravi\",300:\"shiva\"}\n",
    "for k,v in d.items():\n",
    "    print(k,\"--\",v)"
   ]
  },
  {
   "cell_type": "code",
   "execution_count": 8,
   "id": "99bb7c4e",
   "metadata": {},
   "outputs": [],
   "source": [
    "# 10. copy(): It create exactly duplicate dictionary (cloned copy)\n"
   ]
  },
  {
   "cell_type": "code",
   "execution_count": 10,
   "id": "5665291c",
   "metadata": {},
   "outputs": [
    {
     "name": "stdout",
     "output_type": "stream",
     "text": [
      "pavan\n",
      "{100: 'durga', 200: 'ravi', 300: 'shiva', 400: 'pavan'}\n",
      "durga\n",
      "{100: 'durga', 200: 'ravi', 300: 'shiva', 400: 'pavan'}\n"
     ]
    }
   ],
   "source": [
    "# 11. setdefault():\n",
    "\n",
    "d={100:\"durga\",200:\"ravi\",300:\"shiva\"}\n",
    "print(d.setdefault(400,\"pavan\"))\n",
    "print(d)\n",
    "print(d.setdefault(100,\"sachin\"))\n",
    "print(d)"
   ]
  },
  {
   "cell_type": "code",
   "execution_count": 3,
   "id": "b677071e",
   "metadata": {},
   "outputs": [],
   "source": [
    "# 12. update(): d.update(x)\n",
    "#               All items present in the dictionary x will be added to dictionary d\n"
   ]
  },
  {
   "cell_type": "code",
   "execution_count": 2,
   "id": "a13bd545",
   "metadata": {},
   "outputs": [
    {
     "name": "stdout",
     "output_type": "stream",
     "text": [
      "Enter dictionary:{'A':100,'B':200,'C':300}\n",
      "sum= 600\n"
     ]
    }
   ],
   "source": [
    "# Q. Write a program to take dictionary from the keyboard and print the sum of values?\n",
    "\n",
    "d=eval(input(\"Enter dictionary:\"))\n",
    "s=sum(d.values())\n",
    "print(\"sum=\",s)"
   ]
  },
  {
   "cell_type": "code",
   "execution_count": 3,
   "id": "cad5cb74",
   "metadata": {},
   "outputs": [
    {
     "name": "stdout",
     "output_type": "stream",
     "text": [
      "ENTER ANY WORD :mississippi\n",
      "m occurred 1 times\n",
      "m occurred 1 time\n",
      "i occurred 4 times\n",
      "i occurred 4 time\n",
      "s occurred 4 times\n",
      "s occurred 4 time\n",
      "p occurred 2 times\n",
      "p occurred 2 time\n"
     ]
    }
   ],
   "source": [
    "# Q. Write a program to find number of occurrences of each letter present in the given string?\n",
    "\n",
    "word=input(\"ENTER ANY WORD :\")  # mississippi\n",
    "d={}\n",
    "for x in word:\n",
    "    d[x]=d.get(x,0)+1\n",
    "for k,v in d.items():\n",
    "    print(k,\"occurred\",v,\"times\")\n",
    "    print(\"{} occurred {} time\".format(k,v))"
   ]
  },
  {
   "cell_type": "code",
   "execution_count": 1,
   "id": "1568011e",
   "metadata": {},
   "outputs": [
    {
     "name": "stdout",
     "output_type": "stream",
     "text": [
      "Enter any word:doganimaldoganimal\n",
      "{'o': 2, 'a': 4, 'i': 2}\n",
      "['a', 'i', 'o']\n",
      "a occurred 4 times\n",
      "a occurred 4 time\n",
      "i occurred 2 times\n",
      "i occurred 2 time\n",
      "o occurred 2 times\n",
      "o occurred 2 time\n"
     ]
    }
   ],
   "source": [
    "# Q. Write a program to find number of occurrences of each vowel in the given string?\n",
    "\n",
    "word=input(\"Enter any word:\")  # doganimaldoganimal\n",
    "vowels={'a','e','i','o','u'}\n",
    "d={}\n",
    "for x in word:\n",
    "    if x in vowels:\n",
    "        d[x]=d.get(x,0)+1\n",
    "print(d)\n",
    "print(sorted(d))\n",
    "for k,v in sorted(d.items()):\n",
    "    print(k,\"occurred\",v,\"times\")\n",
    "    print(\"{} occurred {} time\".format(k,v))"
   ]
  },
  {
   "cell_type": "code",
   "execution_count": 5,
   "id": "f359e053",
   "metadata": {},
   "outputs": [
    {
     "name": "stdout",
     "output_type": "stream",
     "text": [
      "Enter the number of students3\n",
      "Enter student name: sunny\n",
      "Enter Student Marks: 90\n",
      "Enter student name: banny\n",
      "Enter Student Marks: 80\n",
      "Enter student name: chinny\n",
      "Enter Student Marks: 70\n",
      "{'sunny': '90', 'banny': '80', 'chinny': '70'}\n",
      "Enter Student Name to get Marks: 90\n",
      "Student is not found\n",
      "Do you want to find another student marks [yes|no]yes\n",
      "Enter Student Name to get Marks: sunny\n",
      "The marks of  sunny are 90\n",
      "the marks of sunny :90\n",
      "Do you want to find another student marks [yes|no]durga\n",
      "Enter Student Name to get Marks: durga\n",
      "Student is not found\n",
      "Do you want to find another student marks [yes|no]no\n",
      "Thanks for using our application\n"
     ]
    }
   ],
   "source": [
    "# Q. Write a program to accept student name and marks from the keybord and creates a dictionary.\n",
    "#      Also display student marks by taking student name as input?\n",
    "\n",
    "n=int(input(\"Enter the number of students\"))\n",
    "d={}\n",
    "for i in range(n):\n",
    "    name=input(\"Enter student name: \")\n",
    "    marks=input(\"Enter Student Marks: \")\n",
    "    d[name]=marks\n",
    "print(d)\n",
    "while True:\n",
    "    name=input(\"Enter Student Name to get Marks: \")\n",
    "    marks=d.get(name,-1)\n",
    "    if marks==-1:\n",
    "        print(\"Student is not found\")\n",
    "    else:\n",
    "        print(\"The marks of \",name,\"are\",marks)\n",
    "        print(\"the marks of {} :{}\".format(name,marks))\n",
    "    option=input(\"Do you want to find another student marks [yes|no]\")\n",
    "    if option==\"no\":\n",
    "        break\n",
    "print(\"Thanks for using our application\")\n",
    "    "
   ]
  },
  {
   "cell_type": "markdown",
   "id": "041a06a9",
   "metadata": {},
   "source": [
    "# Dictionary Comprehension:"
   ]
  },
  {
   "cell_type": "code",
   "execution_count": 10,
   "id": "14ba46c1",
   "metadata": {},
   "outputs": [
    {
     "name": "stdout",
     "output_type": "stream",
     "text": [
      "{1: 1, 2: 4, 3: 9, 4: 16, 5: 25}\n",
      "{1: 1, 2: 4, 3: 9, 4: 16, 5: 25}\n",
      "{1: 1, 2: 4, 3: 9, 4: 16, 5: 25}\n",
      "{1: 1, 2: 4, 3: 9, 4: 16, 5: 25}\n",
      "{1: 1, 2: 4, 3: 9, 4: 16, 5: 25}\n",
      "{1: 1, 2: 4, 3: 9, 4: 16, 5: 25}\n"
     ]
    }
   ],
   "source": [
    "squares={x:x*x for x in range(1,6)}\n",
    "print(squares)\n",
    " "
   ]
  },
  {
   "cell_type": "code",
   "execution_count": 7,
   "id": "05e210b7",
   "metadata": {},
   "outputs": [
    {
     "name": "stdout",
     "output_type": "stream",
     "text": [
      "{1: 2, 2: 4, 3: 6, 4: 8, 5: 10}\n"
     ]
    }
   ],
   "source": [
    "doubles={x:x*2 for x in range(1,6)}\n",
    "print(doubles)"
   ]
  },
  {
   "cell_type": "code",
   "execution_count": null,
   "id": "3412caba",
   "metadata": {},
   "outputs": [],
   "source": []
  }
 ],
 "metadata": {
  "kernelspec": {
   "display_name": "Python 3 (ipykernel)",
   "language": "python",
   "name": "python3"
  },
  "language_info": {
   "codemirror_mode": {
    "name": "ipython",
    "version": 3
   },
   "file_extension": ".py",
   "mimetype": "text/x-python",
   "name": "python",
   "nbconvert_exporter": "python",
   "pygments_lexer": "ipython3",
   "version": "3.10.9"
  }
 },
 "nbformat": 4,
 "nbformat_minor": 5
}
