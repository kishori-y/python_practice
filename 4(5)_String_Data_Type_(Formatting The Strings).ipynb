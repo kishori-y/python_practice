{
 "cells": [
  {
   "cell_type": "markdown",
   "id": "905d8d27",
   "metadata": {},
   "source": [
    "# Formatting The Strings:"
   ]
  },
  {
   "cell_type": "code",
   "execution_count": null,
   "id": "c5ce2ed4",
   "metadata": {},
   "outputs": [],
   "source": [
    "# case 1 :- "
   ]
  }
 ],
 "metadata": {
  "kernelspec": {
   "display_name": "Python 3 (ipykernel)",
   "language": "python",
   "name": "python3"
  },
  "language_info": {
   "codemirror_mode": {
    "name": "ipython",
    "version": 3
   },
   "file_extension": ".py",
   "mimetype": "text/x-python",
   "name": "python",
   "nbconvert_exporter": "python",
   "pygments_lexer": "ipython3",
   "version": "3.10.9"
  }
 },
 "nbformat": 4,
 "nbformat_minor": 5
}
