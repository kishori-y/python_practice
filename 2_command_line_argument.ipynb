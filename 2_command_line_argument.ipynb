{
 "cells": [
  {
   "cell_type": "markdown",
   "id": "939dc580",
   "metadata": {},
   "source": [
    "# COMMAND LINE ARGUMENTS #"
   ]
  },
  {
   "cell_type": "code",
   "execution_count": 6,
   "id": "1a0287db",
   "metadata": {},
   "outputs": [
    {
     "ename": "ModuleNotFoundError",
     "evalue": "No module named 'argv'",
     "output_type": "error",
     "traceback": [
      "\u001b[1;31m---------------------------------------------------------------------------\u001b[0m",
      "\u001b[1;31mModuleNotFoundError\u001b[0m                       Traceback (most recent call last)",
      "Cell \u001b[1;32mIn[6], line 1\u001b[0m\n\u001b[1;32m----> 1\u001b[0m \u001b[38;5;28;01mimport\u001b[39;00m \u001b[38;5;21;01margv\u001b[39;00m\n\u001b[0;32m      2\u001b[0m \u001b[38;5;28mprint\u001b[39m(\u001b[38;5;28mtype\u001b[39m(argv))\n",
      "\u001b[1;31mModuleNotFoundError\u001b[0m: No module named 'argv'"
     ]
    }
   ],
   "source": [
    "import argv\n",
    "print(type(argv))"
   ]
  },
  {
   "cell_type": "code",
   "execution_count": 2,
   "id": "44480deb",
   "metadata": {},
   "outputs": [
    {
     "name": "stdout",
     "output_type": "stream",
     "text": [
      "<class 'list'>\n"
     ]
    }
   ],
   "source": [
    "from sys import argv\n",
    "print(type(argv))"
   ]
  },
  {
   "cell_type": "code",
   "execution_count": 5,
   "id": "2eae10c5",
   "metadata": {},
   "outputs": [
    {
     "name": "stdout",
     "output_type": "stream",
     "text": [
      "<class 'list'>\n",
      "Enter argv:[10,20,30]\n",
      "The number of Command Line Arguments: 10\n",
      "The List of Command Line Argument: [10,20,30]\n",
      "Command Line Argument one by one:\n",
      "[\n",
      "1\n",
      "0\n",
      ",\n",
      "2\n",
      "0\n",
      ",\n",
      "3\n",
      "0\n",
      "]\n"
     ]
    }
   ],
   "source": [
    "from sys import argv \n",
    "print(\"The number of Command Line Arguments:\",len(argv))\n",
    "print(\"The List of Command Line Argument:\",argv)\n",
    "print(\"Command Line Argument one by one:\")\n",
    "for x in argv:\n",
    "    print(x)"
   ]
  },
  {
   "cell_type": "code",
   "execution_count": 1,
   "id": "fb06c1a2",
   "metadata": {},
   "outputs": [
    {
     "name": "stdout",
     "output_type": "stream",
     "text": [
      "-f\n"
     ]
    }
   ],
   "source": [
    "from sys import argv\n",
    "print(argv[1])"
   ]
  },
  {
   "cell_type": "code",
   "execution_count": 6,
   "id": "8d6a7204",
   "metadata": {},
   "outputs": [
    {
     "name": "stdout",
     "output_type": "stream",
     "text": [
      "-fC:\\Users\\Amol\\AppData\\Roaming\\jupyter\\runtime\\kernel-5af47b2c-e76f-40a4-95b2-aacc2302a4ac.json\n"
     ]
    },
    {
     "ename": "ValueError",
     "evalue": "invalid literal for int() with base 10: '-f'",
     "output_type": "error",
     "traceback": [
      "\u001b[1;31m---------------------------------------------------------------------------\u001b[0m",
      "\u001b[1;31mValueError\u001b[0m                                Traceback (most recent call last)",
      "Cell \u001b[1;32mIn[6], line 3\u001b[0m\n\u001b[0;32m      1\u001b[0m \u001b[38;5;28;01mfrom\u001b[39;00m \u001b[38;5;21;01msys\u001b[39;00m \u001b[38;5;28;01mimport\u001b[39;00m argv\n\u001b[0;32m      2\u001b[0m \u001b[38;5;28mprint\u001b[39m(argv[\u001b[38;5;241m1\u001b[39m]\u001b[38;5;241m+\u001b[39margv[\u001b[38;5;241m2\u001b[39m])\n\u001b[1;32m----> 3\u001b[0m \u001b[38;5;28mprint\u001b[39m(\u001b[38;5;28;43mint\u001b[39;49m\u001b[43m(\u001b[49m\u001b[43margv\u001b[49m\u001b[43m[\u001b[49m\u001b[38;5;241;43m1\u001b[39;49m\u001b[43m]\u001b[49m\u001b[43m)\u001b[49m\u001b[38;5;241m+\u001b[39m\u001b[38;5;28mint\u001b[39m(argv[\u001b[38;5;241m2\u001b[39m]))\n",
      "\u001b[1;31mValueError\u001b[0m: invalid literal for int() with base 10: '-f'"
     ]
    }
   ],
   "source": [
    "from sys import argv\n",
    "print(argv[1]+argv[2])\n",
    "print(int(argv[1])+int(argv[2]))"
   ]
  },
  {
   "cell_type": "code",
   "execution_count": 7,
   "id": "0751d05d",
   "metadata": {},
   "outputs": [
    {
     "ename": "IndexError",
     "evalue": "list index out of range",
     "output_type": "error",
     "traceback": [
      "\u001b[1;31m---------------------------------------------------------------------------\u001b[0m",
      "\u001b[1;31mIndexError\u001b[0m                                Traceback (most recent call last)",
      "Cell \u001b[1;32mIn[7], line 2\u001b[0m\n\u001b[0;32m      1\u001b[0m \u001b[38;5;28;01mfrom\u001b[39;00m \u001b[38;5;21;01msys\u001b[39;00m \u001b[38;5;28;01mimport\u001b[39;00m argv\n\u001b[1;32m----> 2\u001b[0m \u001b[38;5;28mprint\u001b[39m(\u001b[43margv\u001b[49m\u001b[43m[\u001b[49m\u001b[38;5;241;43m100\u001b[39;49m\u001b[43m]\u001b[49m)\n",
      "\u001b[1;31mIndexError\u001b[0m: list index out of range"
     ]
    }
   ],
   "source": [
    "from sys import argv\n",
    "print(argv[100])"
   ]
  },
  {
   "cell_type": "markdown",
   "id": "aeeb778b",
   "metadata": {},
   "source": [
    "# output statements #"
   ]
  },
  {
   "cell_type": "code",
   "execution_count": 42,
   "id": "c58cd00c",
   "metadata": {},
   "outputs": [
    {
     "name": "stdout",
     "output_type": "stream",
     "text": [
      "1 Hello World\n",
      "\n",
      "2 Hello \n",
      " World\n",
      "\n",
      "3 Hello\tWorld\n",
      "\n",
      "4 Hello\tHello\tHello\tHello\tHello\tHello\tHello\tHello\tHello\tHello\t\n",
      "\n",
      "5 Hello\tHello\tHello\tHello\tHello\tHello\tHello\tHello\tHello\tHello\t\n",
      "\n",
      "6 HelloWorld\n"
     ]
    }
   ],
   "source": [
    "# print(string): #\n",
    "    \n",
    "print(\"1 Hello World\") \n",
    "\n",
    "print(\"\\n2 Hello \\n World\")\n",
    "\n",
    "print(\"\\n3 Hello\\tWorld\")\n",
    "\n",
    "print(\"\\n4\",10*\"Hello\\t\")\n",
    "\n",
    "print(\"\\n5\",\"Hello\\t\"*10)\n",
    "\n",
    "print(\"\\n6 Hello\"+\"World\")"
   ]
  },
  {
   "cell_type": "code",
   "execution_count": 45,
   "id": "148f13f3",
   "metadata": {},
   "outputs": [
    {
     "name": "stdout",
     "output_type": "stream",
     "text": [
      "The values are : 10 20 30\n"
     ]
    }
   ],
   "source": [
    "a,b,c=10,20,30\n",
    "print(\"The values are :\",a,b,c)"
   ]
  },
  {
   "cell_type": "code",
   "execution_count": 47,
   "id": "8a7971d0",
   "metadata": {},
   "outputs": [
    {
     "name": "stdout",
     "output_type": "stream",
     "text": [
      "10,20,30\n",
      "10:20:30\n"
     ]
    }
   ],
   "source": [
    "a,b,c=10,20,30\n",
    "print(a,b,c,sep=',')\n",
    "print(a,b,c,sep=':')"
   ]
  },
  {
   "cell_type": "code",
   "execution_count": 48,
   "id": "7a786217",
   "metadata": {},
   "outputs": [
    {
     "name": "stdout",
     "output_type": "stream",
     "text": [
      "Hello\n",
      "Durga\n",
      "Soft\n"
     ]
    }
   ],
   "source": [
    "print(\"Hello\")\n",
    "print(\"Durga\")\n",
    "print(\"Soft\")"
   ]
  },
  {
   "cell_type": "code",
   "execution_count": 50,
   "id": "dd4c6b83",
   "metadata": {},
   "outputs": [
    {
     "name": "stdout",
     "output_type": "stream",
     "text": [
      "Hello Durga Soft\n"
     ]
    }
   ],
   "source": [
    "print(\"Hello\",end=' ')  # 1 space\n",
    "print(\"Durga\",end=' ')\n",
    "print(\"Soft\")"
   ]
  },
  {
   "cell_type": "code",
   "execution_count": 1,
   "id": "241c8c2b",
   "metadata": {},
   "outputs": [
    {
     "name": "stdout",
     "output_type": "stream",
     "text": [
      "[10, 20, 30, 40]\n",
      "(10, 20, 30, 40)\n"
     ]
    }
   ],
   "source": [
    "l=[10,20,30,40]\n",
    "t=(10,20,30,40)\n",
    "print(l)\n",
    "print(t)"
   ]
  },
  {
   "cell_type": "code",
   "execution_count": 3,
   "id": "850bb59e",
   "metadata": {},
   "outputs": [
    {
     "name": "stdout",
     "output_type": "stream",
     "text": [
      "Hello Durga Your Age is 48\n",
      "You are teaching java and python\n"
     ]
    }
   ],
   "source": [
    "s=\"Durga\"\n",
    "a=48\n",
    "s1=\"java\"\n",
    "s2=\"python\"\n",
    "print(\"Hello\",s,\"Your Age is\",a)\n",
    "print(\"You are teaching\",s1, \"and\",s2)"
   ]
  },
  {
   "cell_type": "markdown",
   "id": "cbcc9317",
   "metadata": {},
   "source": [
    "\n",
    "%i ====> int\n",
    "%d ====> int\n",
    "%f ====> float\n",
    "%s ====> String type\n",
    "\n",
    "### Syntax ###\n",
    "\n",
    "print(\"formatted string\" %(variable list))"
   ]
  },
  {
   "cell_type": "code",
   "execution_count": 5,
   "id": "05b19f1e",
   "metadata": {},
   "outputs": [
    {
     "name": "stdout",
     "output_type": "stream",
     "text": [
      "a value is 10\n",
      "b value is 20 and c value is 30\n"
     ]
    }
   ],
   "source": [
    "a=10\n",
    "b=20\n",
    "c=30 \n",
    "print(\"a value is %i\"%a)\n",
    "print(\"b value is %d and c value is %d\"%(b,c))"
   ]
  },
  {
   "cell_type": "code",
   "execution_count": 7,
   "id": "bbc20418",
   "metadata": {},
   "outputs": [
    {
     "name": "stdout",
     "output_type": "stream",
     "text": [
      "Hello Durga...The list of items are [10, 20, 30, 40]\n"
     ]
    }
   ],
   "source": [
    "s=\"Durga\"\n",
    "list=[10,20,30,40]\n",
    "print(\"Hello %s...The list of items are %s\"%(s,list))\n"
   ]
  },
  {
   "cell_type": "markdown",
   "id": "8f4433e3",
   "metadata": {},
   "source": [
    "#  print() with replacement operator {} #"
   ]
  },
  {
   "cell_type": "code",
   "execution_count": 8,
   "id": "543454d8",
   "metadata": {},
   "outputs": [
    {
     "name": "stdout",
     "output_type": "stream",
     "text": [
      "Hello Durga your salary is 10000 and your friend Sunny is waiting\n",
      "Hello Durga your salary is 10000 and your friend Sunny is waiting\n"
     ]
    }
   ],
   "source": [
    "name=\"Durga\"\n",
    "salary=10000s\n",
    "gf=\"Sunny\"\n",
    "print(\"Hello {0} your salary is {1} and your friend {2} is waiting\".format (name,salary,gf))\n",
    "print(\"Hello {x} your salary is {y} and your friend {z} is waiting\".format(x=name,y=salary,z=gf))"
   ]
  },
  {
   "cell_type": "code",
   "execution_count": null,
   "id": "c250b578",
   "metadata": {},
   "outputs": [],
   "source": []
  }
 ],
 "metadata": {
  "kernelspec": {
   "display_name": "Python 3 (ipykernel)",
   "language": "python",
   "name": "python3"
  },
  "language_info": {
   "codemirror_mode": {
    "name": "ipython",
    "version": 3
   },
   "file_extension": ".py",
   "mimetype": "text/x-python",
   "name": "python",
   "nbconvert_exporter": "python",
   "pygments_lexer": "ipython3",
   "version": "3.10.9"
  }
 },
 "nbformat": 4,
 "nbformat_minor": 5
}
