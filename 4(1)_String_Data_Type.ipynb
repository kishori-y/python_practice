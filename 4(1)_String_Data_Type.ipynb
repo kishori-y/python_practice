{
 "cells": [
  {
   "cell_type": "markdown",
   "id": "eaab61da",
   "metadata": {},
   "source": [
    "# STRING DATA TYPES"
   ]
  },
  {
   "cell_type": "markdown",
   "id": "84b82a6f",
   "metadata": {},
   "source": [
    "## HOW TO ACCESS CHARACTERS OF A STRING ?\n",
    "### 1 By using index\n",
    "### 2 By using slice operator"
   ]
  },
  {
   "cell_type": "markdown",
   "id": "70481ad6",
   "metadata": {},
   "source": [
    " # "
   ]
  },
  {
   "cell_type": "markdown",
   "id": "d4312241",
   "metadata": {},
   "source": [
    "# 1 By using index"
   ]
  },
  {
   "cell_type": "code",
   "execution_count": 2,
   "id": "392c2ff7",
   "metadata": {},
   "outputs": [
    {
     "name": "stdout",
     "output_type": "stream",
     "text": [
      "Enter Some String:kishori\n",
      "The character present at positive index 0 and Negative index -7 is k\n",
      "The character present at positive index 1 and Negative index -6 is i\n",
      "The character present at positive index 2 and Negative index -5 is s\n",
      "The character present at positive index 3 and Negative index -4 is h\n",
      "The character present at positive index 4 and Negative index -3 is o\n",
      "The character present at positive index 5 and Negative index -2 is r\n",
      "The character present at positive index 6 and Negative index -1 is i\n"
     ]
    }
   ],
   "source": [
    "s=input(\"Enter Some String:\")\n",
    "i=0\n",
    "for x in s:\n",
    "    print(\"The character present at positive index {} and Negative index {} is {}\"\n",
    "          .format(i,i-len(s),x))\n",
    "    i=i+1"
   ]
  },
  {
   "cell_type": "markdown",
   "id": "fcc620fd",
   "metadata": {},
   "source": [
    "# 2 By using slice operator"
   ]
  },
  {
   "cell_type": "code",
   "execution_count": 3,
   "id": "6859d579",
   "metadata": {},
   "outputs": [
    {
     "data": {
      "text/plain": [
       "'earnin'"
      ]
     },
     "execution_count": 3,
     "metadata": {},
     "output_type": "execute_result"
    }
   ],
   "source": [
    "s=\"Learning Python is very very easy !!!\"\n",
    "s[1:7:1]\n"
   ]
  },
  {
   "cell_type": "code",
   "execution_count": 4,
   "id": "aade2b60",
   "metadata": {},
   "outputs": [
    {
     "data": {
      "text/plain": [
       "'earnin'"
      ]
     },
     "execution_count": 4,
     "metadata": {},
     "output_type": "execute_result"
    }
   ],
   "source": [
    "s[1:7]"
   ]
  },
  {
   "cell_type": "code",
   "execution_count": 5,
   "id": "31c16cf2",
   "metadata": {},
   "outputs": [
    {
     "data": {
      "text/plain": [
       "'eri'"
      ]
     },
     "execution_count": 5,
     "metadata": {},
     "output_type": "execute_result"
    }
   ],
   "source": [
    "s[1:7:2]"
   ]
  },
  {
   "cell_type": "code",
   "execution_count": 6,
   "id": "2d54fff1",
   "metadata": {},
   "outputs": [
    {
     "data": {
      "text/plain": [
       "'Learnin'"
      ]
     },
     "execution_count": 6,
     "metadata": {},
     "output_type": "execute_result"
    }
   ],
   "source": [
    "s[:7]"
   ]
  },
  {
   "cell_type": "code",
   "execution_count": 7,
   "id": "a7859703",
   "metadata": {},
   "outputs": [
    {
     "data": {
      "text/plain": [
       "'g Python is very very easy !!!'"
      ]
     },
     "execution_count": 7,
     "metadata": {},
     "output_type": "execute_result"
    }
   ],
   "source": [
    "s[7:]"
   ]
  },
  {
   "cell_type": "code",
   "execution_count": 8,
   "id": "8089dc4a",
   "metadata": {},
   "outputs": [
    {
     "data": {
      "text/plain": [
       "'Learning Python is very very easy !!!'"
      ]
     },
     "execution_count": 8,
     "metadata": {},
     "output_type": "execute_result"
    }
   ],
   "source": [
    "s[::]"
   ]
  },
  {
   "cell_type": "code",
   "execution_count": 9,
   "id": "0b8d1346",
   "metadata": {},
   "outputs": [
    {
     "data": {
      "text/plain": [
       "'Learning Python is very very easy !!!'"
      ]
     },
     "execution_count": 9,
     "metadata": {},
     "output_type": "execute_result"
    }
   ],
   "source": [
    "s[:]"
   ]
  },
  {
   "cell_type": "code",
   "execution_count": 10,
   "id": "4e3e12dd",
   "metadata": {},
   "outputs": [
    {
     "data": {
      "text/plain": [
       "'!!! ysae yrev yrev si nohtyP gninraeL'"
      ]
     },
     "execution_count": 10,
     "metadata": {},
     "output_type": "execute_result"
    }
   ],
   "source": [
    "s[::-1]"
   ]
  },
  {
   "cell_type": "code",
   "execution_count": 1,
   "id": "141d7d18",
   "metadata": {},
   "outputs": [
    {
     "name": "stdout",
     "output_type": "stream",
     "text": [
      "durgasoft\n",
      "durgadurga\n"
     ]
    }
   ],
   "source": [
    "# Methematical Operations for String:\n",
    "\n",
    "print(\"durga\"+\"soft\")  # + OPERATION FOR CONCATENATION.\n",
    "print(\"durga\"*2)       # * Operation for Concatenation."
   ]
  },
  {
   "cell_type": "code",
   "execution_count": 2,
   "id": "b963c8ef",
   "metadata": {},
   "outputs": [
    {
     "name": "stdout",
     "output_type": "stream",
     "text": [
      "5\n"
     ]
    }
   ],
   "source": [
    "# len() in-built function:\n",
    "\n",
    "s='durga'\n",
    "print(len(s))"
   ]
  },
  {
   "cell_type": "code",
   "execution_count": 9,
   "id": "5fed2efb",
   "metadata": {},
   "outputs": [
    {
     "name": "stdout",
     "output_type": "stream",
     "text": [
      "forward direction :\n",
      "Learning Python is very easy !!!\n",
      "backword direction :\n",
      "!!! ysae yrev si nohtyP gninraeL"
     ]
    }
   ],
   "source": [
    "''' Write a programe to access each character of string in forward and backword direction\n",
    "     by using while loop?'''\n",
    "\n",
    "s=\"Learning Python is very easy !!!\"\n",
    "n=len(s)\n",
    "i=0\n",
    "print(\"forward direction :\")\n",
    "while i<n:\n",
    "    print(s[i],end='')\n",
    "    i+=1\n",
    "print(\"\\nbackword direction :\")\n",
    "i=-1\n",
    "while i>=-n:\n",
    "    print(s[i],end='')\n",
    "    i=i-1"
   ]
  },
  {
   "cell_type": "code",
   "execution_count": 10,
   "id": "d493ed32",
   "metadata": {},
   "outputs": [
    {
     "name": "stdout",
     "output_type": "stream",
     "text": [
      "Forward Direction: \n",
      "Learning Python is very easy !!!\n",
      "Forward Direction: \n",
      "L e a r n i n g   P y t h o n   i s   v e r y   e a s y   ! ! ! \n",
      "Backword Direction: \n",
      "! ! !   y s a e   y r e v   s i   n o h t y P   g n i n r a e L "
     ]
    }
   ],
   "source": [
    "# Alternative ways\n",
    "s=\"Learning Python is very easy !!!\"\n",
    "print (\"Forward Direction: \")\n",
    "for i in s:\n",
    "    print(i,end='')\n",
    "    \n",
    "print(\"\\nForward Direction: \")\n",
    "for i in s[::]:\n",
    "    print(i,end=' ')\n",
    "    \n",
    "print(\"\\nBackword Direction: \")\n",
    "for i in s[::-1]:\n",
    "    print(i,end=' ')"
   ]
  },
  {
   "cell_type": "markdown",
   "id": "9da33b0e",
   "metadata": {},
   "source": [
    "## Checking Membership:"
   ]
  },
  {
   "cell_type": "code",
   "execution_count": 12,
   "id": "069cae11",
   "metadata": {},
   "outputs": [
    {
     "name": "stdout",
     "output_type": "stream",
     "text": [
      "Enter main string: kishori amol yadav\n",
      "Enter sub string: amol\n",
      "amol  is found in main string.\n"
     ]
    }
   ],
   "source": [
    "s=input(\"Enter main string: \")\n",
    "subs=input(\"Enter sub string: \")\n",
    "if subs in s:\n",
    "    print(subs,\" is found in main string.\")\n",
    "else:\n",
    "    print(subs,\" is not found in main string.\")"
   ]
  },
  {
   "cell_type": "markdown",
   "id": "65eadd7c",
   "metadata": {},
   "source": [
    "## Comparision String"
   ]
  },
  {
   "cell_type": "code",
   "execution_count": 13,
   "id": "bf4b8a26",
   "metadata": {},
   "outputs": [
    {
     "name": "stdout",
     "output_type": "stream",
     "text": [
      "Enter First string: kishori\n",
      "Enter Second string: amol\n",
      "First string is greater than second string.\n"
     ]
    }
   ],
   "source": [
    "s1=input (\"Enter First string: \")\n",
    "s2=input (\"Enter Second string: \")\n",
    "if s1==s2:\n",
    "    print(\"Both strings are Equal.\")\n",
    "elif s1<s2:\n",
    "    print(\"First string is less than second string.\")\n",
    "else:\n",
    "    print(\"First string is greater than second string.\")"
   ]
  },
  {
   "cell_type": "markdown",
   "id": "233388cc",
   "metadata": {},
   "source": [
    "## Removing spaces from the string :"
   ]
  },
  {
   "cell_type": "code",
   "execution_count": 16,
   "id": "8f9c0b7f",
   "metadata": {},
   "outputs": [
    {
     "name": "stdout",
     "output_type": "stream",
     "text": [
      "Enter your city Name :Hyderbad\n",
      "Hello Hyderbadi..Adab\n"
     ]
    }
   ],
   "source": [
    "city=input(\"Enter your city Name :\")\n",
    "scity=city.strip()\n",
    "if scity=='Hyderbad':\n",
    "    print('Hello Hyderbadi..Adab')\n",
    "elif scity=='Chennai':\n",
    "    print(\"Hello Madrasi..Vanakkam\")\n",
    "elif scity=='Banglore':\n",
    "    print(\"Hello Kannadiga..Shubhodaya\")\n",
    "else:\n",
    "    print(\"Your Entered city is invalid\")"
   ]
  },
  {
   "cell_type": "code",
   "execution_count": null,
   "id": "be227fa7",
   "metadata": {},
   "outputs": [],
   "source": []
  }
 ],
 "metadata": {
  "kernelspec": {
   "display_name": "Python 3 (ipykernel)",
   "language": "python",
   "name": "python3"
  },
  "language_info": {
   "codemirror_mode": {
    "name": "ipython",
    "version": 3
   },
   "file_extension": ".py",
   "mimetype": "text/x-python",
   "name": "python",
   "nbconvert_exporter": "python",
   "pygments_lexer": "ipython3",
   "version": "3.10.9"
  }
 },
 "nbformat": 4,
 "nbformat_minor": 5
}
