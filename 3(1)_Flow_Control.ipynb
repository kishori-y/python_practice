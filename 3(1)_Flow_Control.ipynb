{
 "cells": [
  {
   "cell_type": "markdown",
   "id": "8a4478ef",
   "metadata": {},
   "source": [
    "##  FLOW CONTROL #"
   ]
  },
  {
   "cell_type": "markdown",
   "id": "6a691ca0",
   "metadata": {},
   "source": [
    "### 1 Conditional Statements  ###"
   ]
  },
  {
   "cell_type": "code",
   "execution_count": 4,
   "id": "ba7dfc60",
   "metadata": {},
   "outputs": [
    {
     "name": "stdout",
     "output_type": "stream",
     "text": [
      "Enter Name:Durga\n",
      "Hello Durga Good Morning\n",
      "How Are you !!!\n"
     ]
    }
   ],
   "source": [
    "# if #\n",
    "\n",
    "name=input(\"Enter Name:\")\n",
    "if name==\"Durga\":\n",
    "    print(\"Hello Durga Good Morning\")\n",
    "print(\"How Are you !!!\")    "
   ]
  },
  {
   "cell_type": "code",
   "execution_count": 6,
   "id": "2cd196a7",
   "metadata": {},
   "outputs": [
    {
     "name": "stdout",
     "output_type": "stream",
     "text": [
      "Enter Name:Ravi\n",
      "Hello Guest Good Morning\n",
      "How are you !!!\n"
     ]
    }
   ],
   "source": [
    "# if-else #\n",
    "\n",
    "name=input(\"Enter Name:\")\n",
    "if name==\"durga\":\n",
    "    print(\"Hello Durga Good Morning\")\n",
    "else:\n",
    "    print(\"Hello Guest Good Morning\")\n",
    "print(\"How are you !!!\")"
   ]
  },
  {
   "cell_type": "code",
   "execution_count": 9,
   "id": "c55e0448",
   "metadata": {},
   "outputs": [
    {
     "name": "stdout",
     "output_type": "stream",
     "text": [
      "Enter Your Favourit Brand: FO\n",
      "Buy one get Free One\n"
     ]
    }
   ],
   "source": [
    "# if-elif-else #\n",
    "\n",
    "brand=input(\"Enter Your Favourit Brand: \")\n",
    "if brand==\"RC\":\n",
    "    print(\"It is childrens brand\")\n",
    "\n",
    "elif brand==\"KF\":\n",
    "    print(\"It is not that much kick\")\n",
    "    \n",
    "elif brand==\"FO\" :  \n",
    "    print(\"Buy one get Free One\")\n",
    "    \n",
    "else:\n",
    "    print(\"Other brands are not recomended\")\n",
    "    \n",
    "    \n"
   ]
  },
  {
   "cell_type": "code",
   "execution_count": 1,
   "id": "54d4da9a",
   "metadata": {},
   "outputs": [
    {
     "name": "stdout",
     "output_type": "stream",
     "text": [
      "Enter First Number: 30\n",
      "Enter Second Number: 20\n",
      "Biggest Number is: 30\n"
     ]
    }
   ],
   "source": [
    "# Write a program to find biggest of given two numbers #\n",
    "\n",
    "n1=int(input(\"Enter First Number: \"))\n",
    "n2=int(input(\"Enter Second Number: \"))\n",
    "if n1>n2:\n",
    "    print(\"Biggest Number is:\",n1)\n",
    "else:\n",
    "    print(\"Biggest Number is: \",n2)\n",
    "    "
   ]
  },
  {
   "cell_type": "code",
   "execution_count": 3,
   "id": "48ea98fd",
   "metadata": {},
   "outputs": [
    {
     "name": "stdout",
     "output_type": "stream",
     "text": [
      "Enter First Number:90\n",
      "Enter Second Number:89\n",
      "Enter Third Number:77\n",
      "Biggest Number is:  90\n"
     ]
    }
   ],
   "source": [
    "# Write a program to find biggest of given three numbers #\n",
    "\n",
    "n1=int(input(\"Enter First Number:\" ))\n",
    "n2=int(input(\"Enter Second Number:\" ))\n",
    "n3=int(input(\"Enter Third Number:\" ))\n",
    "if n1>n2 and n1>n3:\n",
    "    print(\"Biggest Number is: \",n1)\n",
    "elif n2>n3:\n",
    "    print(\"Biggest Number is: \",n2) \n",
    "else:\n",
    "    print(\"Biggest Number is:\",n3)      "
   ]
  },
  {
   "cell_type": "code",
   "execution_count": 5,
   "id": "9501e900",
   "metadata": {},
   "outputs": [
    {
     "name": "stdout",
     "output_type": "stream",
     "text": [
      "Enter First Number:66\n",
      "Enter Second Number:55\n",
      "Smallest Number is: 55\n"
     ]
    }
   ],
   "source": [
    "# Write a Programm to find Smallest Number of given two numbers #\n",
    "\n",
    "n1=int(input(\"Enter First Number:\"))\n",
    "n2=int(input(\"Enter Second Number:\"))\n",
    "if n1<n2:\n",
    "    print(\"Smallest Number is:\",n1)\n",
    "else:\n",
    "    print(\"Smallest Number is:\",n2)\n",
    "    "
   ]
  },
  {
   "cell_type": "code",
   "execution_count": 7,
   "id": "369effab",
   "metadata": {},
   "outputs": [
    {
     "name": "stdout",
     "output_type": "stream",
     "text": [
      "Enter First Number:55\n",
      "Enter Second Number:46\n",
      "Enter Third Number:77\n",
      "Smallest Number is: 46\n"
     ]
    }
   ],
   "source": [
    "# Write a Programm to find Smallest Number of given three numbers #\n",
    "\n",
    "n1=int(input(\"Enter First Number:\"))\n",
    "n2=int(input(\"Enter Second Number:\"))\n",
    "n3=int(input(\"Enter Third Number:\"))\n",
    "if n1<n2 and n1<n3:\n",
    "    print(\"Smallest Number is:\",n1)\n",
    "elif n2<n3:\n",
    "    print(\"Smallest Number is:\",n2)\n",
    "else:\n",
    "    print(\"Smallest Number is:\",n3)"
   ]
  },
  {
   "cell_type": "code",
   "execution_count": 9,
   "id": "daf860c2",
   "metadata": {},
   "outputs": [
    {
     "name": "stdout",
     "output_type": "stream",
     "text": [
      "Enter Any Number:13\n",
      "Given Number is Odd.\n"
     ]
    }
   ],
   "source": [
    "# Write a program to check  whether the given number is even or odd #\n",
    "\n",
    "num=int(input(\"Enter Any Number:\"))\n",
    "if num%2==0:\n",
    "    print(\"Given Number is Even.\")\n",
    "else:\n",
    "    print(\"Given Number is Odd.\")"
   ]
  },
  {
   "cell_type": "code",
   "execution_count": 11,
   "id": "f55a6e45",
   "metadata": {},
   "outputs": [
    {
     "name": "stdout",
     "output_type": "stream",
     "text": [
      "Enter Any Number:333\n",
      "Given Number is not Bitween 1to 100\n"
     ]
    }
   ],
   "source": [
    "# Write a program to check whether the given number is in between 1 to 100 #\n",
    "\n",
    "num=int(input(\"Enter Any Number:\"))\n",
    "if num>=1 and num<=100:\n",
    "    print(\"Given Number is Between 1 to 100\")\n",
    "else:\n",
    "    print(\"Given Number is not Bitween 1 to 100\")"
   ]
  },
  {
   "cell_type": "code",
   "execution_count": 16,
   "id": "0a7bd6b0",
   "metadata": {},
   "outputs": [
    {
     "name": "stdout",
     "output_type": "stream",
     "text": [
      "Enter a Digit from 0 to 9 : 11\n",
      "PLEASE ENTER A DIGIT FROM 0 TO 9:\n"
     ]
    }
   ],
   "source": [
    "# Write a program to take a single digit number from the key_board and print is value in English Word \n",
    "\n",
    "n=int(input(\"Enter a Digit from 0 to 9 : \"))\n",
    "if n==0:\n",
    "    print(\"ZERO\")\n",
    "elif n==1:\n",
    "    Print(\"ONE\")\n",
    "elif n==2:\n",
    "    print(\"TWO\")\n",
    "elif n==3:\n",
    "    print(\"THREE\")\n",
    "elif n==4:\n",
    "    print(\"FOUR\")\n",
    "elif n==5:\n",
    "    print(\"FIVE\")\n",
    "elif n==6:\n",
    "    print(\"SIX\")\n",
    "elif n==7:\n",
    "    print(\"SEVEN\")\n",
    "elif n==8:\n",
    "    print(\"EIGHT\")\n",
    "elif n==9:\n",
    "    print(\"NINE\")\n",
    "else:\n",
    "    print(\"PLEASE ENTER A DIGIT FROM 0 TO 9:\")"
   ]
  },
  {
   "cell_type": "code",
   "execution_count": null,
   "id": "f258d32a",
   "metadata": {},
   "outputs": [],
   "source": []
  },
  {
   "cell_type": "code",
   "execution_count": null,
   "id": "3d95ad10",
   "metadata": {},
   "outputs": [],
   "source": []
  }
 ],
 "metadata": {
  "kernelspec": {
   "display_name": "Python 3 (ipykernel)",
   "language": "python",
   "name": "python3"
  },
  "language_info": {
   "codemirror_mode": {
    "name": "ipython",
    "version": 3
   },
   "file_extension": ".py",
   "mimetype": "text/x-python",
   "name": "python",
   "nbconvert_exporter": "python",
   "pygments_lexer": "ipython3",
   "version": "3.10.9"
  }
 },
 "nbformat": 4,
 "nbformat_minor": 5
}
