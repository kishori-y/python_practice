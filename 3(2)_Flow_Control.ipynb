{
 "cells": [
  {
   "cell_type": "markdown",
   "id": "8e05dc77",
   "metadata": {},
   "source": [
    "# 2 Iterative Statements"
   ]
  },
  {
   "cell_type": "markdown",
   "id": "6159b698",
   "metadata": {},
   "source": [
    "### 1 for loop"
   ]
  },
  {
   "cell_type": "code",
   "execution_count": 2,
   "id": "02ddc2a8",
   "metadata": {},
   "outputs": [
    {
     "name": "stdout",
     "output_type": "stream",
     "text": [
      "S\n",
      "u\n",
      "n\n",
      "n\n",
      "y\n",
      " \n",
      "L\n",
      "e\n",
      "o\n",
      "n\n",
      "e\n"
     ]
    }
   ],
   "source": [
    "s=\"Sunny Leone\"\n",
    "for x in s:\n",
    "    print(x)"
   ]
  },
  {
   "cell_type": "markdown",
   "id": "10627bfb",
   "metadata": {},
   "source": [
    "# To print characters present in string index wise #\n"
   ]
  },
  {
   "cell_type": "code",
   "execution_count": 3,
   "id": "c2dddd53",
   "metadata": {},
   "outputs": [
    {
     "name": "stdout",
     "output_type": "stream",
     "text": [
      "Enter Some String:kishori\n",
      "The character present at 0 index is k\n",
      "The character present at 1 index is i\n",
      "The character present at 2 index is s\n",
      "The character present at 3 index is h\n",
      "The character present at 4 index is o\n",
      "The character present at 5 index is r\n",
      "The character present at 6 index is i\n"
     ]
    }
   ],
   "source": [
    "# To print characters present in string index wise #\n",
    "\n",
    "s=input(\"Enter Some String:\")\n",
    "i=0\n",
    "for x in s:\n",
    "    print(\"The character present at\",i,\"index is\",x)\n",
    "    i=i+1"
   ]
  },
  {
   "cell_type": "markdown",
   "id": "d0239dd8",
   "metadata": {},
   "source": [
    "# To print Hello 10 times"
   ]
  },
  {
   "cell_type": "code",
   "execution_count": 4,
   "id": "a35c2b18",
   "metadata": {},
   "outputs": [
    {
     "name": "stdout",
     "output_type": "stream",
     "text": [
      "Hello\n",
      "Hello\n",
      "Hello\n",
      "Hello\n",
      "Hello\n",
      "Hello\n",
      "Hello\n",
      "Hello\n",
      "Hello\n",
      "Hello\n"
     ]
    }
   ],
   "source": [
    "# To print Hello 10 times\n",
    "\n",
    "for x in range(10):\n",
    "    print(\"Hello\")"
   ]
  },
  {
   "cell_type": "markdown",
   "id": "7d98fdd1",
   "metadata": {},
   "source": [
    "# To display numbers from 0 to 10\n"
   ]
  },
  {
   "cell_type": "code",
   "execution_count": 5,
   "id": "db08eec3",
   "metadata": {},
   "outputs": [
    {
     "name": "stdout",
     "output_type": "stream",
     "text": [
      "0\n",
      "1\n",
      "2\n",
      "3\n",
      "4\n",
      "5\n",
      "6\n",
      "7\n",
      "8\n",
      "9\n",
      "10\n"
     ]
    }
   ],
   "source": [
    "# To display numbers from 0 to 10\n",
    "\n",
    "for x in range(11):\n",
    "    print(x)"
   ]
  },
  {
   "cell_type": "markdown",
   "id": "e74380b5",
   "metadata": {},
   "source": [
    "# To display odd numbers from 0 to 20"
   ]
  },
  {
   "cell_type": "code",
   "execution_count": 6,
   "id": "ab2477b8",
   "metadata": {},
   "outputs": [
    {
     "name": "stdout",
     "output_type": "stream",
     "text": [
      "1\n",
      "3\n",
      "5\n",
      "7\n",
      "9\n",
      "11\n",
      "13\n",
      "15\n",
      "17\n",
      "19\n"
     ]
    }
   ],
   "source": [
    "# To display odd numbers from 0 to 20\n",
    "\n",
    "for x in range(21):\n",
    "    if(x%2!=0):\n",
    "        print(x)"
   ]
  },
  {
   "cell_type": "markdown",
   "id": "50b78053",
   "metadata": {},
   "source": [
    "# To display numbers from 10 to 1 in descending"
   ]
  },
  {
   "cell_type": "code",
   "execution_count": 7,
   "id": "6214101b",
   "metadata": {},
   "outputs": [
    {
     "name": "stdout",
     "output_type": "stream",
     "text": [
      "10\n",
      "9\n",
      "8\n",
      "7\n",
      "6\n",
      "5\n",
      "4\n",
      "3\n",
      "2\n",
      "1\n"
     ]
    }
   ],
   "source": [
    "# To display numbers from 10 to 1 in descending\n",
    "\n",
    "for x in range(10,0,-1):\n",
    "    print(x)\n"
   ]
  },
  {
   "cell_type": "markdown",
   "id": "4c6ebfaa",
   "metadata": {},
   "source": [
    "#  To print sum of numbers present inside list"
   ]
  },
  {
   "cell_type": "code",
   "execution_count": 8,
   "id": "b1be8608",
   "metadata": {},
   "outputs": [
    {
     "name": "stdout",
     "output_type": "stream",
     "text": [
      "Enter List:[10,20,30,40]\n",
      "The Sum= 100\n"
     ]
    }
   ],
   "source": [
    "#  To print sum of numbers present inside list \n",
    "\n",
    "list=eval(input(\"Enter List:\"))\n",
    "sum=0;\n",
    "for x in list:\n",
    "    sum=sum+x;\n",
    "print(\"The Sum=\",sum)"
   ]
  },
  {
   "cell_type": "markdown",
   "id": "24fb2881",
   "metadata": {},
   "source": [
    "# 2 while loop"
   ]
  },
  {
   "cell_type": "markdown",
   "id": "37a44f73",
   "metadata": {},
   "source": [
    "# To print numbers from1 to 10 by using while loop "
   ]
  },
  {
   "cell_type": "code",
   "execution_count": 9,
   "id": "868d85fd",
   "metadata": {},
   "outputs": [
    {
     "name": "stdout",
     "output_type": "stream",
     "text": [
      "1\n",
      "2\n",
      "3\n",
      "4\n",
      "5\n",
      "6\n",
      "7\n",
      "8\n",
      "9\n",
      "10\n"
     ]
    }
   ],
   "source": [
    "# To print numbers from1 to 10 by using while loop \n",
    "\n",
    "x=1\n",
    "while x<=10:\n",
    "    print(x)\n",
    "    x=x+1\n",
    "    "
   ]
  },
  {
   "cell_type": "markdown",
   "id": "b616ddb6",
   "metadata": {},
   "source": [
    "# To display the sum of first n numbers"
   ]
  },
  {
   "cell_type": "code",
   "execution_count": 10,
   "id": "a6271096",
   "metadata": {},
   "outputs": [
    {
     "name": "stdout",
     "output_type": "stream",
     "text": [
      "Enter number:6\n",
      "The sum of first 6 numbers is: 21\n"
     ]
    }
   ],
   "source": [
    "# To display the sum of first n numbers\n",
    "\n",
    "n=int(input(\"Enter number:\"))\n",
    "sum=0\n",
    "i=1\n",
    "while i<=n:\n",
    "    sum=sum+i\n",
    "    i=i+1\n",
    "print(\"The sum of first\",n,\"numbers is:\",sum)    "
   ]
  },
  {
   "cell_type": "markdown",
   "id": "be133895",
   "metadata": {},
   "source": [
    "# write a program to prompt user to enter some name  until entering durga."
   ]
  },
  {
   "cell_type": "code",
   "execution_count": 11,
   "id": "14dc6674",
   "metadata": {},
   "outputs": [
    {
     "name": "stdout",
     "output_type": "stream",
     "text": [
      "Enter Name:kishori\n",
      "Enter Name:amol\n",
      "Enter Name:lokesh\n",
      "Enter Name:durga\n",
      "Thanks for confirmation\n"
     ]
    }
   ],
   "source": [
    "# write a program to prompt user to enter some name  until entering durga.\n",
    "\n",
    "name=\"\"\n",
    "while name != \"durga\":\n",
    "    name=input(\"Enter Name:\")\n",
    "print (\"Thanks for confirmation\")"
   ]
  },
  {
   "cell_type": "markdown",
   "id": "3940388c",
   "metadata": {},
   "source": [
    "# INFINITE LOOPS"
   ]
  },
  {
   "cell_type": "code",
   "execution_count": null,
   "id": "9251dd07",
   "metadata": {},
   "outputs": [],
   "source": [
    "# Infinite Loops (Don't run this code)\n",
    "\n",
    " i=0;\n",
    "while true:\n",
    "    i=i+1;\n",
    "    print(\"Hello\",i)"
   ]
  },
  {
   "cell_type": "code",
   "execution_count": null,
   "id": "911ce683",
   "metadata": {},
   "outputs": [],
   "source": []
  }
 ],
 "metadata": {
  "kernelspec": {
   "display_name": "Python 3 (ipykernel)",
   "language": "python",
   "name": "python3"
  },
  "language_info": {
   "codemirror_mode": {
    "name": "ipython",
    "version": 3
   },
   "file_extension": ".py",
   "mimetype": "text/x-python",
   "name": "python",
   "nbconvert_exporter": "python",
   "pygments_lexer": "ipython3",
   "version": "3.10.9"
  }
 },
 "nbformat": 4,
 "nbformat_minor": 5
}
