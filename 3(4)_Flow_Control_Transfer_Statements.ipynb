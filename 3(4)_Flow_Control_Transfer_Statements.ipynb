{
 "cells": [
  {
   "cell_type": "markdown",
   "id": "219ba652",
   "metadata": {},
   "source": [
    "# TRANSFER STATEMENTS"
   ]
  },
  {
   "cell_type": "markdown",
   "id": "691efc1a",
   "metadata": {},
   "source": [
    "## 1 BREAK: \n",
    "### We can use break statement inside loops to break loop execution based on some condition."
   ]
  },
  {
   "cell_type": "code",
   "execution_count": 1,
   "id": "9e2ce589",
   "metadata": {},
   "outputs": [
    {
     "name": "stdout",
     "output_type": "stream",
     "text": [
      "0\n",
      "1\n",
      "2\n",
      "3\n",
      "4\n",
      "5\n",
      "6\n",
      "Processing is enough..plz break\n"
     ]
    }
   ],
   "source": [
    "for i in range (10):\n",
    "    if i==7:\n",
    "        print(\"Processing is enough..plz break\")\n",
    "        break\n",
    "    print(i)"
   ]
  },
  {
   "cell_type": "code",
   "execution_count": 2,
   "id": "e824ff0a",
   "metadata": {},
   "outputs": [
    {
     "name": "stdout",
     "output_type": "stream",
     "text": [
      "10\n",
      "20\n",
      "To place this order insurence must be required\n"
     ]
    }
   ],
   "source": [
    "cart=[10,20,600,60,70]\n",
    "for item in cart:\n",
    "    if item>500:\n",
    "        print(\"To place this order insurence must be required\")\n",
    "        break\n",
    "    print(item)"
   ]
  },
  {
   "cell_type": "markdown",
   "id": "ade55ebe",
   "metadata": {},
   "source": [
    "# 2 CONTINUE:\n",
    "### We can use continue statement to skip current iteration and continue next iteration."
   ]
  },
  {
   "cell_type": "code",
   "execution_count": 4,
   "id": "0e0c857b",
   "metadata": {},
   "outputs": [
    {
     "name": "stdout",
     "output_type": "stream",
     "text": [
      "1\n",
      "3\n",
      "5\n",
      "7\n",
      "9\n"
     ]
    }
   ],
   "source": [
    "# Print odd numbers in the range 0 to 9\n",
    "\n",
    "for i in range (10):\n",
    "    if i%2==0:\n",
    "        continue\n",
    "    print(i)\n",
    "        "
   ]
  },
  {
   "cell_type": "code",
   "execution_count": 5,
   "id": "022a593a",
   "metadata": {},
   "outputs": [
    {
     "name": "stdout",
     "output_type": "stream",
     "text": [
      "10\n",
      "20\n",
      "We cannot process this item:  500\n",
      "We cannot process this item:  700\n",
      "50\n",
      "60\n"
     ]
    }
   ],
   "source": [
    "cart=[10,20,500,700,50,60]\n",
    "for item in cart:\n",
    "    if item>=500:\n",
    "        print(\"We cannot process this item: \",item)\n",
    "        continue\n",
    "    print(item)"
   ]
  },
  {
   "cell_type": "code",
   "execution_count": 10,
   "id": "523ad218",
   "metadata": {},
   "outputs": [
    {
     "name": "stdout",
     "output_type": "stream",
     "text": [
      "100/10=10.0\n",
      "100/20=5.0\n",
      "Hey how we can divide with zero .. just skipping\n",
      "100/5=20.0\n",
      "Hey how we can divide with zero .. just skipping\n",
      "100/30=3.3333333333333335\n"
     ]
    }
   ],
   "source": [
    "numbers=[10,20,0,5,0,30]\n",
    "for n in numbers:\n",
    "    if n==0:\n",
    "        print(\"Hey how we can divide with zero .. just skipping\")\n",
    "        continue\n",
    "    print(\"100/{}={}\".format(n,100/n))"
   ]
  },
  {
   "cell_type": "markdown",
   "id": "5710a435",
   "metadata": {},
   "source": [
    "## LOOPS WITH ELSE BLOCK:"
   ]
  },
  {
   "cell_type": "markdown",
   "id": "aa0f7366",
   "metadata": {},
   "source": [
    "### Inside loop execution, if break statement not executed, then only else part will be executed.\n",
    "### (else means loop without break)"
   ]
  },
  {
   "cell_type": "code",
   "execution_count": 3,
   "id": "c712dfb2",
   "metadata": {},
   "outputs": [
    {
     "name": "stdout",
     "output_type": "stream",
     "text": [
      "10\n",
      "20\n",
      "30\n",
      "40\n",
      "50\n",
      "congrats..all item processed successfully\n"
     ]
    }
   ],
   "source": [
    "cart=[10,20,30,40,50]\n",
    "for item in cart:\n",
    "    if item >=500:\n",
    "        print(\"We cannot process this order\")\n",
    "        break\n",
    "    print(item)\n",
    "else:\n",
    "    print(\"congrats..all item processed successfully\")"
   ]
  },
  {
   "cell_type": "code",
   "execution_count": 4,
   "id": "f0affd1e",
   "metadata": {},
   "outputs": [
    {
     "name": "stdout",
     "output_type": "stream",
     "text": [
      "10\n",
      "20\n",
      "We cannot process this order\n"
     ]
    }
   ],
   "source": [
    "cart=[10,20,600,30,40,50]\n",
    "for item in cart:\n",
    "    if item >=500:\n",
    "        print(\"We cannot process this order\")\n",
    "        break\n",
    "    print(item)\n",
    "else:\n",
    "    print(\"congrats..all item processed successfully\")"
   ]
  },
  {
   "cell_type": "markdown",
   "id": "3e99e089",
   "metadata": {},
   "source": [
    "# Q.1 What is the difference between for loop and while loop?\n",
    "   ###     We can use loops to repeat code execution.\n",
    "   ###     Repeat code for every item in sequence ==> for loop.\n",
    "   ###     Repeat code as long as condition is true ==> While loop."
   ]
  },
  {
   "cell_type": "markdown",
   "id": "3ccdeb53",
   "metadata": {},
   "source": [
    "# Q.2 How to exit from the loop?\n",
    "### By using break statement."
   ]
  },
  {
   "cell_type": "markdown",
   "id": "d0aaa344",
   "metadata": {},
   "source": [
    "# Q.3 How to skip some iterations inside loop?\n",
    "### By using continue statement."
   ]
  },
  {
   "cell_type": "markdown",
   "id": "1d772518",
   "metadata": {},
   "source": [
    "# Q.4 When else part will be executed wrt loops?\n",
    "### If loop executed without break"
   ]
  },
  {
   "cell_type": "markdown",
   "id": "f80d30d5",
   "metadata": {},
   "source": [
    "# 3 pass statement:"
   ]
  },
  {
   "cell_type": "code",
   "execution_count": 6,
   "id": "87db29c2",
   "metadata": {},
   "outputs": [
    {
     "name": "stdout",
     "output_type": "stream",
     "text": [
      "0\n",
      "9\n",
      "18\n",
      "27\n",
      "36\n",
      "45\n",
      "54\n",
      "63\n",
      "72\n",
      "81\n",
      "90\n",
      "99\n"
     ]
    }
   ],
   "source": [
    "# use case of pass:\n",
    "\n",
    "for i in range (100):\n",
    "    if i%9==0:\n",
    "        print(i)\n",
    "    else:pass"
   ]
  },
  {
   "cell_type": "code",
   "execution_count": 7,
   "id": "47fdefa9",
   "metadata": {},
   "outputs": [
    {
     "name": "stdout",
     "output_type": "stream",
     "text": [
      "10\n"
     ]
    }
   ],
   "source": [
    "# del statement:\n",
    "\n",
    "x=10\n",
    "print(x)\n",
    "del x"
   ]
  },
  {
   "cell_type": "code",
   "execution_count": 8,
   "id": "13a9dc2d",
   "metadata": {},
   "outputs": [
    {
     "ename": "NameError",
     "evalue": "name 'x' is not defined",
     "output_type": "error",
     "traceback": [
      "\u001b[1;31m---------------------------------------------------------------------------\u001b[0m",
      "\u001b[1;31mNameError\u001b[0m                                 Traceback (most recent call last)",
      "Cell \u001b[1;32mIn[8], line 5\u001b[0m\n\u001b[0;32m      3\u001b[0m x\u001b[38;5;241m=\u001b[39m\u001b[38;5;241m10\u001b[39m\n\u001b[0;32m      4\u001b[0m \u001b[38;5;28;01mdel\u001b[39;00m x\n\u001b[1;32m----> 5\u001b[0m \u001b[38;5;28mprint\u001b[39m(\u001b[43mx\u001b[49m)\n",
      "\u001b[1;31mNameError\u001b[0m: name 'x' is not defined"
     ]
    }
   ],
   "source": [
    "# del statement (NameError)\n",
    "\n",
    "x=10\n",
    "del x\n",
    "print(x)"
   ]
  },
  {
   "cell_type": "code",
   "execution_count": 11,
   "id": "658c1dbd",
   "metadata": {},
   "outputs": [
    {
     "name": "stdout",
     "output_type": "stream",
     "text": [
      "durga\n"
     ]
    }
   ],
   "source": [
    "s=\"durga\"\n",
    "print(s)\n",
    "del s  # valid\n",
    "#del s[0]  # TypeError: 'str' object doesn't support item deletion"
   ]
  },
  {
   "cell_type": "code",
   "execution_count": 12,
   "id": "022be983",
   "metadata": {},
   "outputs": [
    {
     "ename": "NameError",
     "evalue": "name 's' is not defined",
     "output_type": "error",
     "traceback": [
      "\u001b[1;31m---------------------------------------------------------------------------\u001b[0m",
      "\u001b[1;31mNameError\u001b[0m                                 Traceback (most recent call last)",
      "Cell \u001b[1;32mIn[12], line 5\u001b[0m\n\u001b[0;32m      3\u001b[0m s\u001b[38;5;241m=\u001b[39m\u001b[38;5;124m\"\u001b[39m\u001b[38;5;124mdurga\u001b[39m\u001b[38;5;124m\"\u001b[39m\n\u001b[0;32m      4\u001b[0m \u001b[38;5;28;01mdel\u001b[39;00m s\n\u001b[1;32m----> 5\u001b[0m \u001b[38;5;28mprint\u001b[39m(\u001b[43ms\u001b[49m)\n",
      "\u001b[1;31mNameError\u001b[0m: name 's' is not defined"
     ]
    }
   ],
   "source": [
    "# Difference between del and None:\n",
    "\n",
    "s=\"durga\"\n",
    "del s\n",
    "print(s)  # NameError: name 's' is not defined"
   ]
  },
  {
   "cell_type": "code",
   "execution_count": 13,
   "id": "2701fe50",
   "metadata": {},
   "outputs": [
    {
     "name": "stdout",
     "output_type": "stream",
     "text": [
      "None\n"
     ]
    }
   ],
   "source": [
    "s=\"durga\"\n",
    "s=None\n",
    "print(s)"
   ]
  },
  {
   "cell_type": "code",
   "execution_count": null,
   "id": "029714b5",
   "metadata": {},
   "outputs": [],
   "source": []
  }
 ],
 "metadata": {
  "kernelspec": {
   "display_name": "Python 3 (ipykernel)",
   "language": "python",
   "name": "python3"
  },
  "language_info": {
   "codemirror_mode": {
    "name": "ipython",
    "version": 3
   },
   "file_extension": ".py",
   "mimetype": "text/x-python",
   "name": "python",
   "nbconvert_exporter": "python",
   "pygments_lexer": "ipython3",
   "version": "3.10.9"
  }
 },
 "nbformat": 4,
 "nbformat_minor": 5
}
