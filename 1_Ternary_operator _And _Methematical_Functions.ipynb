{
 "cells": [
  {
   "cell_type": "markdown",
   "id": "1ac3f784",
   "metadata": {},
   "source": [
    "# Ternary Operator"
   ]
  },
  {
   "cell_type": "code",
   "execution_count": 1,
   "id": "2a23ae67",
   "metadata": {},
   "outputs": [
    {
     "name": "stdout",
     "output_type": "stream",
     "text": [
      "40\n"
     ]
    }
   ],
   "source": [
    "a,b=60,20\n",
    "x=30 if a<b else 40\n",
    "print(x)"
   ]
  },
  {
   "cell_type": "code",
   "execution_count": 2,
   "id": "22af97b0",
   "metadata": {},
   "outputs": [
    {
     "name": "stdout",
     "output_type": "stream",
     "text": [
      "Enter First Number= 67\n",
      "Enter Second Number= 89\n",
      "Minimum Value=  67\n"
     ]
    }
   ],
   "source": [
    "a=int(input(\"Enter First Number= \"))\n",
    "b=int(input(\"Enter Second Number= \"))\n",
    "min=a if a<b else b\n",
    "print(\"Minimum Value= \",min)\n"
   ]
  },
  {
   "cell_type": "code",
   "execution_count": 3,
   "id": "bcf5eecd",
   "metadata": {},
   "outputs": [
    {
     "name": "stdout",
     "output_type": "stream",
     "text": [
      "Enter First Number= 67\n",
      "Enter Second Number= 78\n",
      "Enter Third Number= 56\n",
      "Minimum Value=  56\n"
     ]
    }
   ],
   "source": [
    "# Write a program for minium of 3 numbers #\n",
    "\n",
    "a=int(input(\"Enter First Number= \"))\n",
    "b=int(input(\"Enter Second Number= \"))\n",
    "c=int(input(\"Enter Third Number= \"))\n",
    "min=a if a<b and a<c else b if b<c else c\n",
    "print(\"Minimum Value= \",min)\n"
   ]
  },
  {
   "cell_type": "code",
   "execution_count": 4,
   "id": "28e27d13",
   "metadata": {},
   "outputs": [
    {
     "name": "stdout",
     "output_type": "stream",
     "text": [
      "Enter First Number= 88\n",
      "Enter Second Number= 76\n",
      "Enter Third Number= 78\n",
      "Maximum Value=  88\n"
     ]
    }
   ],
   "source": [
    "# Write a program for maximum 3 numbers #\n",
    "\n",
    "a=int(input(\"Enter First Number= \"))\n",
    "b=int(input(\"Enter Second Number= \"))\n",
    "c=int(input(\"Enter Third Number= \"))\n",
    "max=a if a>b and a>c else b if b>c else c\n",
    "print(\"Maximum Value= \",max)\n"
   ]
  },
  {
   "cell_type": "code",
   "execution_count": 7,
   "id": "9c69958d",
   "metadata": {},
   "outputs": [
    {
     "name": "stdout",
     "output_type": "stream",
     "text": [
      "Enter First Number= 66\n",
      "Enter Second Number= 99\n",
      "First Number is Less than Second Number\n"
     ]
    }
   ],
   "source": [
    "# Less than / Greater than\n",
    "\n",
    "a=int(input(\"Enter First Number= \"))\n",
    "b=int(input(\"Enter Second Number= \"))\n",
    "print(\"Both Numbers are Equal\"if a==b else \"First Number is Less than Second Number\"if a<b else\n",
    "      \"First Number is Greater than Second Number\")"
   ]
  },
  {
   "cell_type": "markdown",
   "id": "12435540",
   "metadata": {},
   "source": [
    "# Special Operators #"
   ]
  },
  {
   "cell_type": "markdown",
   "id": "4b3afd6a",
   "metadata": {},
   "source": [
    "## 1 Identity Operator ##"
   ]
  },
  {
   "cell_type": "code",
   "execution_count": 8,
   "id": "59251b2d",
   "metadata": {},
   "outputs": [
    {
     "name": "stdout",
     "output_type": "stream",
     "text": [
      "True\n"
     ]
    }
   ],
   "source": [
    "a=10\n",
    "b=10\n",
    "print(a is b)"
   ]
  },
  {
   "cell_type": "code",
   "execution_count": 9,
   "id": "650cc53b",
   "metadata": {},
   "outputs": [
    {
     "name": "stdout",
     "output_type": "stream",
     "text": [
      "True\n"
     ]
    }
   ],
   "source": [
    "x=True\n",
    "y=True\n",
    "print(x is y)"
   ]
  },
  {
   "cell_type": "code",
   "execution_count": 10,
   "id": "7f437886",
   "metadata": {},
   "outputs": [
    {
     "name": "stdout",
     "output_type": "stream",
     "text": [
      "1490846293232\n",
      "1490846293232\n",
      "True\n"
     ]
    }
   ],
   "source": [
    "a=\"durga\"\n",
    "b=\"durga\"\n",
    "print(id(a))\n",
    "print(id(b))\n",
    "print(a is b)"
   ]
  },
  {
   "cell_type": "code",
   "execution_count": 11,
   "id": "bf1b36c2",
   "metadata": {},
   "outputs": [
    {
     "name": "stdout",
     "output_type": "stream",
     "text": [
      "1490846597632\n",
      "1490846312320\n",
      "False\n",
      "True\n",
      "True\n"
     ]
    }
   ],
   "source": [
    "list1=[\"one\",\"two\",\"three\"]\n",
    "list2=[\"one\",\"two\",\"three\"]\n",
    "print(id(list1))\n",
    "print(id(list2))\n",
    "print(list1 is list2)# is operator use for address comparision\n",
    "print(list1 is not list2)\n",
    "print(list1 == list2)# == operator use for content comparision"
   ]
  },
  {
   "cell_type": "markdown",
   "id": "6b00824e",
   "metadata": {},
   "source": [
    "## 2 Membership Operators"
   ]
  },
  {
   "cell_type": "code",
   "execution_count": 12,
   "id": "0a005594",
   "metadata": {},
   "outputs": [
    {
     "name": "stdout",
     "output_type": "stream",
     "text": [
      "True\n",
      "False\n",
      "True\n",
      "True\n"
     ]
    }
   ],
   "source": [
    "x=\"Learning python is very easy!!!\"\n",
    "print('h' in x)\n",
    "print('d' in x)\n",
    "print('d' not in x)\n",
    "print('python' in x)"
   ]
  },
  {
   "cell_type": "code",
   "execution_count": 13,
   "id": "6f34a67a",
   "metadata": {},
   "outputs": [
    {
     "name": "stdout",
     "output_type": "stream",
     "text": [
      "True\n",
      "False\n",
      "True\n"
     ]
    }
   ],
   "source": [
    "list1=[\"sunny\",\"bunny\",\"chinny\",\"pinny\"]\n",
    "print(\"sunny\" in list1)\n",
    "print(\"tunny\" in list1)\n",
    "print(\"tunny\" not in list1)"
   ]
  },
  {
   "cell_type": "markdown",
   "id": "60283d7e",
   "metadata": {},
   "source": [
    "### Operator Procedence"
   ]
  },
  {
   "cell_type": "markdown",
   "id": "bf32692d",
   "metadata": {},
   "source": [
    "\n",
    "#1 ()  => Parenthesis \n",
    "#2 (**)  => Exponentional Operator\n",
    "#3 (~ , -)  => Bitwise complement operator,unary minus operator\n",
    "#4 (* , / , % , //)  => Multiplication, Division, Modulo, Floor, Division\n",
    "#5 (+ , -) => Addition, Substraction\n",
    "#6 (<<,>>) =>  Left and Right Shift\n",
    "#7 (&) => Bitwise And"
   ]
  },
  {
   "cell_type": "code",
   "execution_count": 15,
   "id": "82fccbb5",
   "metadata": {},
   "outputs": [
    {
     "name": "stdout",
     "output_type": "stream",
     "text": [
      "23\n",
      "26\n"
     ]
    }
   ],
   "source": [
    "print(3+10*2)\n",
    "print((3+10)*2)"
   ]
  },
  {
   "cell_type": "code",
   "execution_count": 16,
   "id": "dcdd58d4",
   "metadata": {},
   "outputs": [
    {
     "name": "stdout",
     "output_type": "stream",
     "text": [
      "100.0\n",
      "100.0\n",
      "70.0\n"
     ]
    }
   ],
   "source": [
    "a,b,c,d=30,20,10,5\n",
    "print((a+b)*c/d)\n",
    "print((a+b)*(c/d))\n",
    "print(a+(b*c)/d)"
   ]
  },
  {
   "cell_type": "code",
   "execution_count": 17,
   "id": "c18fcc5b",
   "metadata": {},
   "outputs": [
    {
     "data": {
      "text/plain": [
       "15.0"
      ]
     },
     "execution_count": 17,
     "metadata": {},
     "output_type": "execute_result"
    }
   ],
   "source": [
    "3/2*4+3+(10/5)**3-2"
   ]
  },
  {
   "cell_type": "markdown",
   "id": "044b2f90",
   "metadata": {},
   "source": [
    "# MATHEMATICAL FUNCTIONS (math Module)"
   ]
  },
  {
   "cell_type": "code",
   "execution_count": 18,
   "id": "7204e4fb",
   "metadata": {},
   "outputs": [
    {
     "name": "stdout",
     "output_type": "stream",
     "text": [
      "4.0\n",
      "3.141592653589793\n"
     ]
    }
   ],
   "source": [
    "import math\n",
    "print(math.sqrt(16))\n",
    "print(math.pi)"
   ]
  },
  {
   "cell_type": "code",
   "execution_count": 19,
   "id": "94676262",
   "metadata": {},
   "outputs": [
    {
     "name": "stdout",
     "output_type": "stream",
     "text": [
      "4.0\n",
      "3.141592653589793\n"
     ]
    }
   ],
   "source": [
    "import math as m # we create alias name m\n",
    "print(m.sqrt(16))\n",
    "print(m.pi)"
   ]
  },
  {
   "cell_type": "code",
   "execution_count": 20,
   "id": "8acc2044",
   "metadata": {},
   "outputs": [
    {
     "name": "stdout",
     "output_type": "stream",
     "text": [
      "4.0\n",
      "3.141592653589793\n"
     ]
    }
   ],
   "source": [
    "from math import sqrt,pi\n",
    "print(sqrt(16))\n",
    "print(pi)"
   ]
  },
  {
   "cell_type": "code",
   "execution_count": 22,
   "id": "ed45696c",
   "metadata": {},
   "outputs": [
    {
     "name": "stdout",
     "output_type": "stream",
     "text": [
      "Area of circle is =  804.247719318987\n"
     ]
    }
   ],
   "source": [
    "from math import pi\n",
    "r=16\n",
    "print(\"Area of circle is = \",pi*r**2)"
   ]
  },
  {
   "cell_type": "markdown",
   "id": "16d5db95",
   "metadata": {},
   "source": []
  },
  {
   "cell_type": "code",
   "execution_count": 1,
   "id": "80517879",
   "metadata": {},
   "outputs": [
    {
     "name": "stdout",
     "output_type": "stream",
     "text": [
      "Enter any Number= 3\n",
      "Square is=  9\n"
     ]
    }
   ],
   "source": [
    "a=int(input(\"Enter any Number= \"))\n",
    "sqr=a*a\n",
    "print(\"Square is= \",sqr)"
   ]
  },
  {
   "cell_type": "code",
   "execution_count": 3,
   "id": "13d99ba3",
   "metadata": {},
   "outputs": [
    {
     "name": "stdout",
     "output_type": "stream",
     "text": [
      "Enter any Number= 16\n",
      "Square root is= 8.0\n"
     ]
    }
   ],
   "source": [
    "b=int(input(\"Enter any Number= \"))\n",
    "sqrt=b*0.5\n",
    "print(\"Square root is=\",sqrt)"
   ]
  },
  {
   "cell_type": "markdown",
   "id": "5b22e906",
   "metadata": {},
   "source": [
    "# INPUT AND OUTPUT STATEMENTS"
   ]
  },
  {
   "cell_type": "code",
   "execution_count": 27,
   "id": "ccb60424",
   "metadata": {},
   "outputs": [
    {
     "name": "stdout",
     "output_type": "stream",
     "text": [
      "Enter First Value = 45\n",
      "Enter Second Value = 65\n",
      "The sum =  110\n"
     ]
    }
   ],
   "source": [
    "# write a program to read 2 numbers from the keyboard and print sum #\n",
    "\n",
    "x=int(input(\"Enter First Value = \"))\n",
    "y=int(input(\"Enter Second Value = \"))\n",
    "print(\"The sum = \",x+y)\n",
    " "
   ]
  },
  {
   "cell_type": "code",
   "execution_count": 28,
   "id": "3ffcabcf",
   "metadata": {},
   "outputs": [
    {
     "name": "stdout",
     "output_type": "stream",
     "text": [
      "Enter First Value = 55\n",
      "Enter Second Value = 44\n",
      "The sum =  99\n"
     ]
    }
   ],
   "source": [
    "# write a program to read 2 numbers from the keyboard and print sum #\n",
    "\n",
    "print(\"The sum = \",int(input(\"Enter First Value = \"))+int(input(\"Enter Second Value = \")))"
   ]
  },
  {
   "cell_type": "code",
   "execution_count": 30,
   "id": "55f7e380",
   "metadata": {},
   "outputs": [
    {
     "name": "stdout",
     "output_type": "stream",
     "text": [
      "Enter Employee No. = 100\n",
      "Enter Employee Name = sunny\n",
      "Enter Employee Salary = 1000\n",
      "Enter Employee Address = Mumbai\n",
      "Enter Employee Married ? [True/False] = True\n",
      "Please Confirm Information\n",
      "Employee No. =  100\n",
      "Employee Name =  sunny\n",
      "Employee Salary =  1000.0\n",
      "Employee Address =  Mumbai\n",
      "Employee Married =  True\n"
     ]
    }
   ],
   "source": [
    "# write a program to Employee Data from the keyboard and print that Data #\n",
    "\n",
    "eno=int(input(\"Enter Employee No. = \"))\n",
    "ename=input(\"Enter Employee Name = \")\n",
    "esal=float(input(\"Enter Employee Salary = \"))\n",
    "eaddr=input(\"Enter Employee Address = \")\n",
    "married=bool(input(\"Enter Employee Married ? [True/False] = \"))\n",
    "print(\"Please Confirm Information\")\n",
    "print(\"Employee No. = \",eno)\n",
    "print(\"Employee Name = \",ename)\n",
    "print(\"Employee Salary = \",esal)\n",
    "print(\"Employee Address = \",eaddr)\n",
    "print(\"Employee Married = \",married)\n"
   ]
  },
  {
   "cell_type": "code",
   "execution_count": 36,
   "id": "6be0bccd",
   "metadata": {},
   "outputs": [
    {
     "name": "stdout",
     "output_type": "stream",
     "text": [
      "Enter Two numbers = 10 20\n",
      "Product is =  200\n"
     ]
    }
   ],
   "source": [
    "#How to read Multiple values from the keyboard in a single line #\n",
    "\n",
    "a,b=[int(x) for x in input(\"Enter Two numbers = \").split()]\n",
    "print(\"Product is = \",a*b)"
   ]
  },
  {
   "cell_type": "code",
   "execution_count": 39,
   "id": "575fed80",
   "metadata": {},
   "outputs": [
    {
     "name": "stdout",
     "output_type": "stream",
     "text": [
      "Enter Three numbers = 10.5,20.6,20.1\n",
      "The sum is =  51.2\n"
     ]
    }
   ],
   "source": [
    "# Write a program to read 3 float numbers from the keybord with,seperator and print their sum\n",
    "\n",
    "a,b,c=[float(x) for x in input(\"Enter Three numbers = \").split(',')]\n",
    "print(\"The sum is = \",a+b+c)"
   ]
  },
  {
   "cell_type": "markdown",
   "id": "0b2eee66",
   "metadata": {},
   "source": [
    "## eval()"
   ]
  },
  {
   "cell_type": "code",
   "execution_count": 40,
   "id": "620ae8b2",
   "metadata": {},
   "outputs": [
    {
     "name": "stdout",
     "output_type": "stream",
     "text": [
      "60\n"
     ]
    }
   ],
   "source": [
    "x=eval(\"10+20+30\")\n",
    "print(x)"
   ]
  },
  {
   "cell_type": "code",
   "execution_count": 42,
   "id": "feb5b2ca",
   "metadata": {},
   "outputs": [
    {
     "name": "stdout",
     "output_type": "stream",
     "text": [
      "Enter Expression = 10+2*3/4\n",
      "11.5\n"
     ]
    }
   ],
   "source": [
    "x=eval(input(\"Enter Expression = \"))#(10+2*3/4)\n",
    "print(x)"
   ]
  },
  {
   "cell_type": "code",
   "execution_count": 5,
   "id": "0558dac7",
   "metadata": {},
   "outputs": [
    {
     "name": "stdout",
     "output_type": "stream",
     "text": [
      "Enter List = [66,'gh',88,'hk',90]\n",
      "<class 'list'>\n",
      "[66, 'gh', 88, 'hk', 90]\n"
     ]
    }
   ],
   "source": [
    "l=eval(input(\"Enter List = \"))  #[66,'gh',88,'hk',90]\n",
    "print(type(l))\n",
    "print(l)"
   ]
  },
  {
   "cell_type": "code",
   "execution_count": null,
   "id": "5b4684d0",
   "metadata": {},
   "outputs": [],
   "source": []
  },
  {
   "cell_type": "code",
   "execution_count": null,
   "id": "49339471",
   "metadata": {},
   "outputs": [],
   "source": []
  }
 ],
 "metadata": {
  "kernelspec": {
   "display_name": "Python 3 (ipykernel)",
   "language": "python",
   "name": "python3"
  },
  "language_info": {
   "codemirror_mode": {
    "name": "ipython",
    "version": 3
   },
   "file_extension": ".py",
   "mimetype": "text/x-python",
   "name": "python",
   "nbconvert_exporter": "python",
   "pygments_lexer": "ipython3",
   "version": "3.10.9"
  }
 },
 "nbformat": 4,
 "nbformat_minor": 5
}
