{
 "cells": [
  {
   "cell_type": "markdown",
   "id": "f2e947e8",
   "metadata": {},
   "source": [
    "## Importent Programs regarding String Concept"
   ]
  },
  {
   "cell_type": "code",
   "execution_count": 1,
   "id": "791b306c",
   "metadata": {},
   "outputs": [
    {
     "name": "stdout",
     "output_type": "stream",
     "text": [
      "Enter Some string:durga\n",
      "agrud\n",
      "agrud\n",
      "agrud\n"
     ]
    }
   ],
   "source": [
    "# Q.1 Write a programs to reverse the given String ?\n",
    "\n",
    "# 1 way\n",
    "s=input(\"Enter Some string:\")\n",
    "print(s[::-1])    # 1 way\n",
    "\n",
    "print(''.join(reversed(s)))   # 2 way\n",
    "\n",
    "i=len(s)-1   # 3 way\n",
    "target=''\n",
    "while i>=0:\n",
    "    target=target+s[i]\n",
    "    i=i-1\n",
    "print(target)"
   ]
  },
  {
   "cell_type": "code",
   "execution_count": 2,
   "id": "b7b3c8ae",
   "metadata": {},
   "outputs": [
    {
     "name": "stdout",
     "output_type": "stream",
     "text": [
      "Enter some string: Learning Python is very easy.\n",
      "easy. very is Python Learning\n"
     ]
    }
   ],
   "source": [
    "# Q.2 program to reverse order of words.\n",
    "\n",
    "s=input(\"Enter some string: \")\n",
    "l=s.split()\n",
    "l1=[]\n",
    "i=len(l)-1\n",
    "while i>=0:\n",
    "    l1.append(l[i])\n",
    "    i=i-1\n",
    "output=' '.join(l1)\n",
    "print(output)"
   ]
  },
  {
   "cell_type": "code",
   "execution_count": 3,
   "id": "3e13556e",
   "metadata": {},
   "outputs": [
    {
     "name": "stdout",
     "output_type": "stream",
     "text": [
      "Enter some string:Durga software solutions\n",
      "agruD erawtfos snoitulos\n"
     ]
    }
   ],
   "source": [
    "# Q.3 Program to reverse internal content of each word.\n",
    "\n",
    "s=input(\"Enter some string:\")\n",
    "l=s.split()\n",
    "l1=[]\n",
    "i=0\n",
    "while i<len(l):\n",
    "    l1.append(l[i][::-1])\n",
    "    i=i+1\n",
    "output=' '.join(l1)\n",
    "print(output)"
   ]
  },
  {
   "cell_type": "code",
   "execution_count": 12,
   "id": "b1ea8065",
   "metadata": {},
   "outputs": [
    {
     "name": "stdout",
     "output_type": "stream",
     "text": [
      "Enter Some String:kishori\n",
      "Characters at Even Position: ksoi\n",
      "Characters at Odd Position: ihr\n",
      "Characters at Even Position:\n",
      "k,s,o,i,\n",
      "Characters at Odd Position:\n",
      "i,h,r,\n"
     ]
    }
   ],
   "source": [
    "# Q.4 Write a program to print characters at odd position and even position for the given String?\n",
    "\n",
    "s=input(\"Enter Some String:\")  #  1 Way\n",
    "print(\"Characters at Even Position:\",s[0::2])\n",
    "print(\"Characters at Odd Position:\",s[1::2])\n",
    "\n",
    "i=0  # 2 Way\n",
    "print(\"Characters at Even Position:\")\n",
    "while i<=len(s):\n",
    "    print(s[i],end=',')\n",
    "    i=i+2\n",
    "print()\n",
    "print(\"Characters at Odd Position:\")\n",
    "i=1\n",
    "while i<=len(s)-1:\n",
    "    print(s[i],end=',')\n",
    "    i=i+2\n",
    "print()"
   ]
  },
  {
   "cell_type": "code",
   "execution_count": 19,
   "id": "42950b4d",
   "metadata": {},
   "outputs": [
    {
     "name": "stdout",
     "output_type": "stream",
     "text": [
      "Enter First String:durga\n",
      "Enter Second String:ravisoft\n",
      "druarvgiasoft\n"
     ]
    }
   ],
   "source": [
    "# Q.5 Program to merge characters of 2 string into a single string by taking characters alternatively.\n",
    "\n",
    "s1=input(\"Enter First String:\")\n",
    "s2=input(\"Enter Second String:\")\n",
    "output=''\n",
    "i,j=0,0\n",
    "while i<len(s1) or j<len(s2):\n",
    "    if i<len(s1):\n",
    "        output=output+s1[i]\n",
    "        i+=1\n",
    "    if j<len(s2):\n",
    "        output=output+s2[j]\n",
    "        j+=1\n",
    "print(output)  #(durga-ravisoft ==> druarvgiasoft)\n",
    "    "
   ]
  },
  {
   "cell_type": "code",
   "execution_count": 2,
   "id": "4df457d5",
   "metadata": {},
   "outputs": [
    {
     "name": "stdout",
     "output_type": "stream",
     "text": [
      "Enter Some string; B4A1D3\n",
      "ABD134\n"
     ]
    }
   ],
   "source": [
    "# Q.6 Write a program to sort the characters of the string and first alphabate symbols\n",
    "#     followed by numeric values? (B4A1D3 ==> ABD134)\n",
    "\n",
    "s=input(\"Enter Some string; \")\n",
    "s1=s2=output=''\n",
    "for x in s:\n",
    "    if x.isalpha():\n",
    "        s1=s1+x\n",
    "    else:\n",
    "        s2=s2+x\n",
    "for x in sorted(s1):\n",
    "    output=output+x\n",
    "for x in sorted(s2):\n",
    "    output=output+x\n",
    "print(output)\n",
    "    "
   ]
  },
  {
   "cell_type": "code",
   "execution_count": 3,
   "id": "c0f3cea3",
   "metadata": {},
   "outputs": [
    {
     "name": "stdout",
     "output_type": "stream",
     "text": [
      "Enter some string:a4b3c2\n",
      "aaaabbbcc\n"
     ]
    }
   ],
   "source": [
    "# Q.7 Write the program for the following requirement\n",
    "# a4b3c2 ==> aaaabbbcc\n",
    "\n",
    "s=input(\"Enter some string:\")\n",
    "output=''\n",
    "for x in s:\n",
    "    if x.isalpha():\n",
    "        output=output+x\n",
    "        previous=x\n",
    "    else:\n",
    "        output=output+previous*(int(x)-1)\n",
    "print(output)"
   ]
  },
  {
   "cell_type": "code",
   "execution_count": 6,
   "id": "c4c13659",
   "metadata": {},
   "outputs": [
    {
     "name": "stdout",
     "output_type": "stream",
     "text": [
      "Enter some String:a4k3b2\n",
      "aeknbd\n"
     ]
    }
   ],
   "source": [
    "# Q.8 Write a program to perform the following activity\n",
    "# a4k3b2 ==> aeknbd\n",
    "\n",
    "s=input(\"Enter some String:\")            # chr(unicode) ==> The corresponding character.\n",
    "output=''                                # ord(character) ==> The corresponding unicode value.\n",
    "for x in s:\n",
    "    if x.isalpha():\n",
    "        output=output+x\n",
    "        previous=x\n",
    "    else:\n",
    "        output=output+chr(ord(previous)+int(x))\n",
    "print(output)"
   ]
  },
  {
   "cell_type": "code",
   "execution_count": 7,
   "id": "d7f01066",
   "metadata": {},
   "outputs": [
    {
     "name": "stdout",
     "output_type": "stream",
     "text": [
      "Enter some string:abcdaabbccddefgggeeff\n",
      "abcdefg\n"
     ]
    }
   ],
   "source": [
    "# Q.9 Write a program to remove duplicate characters from the given input string?\n",
    "# abcdaabbccddefgggeeff ==> abcdefg\n",
    "\n",
    "s=input(\"Enter some string:\")\n",
    "l=[]\n",
    "for x in s:\n",
    "    if x not in l:\n",
    "        l.append(x)\n",
    "output=''.join(l)\n",
    "print(output)"
   ]
  },
  {
   "cell_type": "code",
   "execution_count": 10,
   "id": "28c3d9c5",
   "metadata": {},
   "outputs": [
    {
     "name": "stdout",
     "output_type": "stream",
     "text": [
      "Enter some string: ABCABCABBCDE\n",
      "A = 3 Times\n",
      "B = 4 Times\n",
      "C = 3 Times\n",
      "D = 1 Times\n",
      "E = 1 Times\n"
     ]
    }
   ],
   "source": [
    "# Q.10 Write a program to find the number of occurences of each character present in the given string?\n",
    "# ABCABCABBCDE ==> A-3,B-4,C-3,D-1,E-1\n",
    "\n",
    "s=input(\"Enter some string: \")\n",
    "d={}\n",
    "for x in s:\n",
    "    if x in d.keys():\n",
    "        d[x]=d[x]+1\n",
    "    else:\n",
    "        d[x]=1\n",
    "for k,v in d.items():\n",
    "    print(\"{} = {} Times\".format(k,v))"
   ]
  },
  {
   "cell_type": "markdown",
   "id": "f2d6c37b",
   "metadata": {},
   "source": [
    " "
   ]
  },
  {
   "cell_type": "code",
   "execution_count": null,
   "id": "64e832f8",
   "metadata": {},
   "outputs": [],
   "source": []
  }
 ],
 "metadata": {
  "kernelspec": {
   "display_name": "Python 3 (ipykernel)",
   "language": "python",
   "name": "python3"
  },
  "language_info": {
   "codemirror_mode": {
    "name": "ipython",
    "version": 3
   },
   "file_extension": ".py",
   "mimetype": "text/x-python",
   "name": "python",
   "nbconvert_exporter": "python",
   "pygments_lexer": "ipython3",
   "version": "3.10.9"
  }
 },
 "nbformat": 4,
 "nbformat_minor": 5
}
