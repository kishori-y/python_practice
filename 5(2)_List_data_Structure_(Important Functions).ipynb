{
 "cells": [
  {
   "cell_type": "markdown",
   "id": "6eb22d59",
   "metadata": {},
   "source": [
    "# IMPORTANT FUNCTIONS OF LIST :"
   ]
  },
  {
   "cell_type": "markdown",
   "id": "201db160",
   "metadata": {},
   "source": [
    "### 1 To get imformation about list:"
   ]
  },
  {
   "cell_type": "code",
   "execution_count": 3,
   "id": "c1bdf635",
   "metadata": {},
   "outputs": [
    {
     "name": "stdout",
     "output_type": "stream",
     "text": [
      "4\n"
     ]
    }
   ],
   "source": [
    "#1# To get imformation about list:\n",
    "\n",
    "# 1 len():\n",
    "n=[10,20,30,40]\n",
    "print(len(n))\n",
    "    "
   ]
  },
  {
   "cell_type": "code",
   "execution_count": 7,
   "id": "00bdfeb9",
   "metadata": {},
   "outputs": [
    {
     "name": "stdout",
     "output_type": "stream",
     "text": [
      "1\n",
      "4\n",
      "2\n",
      "0\n"
     ]
    }
   ],
   "source": [
    "# 2 count():\n",
    "\n",
    "n=[1,2,2,2,2,3,3]\n",
    "print(n.count(1))\n",
    "print(n.count(2))\n",
    "print(n.count(3))\n",
    "print(n.count(4))"
   ]
  },
  {
   "cell_type": "code",
   "execution_count": 8,
   "id": "31a52acb",
   "metadata": {},
   "outputs": [
    {
     "name": "stdout",
     "output_type": "stream",
     "text": [
      "0\n",
      "1\n",
      "5\n"
     ]
    },
    {
     "ename": "ValueError",
     "evalue": "4 is not in list",
     "output_type": "error",
     "traceback": [
      "\u001b[1;31m---------------------------------------------------------------------------\u001b[0m",
      "\u001b[1;31mValueError\u001b[0m                                Traceback (most recent call last)",
      "Cell \u001b[1;32mIn[8], line 7\u001b[0m\n\u001b[0;32m      5\u001b[0m \u001b[38;5;28mprint\u001b[39m(n\u001b[38;5;241m.\u001b[39mindex(\u001b[38;5;241m2\u001b[39m))\n\u001b[0;32m      6\u001b[0m \u001b[38;5;28mprint\u001b[39m(n\u001b[38;5;241m.\u001b[39mindex(\u001b[38;5;241m3\u001b[39m))\n\u001b[1;32m----> 7\u001b[0m \u001b[38;5;28mprint\u001b[39m(\u001b[43mn\u001b[49m\u001b[38;5;241;43m.\u001b[39;49m\u001b[43mindex\u001b[49m\u001b[43m(\u001b[49m\u001b[38;5;241;43m4\u001b[39;49m\u001b[43m)\u001b[49m)\n",
      "\u001b[1;31mValueError\u001b[0m: 4 is not in list"
     ]
    }
   ],
   "source": [
    "# 3 index() function:\n",
    "\n",
    "n=[1,2,2,2,2,3,3]\n",
    "print(n.index(1))\n",
    "print(n.index(2))\n",
    "print(n.index(3))\n",
    "print(n.index(4))\n"
   ]
  },
  {
   "cell_type": "markdown",
   "id": "ea572c8a",
   "metadata": {},
   "source": [
    "### 2 Manipulating elements of list:\n"
   ]
  },
  {
   "cell_type": "code",
   "execution_count": 9,
   "id": "274e31e4",
   "metadata": {},
   "outputs": [
    {
     "name": "stdout",
     "output_type": "stream",
     "text": [
      "['A', 'B', 'C']\n"
     ]
    }
   ],
   "source": [
    "# 1 append() function \n",
    "\n",
    "list=[]\n",
    "list.append(\"A\")\n",
    "list.append(\"B\")\n",
    "list.append(\"C\")\n",
    "print(list)\n",
    "    "
   ]
  },
  {
   "cell_type": "code",
   "execution_count": 10,
   "id": "113d3696",
   "metadata": {},
   "outputs": [
    {
     "name": "stdout",
     "output_type": "stream",
     "text": [
      "[0, 10, 20, 30, 40, 50, 60, 70, 80, 90, 100]\n"
     ]
    }
   ],
   "source": [
    "# Q. To add all elements to list upto 100 which are divisible by 10\n",
    "\n",
    "list=[]\n",
    "for i in range (101):\n",
    "    if i%10==0:\n",
    "        list.append(i)\n",
    "print(list)"
   ]
  },
  {
   "cell_type": "code",
   "execution_count": 11,
   "id": "493fb0ba",
   "metadata": {},
   "outputs": [
    {
     "name": "stdout",
     "output_type": "stream",
     "text": [
      "[1, 888, 2, 3, 4, 5]\n"
     ]
    }
   ],
   "source": [
    "# 2 insert() function:\n",
    "\n",
    "n=[1,2,3,4,5]\n",
    "n.insert(1,888)\n",
    "print(n)"
   ]
  },
  {
   "cell_type": "code",
   "execution_count": 12,
   "id": "d970c83d",
   "metadata": {},
   "outputs": [
    {
     "name": "stdout",
     "output_type": "stream",
     "text": [
      "[999, 1, 2, 3, 4, 5, 777]\n"
     ]
    }
   ],
   "source": [
    "n=[1,2,3,4,5]\n",
    "n.insert(10,777)\n",
    "n.insert(-10,999)\n",
    "print(n)"
   ]
  },
  {
   "cell_type": "code",
   "execution_count": 13,
   "id": "405b9891",
   "metadata": {},
   "outputs": [
    {
     "name": "stdout",
     "output_type": "stream",
     "text": [
      "['Chiken', 'Mutton', 'Fish', 'RC', 'KF', 'FO']\n"
     ]
    }
   ],
   "source": [
    "# extend() function:\n",
    "\n",
    "# 3 l1.extend(l2)\n",
    "\n",
    "order1 = [\"Chiken\",\"Mutton\",\"Fish\"]\n",
    "order2 = [\"RC\",\"KF\",\"FO\"]\n",
    "order1.extend(order2)\n",
    "print(order1)\n"
   ]
  },
  {
   "cell_type": "code",
   "execution_count": 14,
   "id": "98a7a863",
   "metadata": {},
   "outputs": [
    {
     "name": "stdout",
     "output_type": "stream",
     "text": [
      "['Chiken', 'Mutton', 'Fish', 'M', 'u', 's', 'h', 'r', 'o', 'o', 'm']\n"
     ]
    }
   ],
   "source": [
    "# l1.extend(l2)\n",
    "\n",
    "order = [\"Chiken\",\"Mutton\",\"Fish\"]\n",
    "order.extend(\"Mushroom\")\n",
    "print(order)\n"
   ]
  },
  {
   "cell_type": "code",
   "execution_count": 15,
   "id": "34c379cc",
   "metadata": {},
   "outputs": [
    {
     "name": "stdout",
     "output_type": "stream",
     "text": [
      "[20, 30, 10]\n"
     ]
    }
   ],
   "source": [
    "# 4 remove() function:\n",
    "\n",
    "n=[10,20,30,10]\n",
    "n.remove(10)  # First occurrence will be removed\n",
    "print(n)"
   ]
  },
  {
   "cell_type": "code",
   "execution_count": 16,
   "id": "a3962e0a",
   "metadata": {},
   "outputs": [
    {
     "ename": "ValueError",
     "evalue": "list.remove(x): x not in list",
     "output_type": "error",
     "traceback": [
      "\u001b[1;31m---------------------------------------------------------------------------\u001b[0m",
      "\u001b[1;31mValueError\u001b[0m                                Traceback (most recent call last)",
      "Cell \u001b[1;32mIn[16], line 4\u001b[0m\n\u001b[0;32m      1\u001b[0m \u001b[38;5;66;03m#  remove() function:\u001b[39;00m\n\u001b[0;32m      3\u001b[0m n\u001b[38;5;241m=\u001b[39m[\u001b[38;5;241m10\u001b[39m,\u001b[38;5;241m20\u001b[39m,\u001b[38;5;241m30\u001b[39m,\u001b[38;5;241m10\u001b[39m]\n\u001b[1;32m----> 4\u001b[0m \u001b[43mn\u001b[49m\u001b[38;5;241;43m.\u001b[39;49m\u001b[43mremove\u001b[49m\u001b[43m(\u001b[49m\u001b[38;5;241;43m40\u001b[39;49m\u001b[43m)\u001b[49m\n\u001b[0;32m      5\u001b[0m \u001b[38;5;28mprint\u001b[39m(n)\n",
      "\u001b[1;31mValueError\u001b[0m: list.remove(x): x not in list"
     ]
    }
   ],
   "source": [
    "#  remove() function:\n",
    "\n",
    "n=[10,20,30,10]\n",
    "n.remove(40)  # (ValueError: list.remove(x): x not in list)\n",
    "print(n)"
   ]
  },
  {
   "cell_type": "code",
   "execution_count": 18,
   "id": "2794c617",
   "metadata": {},
   "outputs": [
    {
     "name": "stdout",
     "output_type": "stream",
     "text": [
      "40\n",
      "30\n",
      "[10, 20]\n"
     ]
    }
   ],
   "source": [
    "# 5 pop() Function\n",
    "\n",
    "n=[10,20,30,40]\n",
    "print(n.pop())\n",
    "print(n.pop())\n",
    "print(n)"
   ]
  },
  {
   "cell_type": "code",
   "execution_count": 19,
   "id": "0e9bdebe",
   "metadata": {},
   "outputs": [
    {
     "ename": "IndexError",
     "evalue": "pop from empty list",
     "output_type": "error",
     "traceback": [
      "\u001b[1;31m---------------------------------------------------------------------------\u001b[0m",
      "\u001b[1;31mIndexError\u001b[0m                                Traceback (most recent call last)",
      "Cell \u001b[1;32mIn[19], line 2\u001b[0m\n\u001b[0;32m      1\u001b[0m n\u001b[38;5;241m=\u001b[39m[]\n\u001b[1;32m----> 2\u001b[0m \u001b[38;5;28mprint\u001b[39m(\u001b[43mn\u001b[49m\u001b[38;5;241;43m.\u001b[39;49m\u001b[43mpop\u001b[49m\u001b[43m(\u001b[49m\u001b[43m)\u001b[49m)\n",
      "\u001b[1;31mIndexError\u001b[0m: pop from empty list"
     ]
    }
   ],
   "source": [
    "n=[]\n",
    "print(n.pop())  #IndexError: pop from empty list\n"
   ]
  },
  {
   "cell_type": "code",
   "execution_count": 20,
   "id": "64475d97",
   "metadata": {},
   "outputs": [
    {
     "name": "stdout",
     "output_type": "stream",
     "text": [
      "60\n",
      "20\n"
     ]
    },
    {
     "ename": "IndexError",
     "evalue": "pop index out of range",
     "output_type": "error",
     "traceback": [
      "\u001b[1;31m---------------------------------------------------------------------------\u001b[0m",
      "\u001b[1;31mIndexError\u001b[0m                                Traceback (most recent call last)",
      "Cell \u001b[1;32mIn[20], line 4\u001b[0m\n\u001b[0;32m      2\u001b[0m \u001b[38;5;28mprint\u001b[39m(n\u001b[38;5;241m.\u001b[39mpop())\n\u001b[0;32m      3\u001b[0m \u001b[38;5;28mprint\u001b[39m(n\u001b[38;5;241m.\u001b[39mpop(\u001b[38;5;241m1\u001b[39m))\n\u001b[1;32m----> 4\u001b[0m \u001b[38;5;28mprint\u001b[39m(\u001b[43mn\u001b[49m\u001b[38;5;241;43m.\u001b[39;49m\u001b[43mpop\u001b[49m\u001b[43m(\u001b[49m\u001b[38;5;241;43m10\u001b[39;49m\u001b[43m)\u001b[49m)\n",
      "\u001b[1;31mIndexError\u001b[0m: pop index out of range"
     ]
    }
   ],
   "source": [
    "n=[10,20,30,40,50,60]\n",
    "print(n.pop())\n",
    "print(n.pop(1))\n",
    "print(n.pop(10))   # IndexError: pop index out of range"
   ]
  },
  {
   "cell_type": "markdown",
   "id": "b47a32d4",
   "metadata": {},
   "source": [
    "### 3 Ordering elements of list:"
   ]
  },
  {
   "cell_type": "code",
   "execution_count": 1,
   "id": "ea5139f5",
   "metadata": {},
   "outputs": [
    {
     "name": "stdout",
     "output_type": "stream",
     "text": [
      "[40, 30, 20, 10]\n"
     ]
    }
   ],
   "source": [
    "# 1 reverse():\n",
    "\n",
    "n=[10,20,30,40]\n",
    "n.reverse()\n",
    "print(n)"
   ]
  },
  {
   "cell_type": "code",
   "execution_count": 5,
   "id": "86919834",
   "metadata": {},
   "outputs": [
    {
     "name": "stdout",
     "output_type": "stream",
     "text": [
      "[0, 5, 10, 15, 20]\n",
      "['Apple', 'Banana', 'Cat', 'Dog']\n"
     ]
    }
   ],
   "source": [
    "# 2 sort():\n",
    "\n",
    "n=[20,5,15,10,0]     # Shorting order is Ascending Order\n",
    "n.sort()\n",
    "print(n)\n",
    "\n",
    "s=[\"Dog\",\"Banana\",\"Cat\",\"Apple\"]    # Shorting order is Alphabetical Order\n",
    "s.sort()\n",
    "print(s)"
   ]
  },
  {
   "cell_type": "code",
   "execution_count": 6,
   "id": "57870a46",
   "metadata": {},
   "outputs": [
    {
     "ename": "TypeError",
     "evalue": "'<' not supported between instances of 'str' and 'int'",
     "output_type": "error",
     "traceback": [
      "\u001b[1;31m---------------------------------------------------------------------------\u001b[0m",
      "\u001b[1;31mTypeError\u001b[0m                                 Traceback (most recent call last)",
      "Cell \u001b[1;32mIn[6], line 2\u001b[0m\n\u001b[0;32m      1\u001b[0m n\u001b[38;5;241m=\u001b[39m[\u001b[38;5;241m20\u001b[39m,\u001b[38;5;241m10\u001b[39m,\u001b[38;5;124m\"\u001b[39m\u001b[38;5;124mA\u001b[39m\u001b[38;5;124m\"\u001b[39m,\u001b[38;5;124m\"\u001b[39m\u001b[38;5;124mB\u001b[39m\u001b[38;5;124m\"\u001b[39m]\n\u001b[1;32m----> 2\u001b[0m \u001b[43mn\u001b[49m\u001b[38;5;241;43m.\u001b[39;49m\u001b[43msort\u001b[49m\u001b[43m(\u001b[49m\u001b[43m)\u001b[49m\n\u001b[0;32m      3\u001b[0m \u001b[38;5;28mprint\u001b[39m(n)\n",
      "\u001b[1;31mTypeError\u001b[0m: '<' not supported between instances of 'str' and 'int'"
     ]
    }
   ],
   "source": [
    "n=[20,10,\"A\",\"B\"]\n",
    "n.sort()\n",
    "print(n)   # TypeError: '<' not supported between instances of 'str' and 'int'"
   ]
  },
  {
   "cell_type": "markdown",
   "id": "5a6ad3eb",
   "metadata": {},
   "source": [
    "## In python 2\n",
    "\n",
    "######  n=[20,10,\"A\",\"B\"]\n",
    "######  n.sort()\n",
    "###### print(n) #  [20,10,'A','B'] Valid"
   ]
  },
  {
   "cell_type": "code",
   "execution_count": 7,
   "id": "b7b78ceb",
   "metadata": {},
   "outputs": [
    {
     "name": "stdout",
     "output_type": "stream",
     "text": [
      "[10, 20, 30, 40]\n",
      "[40, 30, 20, 10]\n",
      "[10, 20, 30, 40]\n"
     ]
    }
   ],
   "source": [
    "# To sort in reverse of default natural sorting order:\n",
    "\n",
    "n=[40,10,30,20]\n",
    "n.sort()\n",
    "print(n)\n",
    "n.sort(reverse=True)\n",
    "print(n)\n",
    "n.sort(reverse=False)\n",
    "print(n)"
   ]
  },
  {
   "cell_type": "code",
   "execution_count": 9,
   "id": "aee2086d",
   "metadata": {},
   "outputs": [
    {
     "name": "stdout",
     "output_type": "stream",
     "text": [
      "1621465519808\n",
      "1621465519808\n",
      "[10, 777, 30, 40]\n",
      "1621465519808\n",
      "1621465519808\n"
     ]
    }
   ],
   "source": [
    "# Alising and Cloning of list objects :\n",
    "\n",
    "x=[10,20,30,40]\n",
    "y=x\n",
    "print(id(x))\n",
    "print(id(y))\n",
    "\n",
    "y[1]=777\n",
    "print(x)\n",
    "\n",
    "print(id(x))\n",
    "print(id(y))\n"
   ]
  },
  {
   "cell_type": "code",
   "execution_count": 10,
   "id": "ad3ead54",
   "metadata": {},
   "outputs": [
    {
     "name": "stdout",
     "output_type": "stream",
     "text": [
      "[10, 20, 30, 40]\n",
      "[10, 777, 30, 40]\n",
      "1621465534272\n",
      "1621465539008\n"
     ]
    }
   ],
   "source": [
    "# By using slice operator:  (operator meant for aliasing)\n",
    "\n",
    "x=[10,20,30,40]\n",
    "y=x[:]\n",
    "y[1]=777\n",
    "\n",
    "print(x)\n",
    "print(y)\n",
    "\n",
    "print(id(x))\n",
    "print(id(y))"
   ]
  },
  {
   "cell_type": "code",
   "execution_count": 12,
   "id": "97780e51",
   "metadata": {},
   "outputs": [
    {
     "name": "stdout",
     "output_type": "stream",
     "text": [
      "[10, 20, 30, 40]\n",
      "[10, 777, 30, 40]\n",
      "1621465765120\n",
      "1621465759808\n"
     ]
    }
   ],
   "source": [
    "# By using copy() function : (copy() function meant for cloning)\n",
    "\n",
    "x=[10,20,30,40]\n",
    "y=x.copy()\n",
    "y[1]=777\n",
    "\n",
    "print(x)\n",
    "print(y)\n",
    "\n",
    "print(id(x))\n",
    "print(id(y))"
   ]
  },
  {
   "cell_type": "markdown",
   "id": "2b8e9120",
   "metadata": {},
   "source": [
    "## Using Methematical operators for list Objects:"
   ]
  },
  {
   "cell_type": "code",
   "execution_count": 13,
   "id": "c8f4172a",
   "metadata": {},
   "outputs": [
    {
     "name": "stdout",
     "output_type": "stream",
     "text": [
      "[10, 20, 30, 40, 50, 60]\n"
     ]
    }
   ],
   "source": [
    "# 1 Concatenation operator(+) :\n",
    "\n",
    "a=[10,20,30]\n",
    "b=[40,50,60]\n",
    "c=a+b\n",
    "print(c)"
   ]
  },
  {
   "cell_type": "code",
   "execution_count": 19,
   "id": "48f01a10",
   "metadata": {},
   "outputs": [
    {
     "ename": "TypeError",
     "evalue": "can only concatenate list (not \"int\") to list",
     "output_type": "error",
     "traceback": [
      "\u001b[1;31m---------------------------------------------------------------------------\u001b[0m",
      "\u001b[1;31mTypeError\u001b[0m                                 Traceback (most recent call last)",
      "Cell \u001b[1;32mIn[19], line 3\u001b[0m\n\u001b[0;32m      1\u001b[0m \u001b[38;5;66;03m# Note:\u001b[39;00m\n\u001b[1;32m----> 3\u001b[0m c\u001b[38;5;241m=\u001b[39m\u001b[43ma\u001b[49m\u001b[38;5;241;43m+\u001b[39;49m\u001b[38;5;241;43m40\u001b[39;49m\n\u001b[0;32m      4\u001b[0m c\u001b[38;5;241m=\u001b[39ma\u001b[38;5;241m+\u001b[39m[\u001b[38;5;241m40\u001b[39m]\n\u001b[0;32m      5\u001b[0m \u001b[38;5;28mprint\u001b[39m(c)\n",
      "\u001b[1;31mTypeError\u001b[0m: can only concatenate list (not \"int\") to list"
     ]
    }
   ],
   "source": [
    "# Note:\n",
    "\n",
    "c=a+40  # TypeError: can only concatenate list (not \"int\") to list\n",
    "c=a+[40]  # Valid\n",
    "print(c)"
   ]
  },
  {
   "cell_type": "code",
   "execution_count": 20,
   "id": "d4b52b6f",
   "metadata": {},
   "outputs": [
    {
     "name": "stdout",
     "output_type": "stream",
     "text": [
      "[10, 20, 30, 10, 20, 30, 10, 20, 30]\n"
     ]
    }
   ],
   "source": [
    "# 2 repetation operator(*):\n",
    "\n",
    "x=[10,20,30]\n",
    "y=x*3\n",
    "print(y)"
   ]
  },
  {
   "cell_type": "markdown",
   "id": "cd1e52aa",
   "metadata": {},
   "source": [
    "## Comparing List objects"
   ]
  },
  {
   "cell_type": "code",
   "execution_count": 21,
   "id": "69e8a9f5",
   "metadata": {},
   "outputs": [
    {
     "name": "stdout",
     "output_type": "stream",
     "text": [
      "True\n",
      "False\n",
      "True\n"
     ]
    }
   ],
   "source": [
    "x=[\"Dog\",\"Cat\",\"Rat\"]\n",
    "y=[\"Dog\",\"Cat\",\"Rat\"]\n",
    "z=[\"DOG\",\"CAT\",\"RAT\"]\n",
    "print(x==y)\n",
    "print(x==z)\n",
    "print(x!=z)"
   ]
  },
  {
   "cell_type": "code",
   "execution_count": 22,
   "id": "33132299",
   "metadata": {},
   "outputs": [
    {
     "name": "stdout",
     "output_type": "stream",
     "text": [
      "True\n",
      "True\n",
      "False\n",
      "False\n"
     ]
    }
   ],
   "source": [
    "x=[50,20,30]    # Only first element comparison will be performed\n",
    "y=[40,50,60,100,200]\n",
    "print(x>y)\n",
    "print(x>=y)\n",
    "print(x<y)\n",
    "print(x<=y)"
   ]
  },
  {
   "cell_type": "code",
   "execution_count": 23,
   "id": "bdbd131e",
   "metadata": {},
   "outputs": [
    {
     "name": "stdout",
     "output_type": "stream",
     "text": [
      "False\n",
      "False\n",
      "True\n",
      "True\n"
     ]
    }
   ],
   "source": [
    "x=[\"Dog\",\"Cat\",\"Rat\"]\n",
    "y=[\"Rat\",\"Cat\",\"Dog\"]\n",
    "\n",
    "print(x>y)\n",
    "print(x>=y)\n",
    "print(x<y)\n",
    "print(x<=y)"
   ]
  },
  {
   "cell_type": "markdown",
   "id": "63737f8a",
   "metadata": {},
   "source": [
    "## Membership Operators:"
   ]
  },
  {
   "cell_type": "code",
   "execution_count": 26,
   "id": "826b4e75",
   "metadata": {},
   "outputs": [
    {
     "name": "stdout",
     "output_type": "stream",
     "text": [
      "True\n",
      "False\n",
      "False\n",
      "True\n"
     ]
    }
   ],
   "source": [
    "# in operator and not in operator\n",
    "\n",
    "n=[10,20,30,40]\n",
    "print(10 in n)  \n",
    "print(10 not in n)\n",
    "print(50 in n)\n",
    "print(50 not in n)"
   ]
  },
  {
   "cell_type": "code",
   "execution_count": 27,
   "id": "4555ea9c",
   "metadata": {},
   "outputs": [
    {
     "name": "stdout",
     "output_type": "stream",
     "text": [
      "[10, 20, 30, 40]\n",
      "[]\n"
     ]
    }
   ],
   "source": [
    "# clear() function:\n",
    "\n",
    "n=[10,20,30,40]\n",
    "print(n)\n",
    "n.clear()\n",
    "print(n)"
   ]
  },
  {
   "cell_type": "markdown",
   "id": "c49cb4ee",
   "metadata": {},
   "source": [
    "## Nested Lists:"
   ]
  },
  {
   "cell_type": "code",
   "execution_count": 28,
   "id": "5a67a497",
   "metadata": {},
   "outputs": [
    {
     "name": "stdout",
     "output_type": "stream",
     "text": [
      "[10, 20, [30, 40]]\n",
      "10\n",
      "[30, 40]\n",
      "30\n",
      "40\n"
     ]
    }
   ],
   "source": [
    "n=[10,20,[30,40]]\n",
    "print(n)\n",
    "print(n[0])\n",
    "print(n[2])\n",
    "print(n[2][0])\n",
    "print(n[2][1])"
   ]
  },
  {
   "cell_type": "markdown",
   "id": "5eb3ed57",
   "metadata": {},
   "source": [
    "# Nested List as Matrix:\n"
   ]
  },
  {
   "cell_type": "code",
   "execution_count": 34,
   "id": "372a7dbb",
   "metadata": {},
   "outputs": [
    {
     "name": "stdout",
     "output_type": "stream",
     "text": [
      "[[10, 20, 30], [40, 50, 60], [70, 80, 90], [11, 22, 33]]\n",
      "Element by Row Wise:\n",
      "[10, 20, 30]\n",
      "[40, 50, 60]\n",
      "[70, 80, 90]\n",
      "[11, 22, 33]\n",
      "Element by Matrix style:\n",
      "10  20  30  \n",
      "40  50  60  \n",
      "70  80  90  \n",
      "11  22  33  \n"
     ]
    }
   ],
   "source": [
    "n=[[10,20,30],[40,50,60],[70,80,90],[11,22,33]]\n",
    "print(n)\n",
    "print(\"Element by Row Wise:\")\n",
    "for r in n:\n",
    "    print(r)\n",
    "print(\"Element by Matrix style:\")\n",
    "for i in range(len(n)):\n",
    "    for j in range(len(n[i])):\n",
    "        print(n[i][j],end='  ')\n",
    "    print()"
   ]
  },
  {
   "cell_type": "markdown",
   "id": "31abcb15",
   "metadata": {},
   "source": [
    "## List Comprehensions:\n",
    "\n",
    "### Syntax :-  list=[ expression for item in list if condition ]"
   ]
  },
  {
   "cell_type": "code",
   "execution_count": 36,
   "id": "5b98f47f",
   "metadata": {},
   "outputs": [
    {
     "name": "stdout",
     "output_type": "stream",
     "text": [
      "[1, 4, 9, 16, 25, 36, 49, 64, 81, 100]\n",
      "[2, 4, 8, 16, 32]\n",
      "[4, 16, 36, 64, 100]\n"
     ]
    }
   ],
   "source": [
    "s=[x*x for x in range(1,11)]\n",
    "print(s)\n",
    "v=[2**x for x in range(1,6)]\n",
    "print(v)\n",
    "m=[x for x in s if x%2==0]\n",
    "print(m)"
   ]
  },
  {
   "cell_type": "code",
   "execution_count": 37,
   "id": "5d636a6f",
   "metadata": {},
   "outputs": [
    {
     "name": "stdout",
     "output_type": "stream",
     "text": [
      "['B', 'N', 'V', 'C']\n"
     ]
    }
   ],
   "source": [
    "words=[\"Balaji\",\"Nag\",\"Venkatesh\",\"Chiranjeevi\"]\n",
    "l=[w[0] for w in words]\n",
    "print(l)"
   ]
  },
  {
   "cell_type": "code",
   "execution_count": 40,
   "id": "3afd5eae",
   "metadata": {},
   "outputs": [
    {
     "name": "stdout",
     "output_type": "stream",
     "text": [
      "[10, 20]\n",
      "[30, 40]\n"
     ]
    }
   ],
   "source": [
    "n1=[10,20,30,40]\n",
    "n2=[30,40,50,60]\n",
    "n3=[i for i in n1 if i not in n2]\n",
    "print(n3)\n",
    " # Common Elements present in n1 and n2\n",
    "n4=[i for i in n1 if i in n2]\n",
    "print(n4)"
   ]
  },
  {
   "cell_type": "code",
   "execution_count": 44,
   "id": "770b02c3",
   "metadata": {},
   "outputs": [
    {
     "name": "stdout",
     "output_type": "stream",
     "text": [
      "['the', 'quick', 'brown', 'fox', 'jumps', 'over', 'the', 'lazy', 'dog']\n",
      "[['THE', 3], ['QUICK', 5], ['BROWN', 5], ['FOX', 3], ['JUMPS', 5], ['OVER', 4], ['THE', 3], ['LAZY', 4], ['DOG', 3]]\n"
     ]
    }
   ],
   "source": [
    "# words=[\"the quick brown fox jumps over the lazy dog\".split()]\n",
    "#    ==> AttributeError: 'list' object has no attribute 'upper' <==\n",
    "\n",
    "words=\"the quick brown fox jumps over the lazy dog\".split()\n",
    "print(words)\n",
    "l=[[w.upper(),len(w)] for w in words]\n",
    "print(l)"
   ]
  },
  {
   "cell_type": "code",
   "execution_count": 45,
   "id": "37c6b891",
   "metadata": {},
   "outputs": [
    {
     "name": "stdout",
     "output_type": "stream",
     "text": [
      "Enter the word to search for vowels:durgasoftwaresolutions\n",
      "['u', 'a', 'o', 'e', 'i']\n",
      "The number of different vowels present in  durgasoftwaresolutions is 5\n"
     ]
    }
   ],
   "source": [
    "# Q. Write a program to display unique vowels present in the given word?\n",
    "\n",
    "vowels=['a','e','i','o','u']\n",
    "word=input(\"Enter the word to search for vowels:\")\n",
    "found=[]\n",
    "for letter in word:\n",
    "    if letter in vowels:\n",
    "        if letter not in found:\n",
    "            found.append(letter)\n",
    "print(found)\n",
    "print(\"The number of different vowels present in \",word,\"is\",len(found))"
   ]
  },
  {
   "cell_type": "code",
   "execution_count": null,
   "id": "f5ae17ef",
   "metadata": {},
   "outputs": [],
   "source": []
  },
  {
   "cell_type": "code",
   "execution_count": null,
   "id": "d596449c",
   "metadata": {},
   "outputs": [],
   "source": []
  }
 ],
 "metadata": {
  "kernelspec": {
   "display_name": "Python 3 (ipykernel)",
   "language": "python",
   "name": "python3"
  },
  "language_info": {
   "codemirror_mode": {
    "name": "ipython",
    "version": 3
   },
   "file_extension": ".py",
   "mimetype": "text/x-python",
   "name": "python",
   "nbconvert_exporter": "python",
   "pygments_lexer": "ipython3",
   "version": "3.10.9"
  }
 },
 "nbformat": 4,
 "nbformat_minor": 5
}
