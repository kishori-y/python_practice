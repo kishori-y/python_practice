{
 "cells": [
  {
   "cell_type": "markdown",
   "id": "3958f266",
   "metadata": {},
   "source": [
    "# FUNCTIONS"
   ]
  },
  {
   "cell_type": "code",
   "execution_count": 1,
   "id": "fa93cc48",
   "metadata": {},
   "outputs": [
    {
     "name": "stdout",
     "output_type": "stream",
     "text": [
      "Hello Good Morning\n",
      "Hello Good Morning\n",
      "Hello Good Morning\n"
     ]
    }
   ],
   "source": [
    "# Q. Write a function to print Hello\n",
    "\n",
    "def wish():\n",
    "    print(\"Hello Good Morning\")\n",
    "wish()\n",
    "wish()\n",
    "wish()"
   ]
  },
  {
   "cell_type": "markdown",
   "id": "d54602e9",
   "metadata": {},
   "source": [
    "# Parameters "
   ]
  },
  {
   "cell_type": "code",
   "execution_count": 2,
   "id": "289fe7c9",
   "metadata": {},
   "outputs": [
    {
     "name": "stdout",
     "output_type": "stream",
     "text": [
      "Hello durga Good Morning\n",
      "Hello ravi Good Morning\n"
     ]
    }
   ],
   "source": [
    "# Q. Write a function to take name of the student as input and print wish message by name\n",
    "\n",
    "def wish(name):\n",
    "    print(\"Hello\",name,\"Good Morning\")\n",
    "wish(\"durga\")\n",
    "wish(\"ravi\")"
   ]
  },
  {
   "cell_type": "code",
   "execution_count": 3,
   "id": "79520480",
   "metadata": {},
   "outputs": [
    {
     "name": "stdout",
     "output_type": "stream",
     "text": [
      "The Square of 4 is 16\n",
      "The Square of 5 is 25\n"
     ]
    }
   ],
   "source": [
    "# Q. Write a function to take number as input and print its square value\n",
    "\n",
    "def squarelt(number):\n",
    "    print(\"The Square of\",number,\"is\",number*number)\n",
    "squarelt(4)\n",
    "squarelt(5)"
   ]
  },
  {
   "cell_type": "markdown",
   "id": "0b151260",
   "metadata": {},
   "source": [
    "# Return Statement:"
   ]
  },
  {
   "cell_type": "code",
   "execution_count": 6,
   "id": "4b2583a0",
   "metadata": {},
   "outputs": [
    {
     "name": "stdout",
     "output_type": "stream",
     "text": [
      "The sum is 30\n",
      "The sum is 300\n"
     ]
    }
   ],
   "source": [
    "# Q. Write a function to accept 2 numbers as input and return sum\n",
    "\n",
    "def add(x,y):\n",
    "    return x+y\n",
    "result=add(10,20)\n",
    "print(\"The sum is\",result)\n",
    "print(\"The sum is\",add(100,200))\n"
   ]
  },
  {
   "cell_type": "code",
   "execution_count": 11,
   "id": "c7f3b291",
   "metadata": {},
   "outputs": [
    {
     "name": "stdout",
     "output_type": "stream",
     "text": [
      "Hello\n",
      "Hello\n",
      "None\n"
     ]
    }
   ],
   "source": [
    "def f1():\n",
    "    print(\"Hello\")\n",
    "f1()\n",
    "print(f1())"
   ]
  },
  {
   "cell_type": "code",
   "execution_count": 12,
   "id": "4aaf40b6",
   "metadata": {},
   "outputs": [
    {
     "name": "stdout",
     "output_type": "stream",
     "text": [
      "10 is Even Number\n",
      "15 is Odd Number\n"
     ]
    }
   ],
   "source": [
    "# Q. Write a function to check whether the given number is even or odd?\n",
    "\n",
    "def even_odd(num):\n",
    "    if num%2==0:\n",
    "        print(num,\"is Even Number\")\n",
    "    else:\n",
    "        print(num,\"is Odd Number\")\n",
    "even_odd(10)\n",
    "even_odd(15)\n"
   ]
  },
  {
   "cell_type": "code",
   "execution_count": 13,
   "id": "3c8233b6",
   "metadata": {},
   "outputs": [
    {
     "name": "stdout",
     "output_type": "stream",
     "text": [
      "The Factorial of 1 is: 1\n",
      "The Factorial of 2 is: 2\n",
      "The Factorial of 3 is: 6\n",
      "The Factorial of 4 is: 24\n"
     ]
    }
   ],
   "source": [
    "# Q. Write a function to find factorial of given number?\n",
    "\n",
    "def fact(num):\n",
    "    result=1\n",
    "    while num>=1:\n",
    "        result=result*num\n",
    "        num=num-1\n",
    "    return result\n",
    "for i in range(1,5):\n",
    "    print(\"The Factorial of\",i,\"is:\",fact(i))"
   ]
  },
  {
   "cell_type": "markdown",
   "id": "83fe4319",
   "metadata": {},
   "source": [
    "# Returning multiple values from a function"
   ]
  },
  {
   "cell_type": "code",
   "execution_count": 14,
   "id": "853ce5b0",
   "metadata": {},
   "outputs": [
    {
     "name": "stdout",
     "output_type": "stream",
     "text": [
      "The Sum is : 150\n",
      "The Substraction is : 50\n"
     ]
    }
   ],
   "source": [
    "def sum_sub(a,b):\n",
    "    sum=a+b\n",
    "    sub=a-b\n",
    "    return sum,sub\n",
    "x,y=sum_sub(100,50)\n",
    "print(\"The Sum is :\",x)\n",
    "print(\"The Substraction is :\",y)\n"
   ]
  },
  {
   "cell_type": "code",
   "execution_count": 16,
   "id": "a0a7077c",
   "metadata": {},
   "outputs": [
    {
     "name": "stdout",
     "output_type": "stream",
     "text": [
      "The results are:\n",
      "150\n",
      "50\n",
      "5000\n",
      "2.0\n"
     ]
    }
   ],
   "source": [
    "def calc(a,b):\n",
    "    sum=a+b\n",
    "    sub=a-b\n",
    "    mul=a*b\n",
    "    div=a/b\n",
    "    return sum,sub,mul,div\n",
    "t=calc(100,50)\n",
    "print(\"The results are:\")\n",
    "for i in t:\n",
    "    print(i)"
   ]
  },
  {
   "cell_type": "markdown",
   "id": "5da648af",
   "metadata": {},
   "source": [
    "# Types of arguments:\n",
    "## 1. positional arguments\n",
    "## 2. keyword argument\n",
    "## 3. default argument\n",
    "## 4. variable length arguments"
   ]
  },
  {
   "cell_type": "markdown",
   "id": "2cbf7c42",
   "metadata": {},
   "source": [
    "#"
   ]
  },
  {
   "cell_type": "markdown",
   "id": "94a47953",
   "metadata": {},
   "source": [
    "# 1. positional arguments:"
   ]
  },
  {
   "cell_type": "code",
   "execution_count": 17,
   "id": "311195f2",
   "metadata": {},
   "outputs": [
    {
     "name": "stdout",
     "output_type": "stream",
     "text": [
      "-100\n",
      "100\n"
     ]
    }
   ],
   "source": [
    "def sub(a,b):\n",
    "    print(a-b)\n",
    "sub(100,200)\n",
    "sub(200,100)"
   ]
  },
  {
   "cell_type": "markdown",
   "id": "86ba98ba",
   "metadata": {},
   "source": [
    "# 2. keyword argumnts:"
   ]
  },
  {
   "cell_type": "code",
   "execution_count": 18,
   "id": "136f8357",
   "metadata": {},
   "outputs": [
    {
     "name": "stdout",
     "output_type": "stream",
     "text": [
      "Hello durga Good Morning\n",
      "Hello durga Good Morning\n"
     ]
    }
   ],
   "source": [
    "def wish(name,msg):\n",
    "    print(\"Hello\",name,msg)\n",
    "wish(name=\"durga\",msg=\"Good Morning\")\n",
    "wish(msg=\"Good Morning\",name=\"durga\")"
   ]
  },
  {
   "cell_type": "code",
   "execution_count": 20,
   "id": "8c160011",
   "metadata": {},
   "outputs": [
    {
     "name": "stdout",
     "output_type": "stream",
     "text": [
      "Hello durga Good Morning\n",
      "Hello durga Good Morning\n"
     ]
    }
   ],
   "source": [
    "def wish(name,msg):\n",
    "    print(\"Hello\",name,msg)\n",
    "wish(name=\"durga\",msg=\"Good Morning\")\n",
    "wish(\"durga\",msg=\"Good Morning\")\n",
    "#wish(name=\"durga\",\"Good morning\")  # SyntaxError: positional argument follows keyword argument\n"
   ]
  },
  {
   "cell_type": "markdown",
   "id": "d17275bb",
   "metadata": {},
   "source": [
    "# 3. Default Arguments:"
   ]
  },
  {
   "cell_type": "code",
   "execution_count": 1,
   "id": "f2513b95",
   "metadata": {},
   "outputs": [
    {
     "name": "stdout",
     "output_type": "stream",
     "text": [
      "Hello durga Good Morning\n",
      "Hello Guest Good Morning\n"
     ]
    }
   ],
   "source": [
    "def wish(name=\"Guest\"):\n",
    "    print(\"Hello\",name,\"Good Morning\")\n",
    "wish(\"durga\")\n",
    "wish()"
   ]
  },
  {
   "cell_type": "markdown",
   "id": "cea8f21b",
   "metadata": {},
   "source": [
    "# 4. Variable length arguments:\n",
    "\n"
   ]
  },
  {
   "cell_type": "code",
   "execution_count": 4,
   "id": "43be72fa",
   "metadata": {},
   "outputs": [
    {
     "name": "stdout",
     "output_type": "stream",
     "text": [
      "The sum= 0\n",
      "The sum= 10\n",
      "The sum= 30\n",
      "The sum= 100\n"
     ]
    }
   ],
   "source": [
    "def sum(*n):\n",
    "    total=0\n",
    "    for n1 in n:\n",
    "        total=total+n1\n",
    "    print(\"The sum=\",total)\n",
    "sum()\n",
    "sum(10)\n",
    "sum(10,20)\n",
    "sum(10,20,30,40)"
   ]
  },
  {
   "cell_type": "code",
   "execution_count": 5,
   "id": "82aaf357",
   "metadata": {},
   "outputs": [
    {
     "name": "stdout",
     "output_type": "stream",
     "text": [
      "10\n",
      "10\n",
      "20\n",
      "30\n",
      "40\n",
      "10\n",
      "A\n",
      "30\n",
      "B\n"
     ]
    }
   ],
   "source": [
    "def f1(n1,*s):\n",
    "    print(n1)\n",
    "    for s1 in s:\n",
    "        print(s1)\n",
    "f1(10)\n",
    "f1(10,20,30,40)\n",
    "f1(10,\"A\",30,\"B\")"
   ]
  },
  {
   "cell_type": "code",
   "execution_count": 6,
   "id": "a38022b0",
   "metadata": {},
   "outputs": [
    {
     "name": "stdout",
     "output_type": "stream",
     "text": [
      "A\n",
      "B\n",
      "10\n"
     ]
    }
   ],
   "source": [
    "def f1(*s,n1):\n",
    "    for s1 in s:\n",
    "        print(s1)\n",
    "    print(n1)\n",
    "f1(\"A\",\"B\",n1=10)"
   ]
  },
  {
   "cell_type": "code",
   "execution_count": 7,
   "id": "f5f31c74",
   "metadata": {},
   "outputs": [
    {
     "name": "stdout",
     "output_type": "stream",
     "text": [
      "n1 = 10\n",
      "n2 = 20\n",
      "n3 = 30\n",
      "rno = 100\n",
      "name = durga\n",
      "marks = 70\n",
      "subject = java\n"
     ]
    }
   ],
   "source": [
    "def display(**kwargs):\n",
    "    for k,v in kwargs.items():\n",
    "        print(k,\"=\",v)\n",
    "display(n1=10,n2=20,n3=30)\n",
    "display(rno=100,name=\"durga\",marks=70,subject=\"java\")"
   ]
  },
  {
   "cell_type": "code",
   "execution_count": 17,
   "id": "f8114113",
   "metadata": {},
   "outputs": [
    {
     "name": "stdout",
     "output_type": "stream",
     "text": [
      "3 2 4 8\n",
      "10 20 30 40\n",
      "25 50 4 100\n",
      "3 4 4 2\n"
     ]
    }
   ],
   "source": [
    "def f(arg1,arg2,arg3=4,arg4=8):\n",
    "    print(arg1,arg2,arg3,arg4)\n",
    "    \n",
    "f(3,2)\n",
    "f(10,20,30,40)\n",
    "f(25,50,arg4=100)\n",
    "f(arg4=2,arg1=3,arg2=4)\n",
    "#f() # TypeError: f() missing 2 required positional arguments: 'arg1' and 'arg2'\n",
    "#f(arg3=10,arg4=20,30,40)  # SyntaxError: positional argument follows keyword argument\n",
    "#f(4,5,arg2=6)  # TypeError: f() got multiple values for argument 'arg2'\n",
    "#f(4,5,arg3=5,arg5=6)   #  TypeError: f() got an unexpected keyword argument 'arg5'\n",
    "\n"
   ]
  },
  {
   "cell_type": "markdown",
   "id": "e4d6e722",
   "metadata": {},
   "source": [
    "# Types of Variables\n",
    "## 1.Global Variables\n",
    "## 2.Local Variables"
   ]
  },
  {
   "cell_type": "markdown",
   "id": "2a9db412",
   "metadata": {},
   "source": [
    "#"
   ]
  },
  {
   "cell_type": "markdown",
   "id": "0fd516a6",
   "metadata": {},
   "source": [
    "# 1.Global Variable"
   ]
  },
  {
   "cell_type": "code",
   "execution_count": 1,
   "id": "4b80316a",
   "metadata": {},
   "outputs": [
    {
     "name": "stdout",
     "output_type": "stream",
     "text": [
      "10\n",
      "10\n"
     ]
    }
   ],
   "source": [
    "a=10  # global variable\n",
    "def f1():\n",
    "    print(a)\n",
    "    \n",
    "def f2():\n",
    "    print(a)\n",
    "    \n",
    "f1()\n",
    "f2()"
   ]
  },
  {
   "cell_type": "markdown",
   "id": "e0f30338",
   "metadata": {},
   "source": [
    "# 2. Local Variables"
   ]
  },
  {
   "cell_type": "code",
   "execution_count": 5,
   "id": "4ad809c8",
   "metadata": {},
   "outputs": [
    {
     "name": "stdout",
     "output_type": "stream",
     "text": [
      "20\n"
     ]
    },
    {
     "ename": "NameError",
     "evalue": "name 'b' is not defined",
     "output_type": "error",
     "traceback": [
      "\u001b[1;31m---------------------------------------------------------------------------\u001b[0m",
      "\u001b[1;31mNameError\u001b[0m                                 Traceback (most recent call last)",
      "Cell \u001b[1;32mIn[5], line 9\u001b[0m\n\u001b[0;32m      6\u001b[0m     \u001b[38;5;28mprint\u001b[39m(b)  \u001b[38;5;66;03m# invalid\u001b[39;00m\n\u001b[0;32m      8\u001b[0m f1()\n\u001b[1;32m----> 9\u001b[0m \u001b[43mf2\u001b[49m\u001b[43m(\u001b[49m\u001b[43m)\u001b[49m\n",
      "Cell \u001b[1;32mIn[5], line 6\u001b[0m, in \u001b[0;36mf2\u001b[1;34m()\u001b[0m\n\u001b[0;32m      5\u001b[0m \u001b[38;5;28;01mdef\u001b[39;00m \u001b[38;5;21mf2\u001b[39m():\n\u001b[1;32m----> 6\u001b[0m     \u001b[38;5;28mprint\u001b[39m(\u001b[43mb\u001b[49m)\n",
      "\u001b[1;31mNameError\u001b[0m: name 'b' is not defined"
     ]
    }
   ],
   "source": [
    "def f1():\n",
    "    b=20\n",
    "    print(b) # valid\n",
    "    \n",
    "def f2():\n",
    "    print(b)  # invalid (NameError: name 'b' is not defined)\n",
    "    \n",
    "f1()\n",
    "f2()"
   ]
  },
  {
   "cell_type": "markdown",
   "id": "5c6a8f74",
   "metadata": {},
   "source": [
    "# Global Keyword"
   ]
  },
  {
   "cell_type": "code",
   "execution_count": 6,
   "id": "62b385e2",
   "metadata": {},
   "outputs": [
    {
     "name": "stdout",
     "output_type": "stream",
     "text": [
      "777\n",
      "30\n"
     ]
    }
   ],
   "source": [
    "a=30\n",
    "def f1():\n",
    "    a=777\n",
    "    print(a)\n",
    "    \n",
    "def f2():\n",
    "    print(a)\n",
    "    \n",
    "f1()\n",
    "f2()"
   ]
  },
  {
   "cell_type": "code",
   "execution_count": 7,
   "id": "b042e75e",
   "metadata": {},
   "outputs": [
    {
     "name": "stdout",
     "output_type": "stream",
     "text": [
      "777\n",
      "777\n"
     ]
    }
   ],
   "source": [
    "a=10\n",
    "def f1():\n",
    "    global a\n",
    "    a=777\n",
    "    print(a)\n",
    "    \n",
    "def f2():\n",
    "    print(a)\n",
    "    \n",
    "f1()\n",
    "f2()\n"
   ]
  },
  {
   "cell_type": "code",
   "execution_count": 9,
   "id": "a330ac9d",
   "metadata": {},
   "outputs": [
    {
     "name": "stdout",
     "output_type": "stream",
     "text": [
      "777\n",
      "10\n"
     ]
    }
   ],
   "source": [
    "a=10  # global variable\n",
    "def f1():\n",
    "    a=777 # local variable\n",
    "    print(a)\n",
    "    print(globals()['a'])\n",
    "f1()"
   ]
  },
  {
   "cell_type": "markdown",
   "id": "413fd374",
   "metadata": {},
   "source": [
    "# Recursive Function"
   ]
  },
  {
   "cell_type": "code",
   "execution_count": 10,
   "id": "d233ffd1",
   "metadata": {},
   "outputs": [
    {
     "name": "stdout",
     "output_type": "stream",
     "text": [
      "Factorial of 4 is:  24\n",
      "Factorial of 5 is:  120\n"
     ]
    }
   ],
   "source": [
    "# Q. Write a python function to find factorial of given number with recursion.\n",
    "\n",
    "def factorial(n):\n",
    "    if n==0:\n",
    "        result=1\n",
    "    else:\n",
    "        result=n*factorial(n-1)\n",
    "    return result\n",
    "print(\"Factorial of 4 is: \",factorial(4))\n",
    "print(\"Factorial of 5 is: \",factorial(5))"
   ]
  },
  {
   "cell_type": "code",
   "execution_count": 11,
   "id": "51262f5e",
   "metadata": {},
   "outputs": [
    {
     "name": "stdout",
     "output_type": "stream",
     "text": [
      "The square of 4 is:  16\n",
      "The square of 5 is:  25\n"
     ]
    }
   ],
   "source": [
    "# Q. Write a program to create a lambda function to find square of given number?\n",
    "\n",
    "s=lambda n:n*n\n",
    "print(\"The square of 4 is: \",s(4))\n",
    "print(\"The square of 5 is: \",s(5))"
   ]
  },
  {
   "cell_type": "code",
   "execution_count": 12,
   "id": "18c49e4b",
   "metadata": {},
   "outputs": [
    {
     "name": "stdout",
     "output_type": "stream",
     "text": [
      "The sum of 10,20 is: 30\n",
      "The sum of 100,200 is: 300\n"
     ]
    }
   ],
   "source": [
    "# Q. Lambda function to find sum of 2 given numbers\n",
    "\n",
    "s=lambda a,b:a+b\n",
    "print (\"The sum of 10,20 is:\",s(10,20))\n",
    "print(\"The sum of 100,200 is:\",s(100,200))"
   ]
  },
  {
   "cell_type": "code",
   "execution_count": 14,
   "id": "a034484c",
   "metadata": {},
   "outputs": [
    {
     "name": "stdout",
     "output_type": "stream",
     "text": [
      "The biggest number of 10,20 is 20\n",
      "The biggest number of 100,200 is 200\n"
     ]
    }
   ],
   "source": [
    "# Q. Lambda function to find biggest of given values\n",
    "\n",
    "s=lambda a,b:a if a>b else b\n",
    "print(\"The biggest number of 10,20 is\",s(10,20))\n",
    "print(\"The biggest number of 100,200 is\",s(100,200))"
   ]
  },
  {
   "cell_type": "markdown",
   "id": "a71d2836",
   "metadata": {},
   "source": [
    "# filter function()"
   ]
  },
  {
   "cell_type": "code",
   "execution_count": 15,
   "id": "0e4f7bb8",
   "metadata": {},
   "outputs": [
    {
     "name": "stdout",
     "output_type": "stream",
     "text": [
      "[0, 10, 20, 30]\n"
     ]
    }
   ],
   "source": [
    "# Q. Program to filter only even numbers from the list by using filter()\n",
    "\n",
    "# without lambda function:\n",
    "\n",
    "def isEven(x):\n",
    "    if x%2==0:\n",
    "        return True \n",
    "    else:\n",
    "        return False\n",
    "l=[0,5,10,15,20,25,30]\n",
    "l1=list(filter(isEven,l))\n",
    "print(l1)"
   ]
  },
  {
   "cell_type": "code",
   "execution_count": 16,
   "id": "d89b7e0a",
   "metadata": {},
   "outputs": [
    {
     "name": "stdout",
     "output_type": "stream",
     "text": [
      "[0, 10, 20, 30]\n",
      "[5, 15, 25]\n"
     ]
    }
   ],
   "source": [
    "# with lambda function:\n",
    "\n",
    "l=[0,5,10,15,20,25,30]\n",
    "l1=list(filter(lambda x:x%2==0,l))\n",
    "print(l1)\n",
    "l2=list(filter(lambda x:x%2!=0,l))\n",
    "print(l2)"
   ]
  },
  {
   "cell_type": "markdown",
   "id": "ebb9d8e0",
   "metadata": {},
   "source": [
    "# map() function"
   ]
  },
  {
   "cell_type": "code",
   "execution_count": 1,
   "id": "a19d0842",
   "metadata": {},
   "outputs": [
    {
     "name": "stdout",
     "output_type": "stream",
     "text": [
      "[2, 4, 6, 8, 10]\n"
     ]
    }
   ],
   "source": [
    "# without lambda\n",
    "\n",
    "l=[1,2,3,4,5]\n",
    "def doubleIt(x):\n",
    "    return 2*x\n",
    "l1=list(map(doubleIt,l))\n",
    "print(l1)"
   ]
  },
  {
   "cell_type": "code",
   "execution_count": 2,
   "id": "146059e3",
   "metadata": {},
   "outputs": [
    {
     "name": "stdout",
     "output_type": "stream",
     "text": [
      "[2, 4, 6, 8, 10]\n"
     ]
    }
   ],
   "source": [
    "# with lambda\n",
    "\n",
    "l=[1,2,3,4,5]\n",
    "l1=list(map(lambda x:2*x,l))\n",
    "print(l1)"
   ]
  },
  {
   "cell_type": "code",
   "execution_count": 3,
   "id": "a8affbc0",
   "metadata": {},
   "outputs": [
    {
     "name": "stdout",
     "output_type": "stream",
     "text": [
      "[1, 4, 9, 16, 25]\n"
     ]
    }
   ],
   "source": [
    "# Q. To find square of given numbers\n",
    "\n",
    "l=[1,2,3,4,5]\n",
    "l1=list(map(lambda x:x*x,l))\n",
    "print(l1)"
   ]
  },
  {
   "cell_type": "code",
   "execution_count": 4,
   "id": "593e05dd",
   "metadata": {},
   "outputs": [
    {
     "name": "stdout",
     "output_type": "stream",
     "text": [
      "[2, 6, 12, 20]\n"
     ]
    }
   ],
   "source": [
    "# Q. multiplication\n",
    "\n",
    "l1=[1,2,3,4]\n",
    "l2=[2,3,4,5]\n",
    "l3=list(map(lambda x,y:x*y,l1,l2))\n",
    "print(l3)"
   ]
  },
  {
   "cell_type": "markdown",
   "id": "91d8e0aa",
   "metadata": {},
   "source": [
    "# reduce function:"
   ]
  },
  {
   "cell_type": "code",
   "execution_count": 6,
   "id": "3831188c",
   "metadata": {},
   "outputs": [
    {
     "name": "stdout",
     "output_type": "stream",
     "text": [
      "150\n",
      "12000000\n"
     ]
    }
   ],
   "source": [
    "# eg.\n",
    "\n",
    "from functools import*\n",
    "l=[10,20,30,40,50]\n",
    "result=reduce(lambda x,y:x+y,l)\n",
    "print(result)\n",
    "result=reduce(lambda x,y:x*y,l)\n",
    "print(result)"
   ]
  },
  {
   "cell_type": "code",
   "execution_count": 7,
   "id": "39e298e0",
   "metadata": {},
   "outputs": [
    {
     "name": "stdout",
     "output_type": "stream",
     "text": [
      "5050\n"
     ]
    }
   ],
   "source": [
    "# eg.\n",
    "\n",
    "from functools import*\n",
    "result=reduce(lambda x,y:x+y,range(1,101))\n",
    "print(result)"
   ]
  },
  {
   "cell_type": "code",
   "execution_count": 8,
   "id": "ee849179",
   "metadata": {},
   "outputs": [
    {
     "name": "stdout",
     "output_type": "stream",
     "text": [
      "<function f1 at 0x00000163FC518160>\n",
      "1528946590048\n"
     ]
    }
   ],
   "source": [
    "# eg.\n",
    "def f1():\n",
    "    print(\"Hello\")\n",
    "print(f1)\n",
    "print(id(f1))"
   ]
  },
  {
   "cell_type": "markdown",
   "id": "a83a0b4b",
   "metadata": {},
   "source": [
    "# Function Aliasing"
   ]
  },
  {
   "cell_type": "code",
   "execution_count": 9,
   "id": "64573533",
   "metadata": {},
   "outputs": [
    {
     "name": "stdout",
     "output_type": "stream",
     "text": [
      "1528946591920\n",
      "1528946591920\n",
      "Good Morning: durga\n",
      "Good Morning: durga\n"
     ]
    }
   ],
   "source": [
    "def wish(name):\n",
    "    print(\"Good Morning:\",name)\n",
    "greeting=wish\n",
    "print(id(wish))\n",
    "print(id(greeting))\n",
    "greeting(\"durga\")\n",
    "wish(\"durga\")"
   ]
  },
  {
   "cell_type": "code",
   "execution_count": 11,
   "id": "fceed404",
   "metadata": {},
   "outputs": [
    {
     "name": "stdout",
     "output_type": "stream",
     "text": [
      "Good Morning: durga\n",
      "Good Morning: durga\n",
      "Good Morning: pavan\n"
     ]
    }
   ],
   "source": [
    "# eg.\n",
    "\n",
    "def wish(name):\n",
    "    print(\"Good Morning:\",name)\n",
    "greeting=wish\n",
    "\n",
    "greeting(\"durga\")\n",
    "wish(\"durga\")\n",
    "\n",
    "del wish\n",
    "# wish (\"durga\")  #  NameError: name 'wish' is not defined\n",
    "greeting(\"pavan\")"
   ]
  },
  {
   "cell_type": "markdown",
   "id": "745667c6",
   "metadata": {},
   "source": [
    "# Nested Function"
   ]
  },
  {
   "cell_type": "code",
   "execution_count": 13,
   "id": "86afe878",
   "metadata": {},
   "outputs": [
    {
     "name": "stdout",
     "output_type": "stream",
     "text": [
      "outer function started\n",
      "outer function calling inner function\n",
      "inner function execution\n"
     ]
    }
   ],
   "source": [
    "def outer():\n",
    "    print(\"outer function started\")\n",
    "    def inner():\n",
    "        print(\"inner function execution\")\n",
    "    print(\"outer function calling inner function\")\n",
    "    inner()\n",
    "outer()\n",
    "# inner()  #  NameError: name 'inner' is not defined\n"
   ]
  },
  {
   "cell_type": "code",
   "execution_count": 14,
   "id": "ed1b0273",
   "metadata": {},
   "outputs": [
    {
     "name": "stdout",
     "output_type": "stream",
     "text": [
      "outer function started\n",
      "outer function returning inner function\n",
      "inner function execution\n",
      "inner function execution\n",
      "inner function execution\n"
     ]
    }
   ],
   "source": [
    "def outer():\n",
    "    print(\"outer function started\")\n",
    "    def inner():\n",
    "        print(\"inner function execution\")\n",
    "    print(\"outer function returning inner function\")\n",
    "    return inner\n",
    "f1=outer()\n",
    "f1()\n",
    "f1()\n",
    "f1()"
   ]
  },
  {
   "cell_type": "code",
   "execution_count": null,
   "id": "7901b810",
   "metadata": {},
   "outputs": [],
   "source": []
  }
 ],
 "metadata": {
  "kernelspec": {
   "display_name": "Python 3 (ipykernel)",
   "language": "python",
   "name": "python3"
  },
  "language_info": {
   "codemirror_mode": {
    "name": "ipython",
    "version": 3
   },
   "file_extension": ".py",
   "mimetype": "text/x-python",
   "name": "python",
   "nbconvert_exporter": "python",
   "pygments_lexer": "ipython3",
   "version": "3.10.9"
  }
 },
 "nbformat": 4,
 "nbformat_minor": 5
}
