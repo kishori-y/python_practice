{
 "cells": [
  {
   "cell_type": "markdown",
   "id": "05d6831b",
   "metadata": {},
   "source": [
    "# Function Decorators"
   ]
  },
  {
   "cell_type": "code",
   "execution_count": 3,
   "id": "8828bf14",
   "metadata": {},
   "outputs": [
    {
     "name": "stdout",
     "output_type": "stream",
     "text": [
      "Hello Durga Good Morning\n",
      "Hello Ravi Good Morning\n",
      "Hello Sunny Bad Morning\n"
     ]
    }
   ],
   "source": [
    "# eg.\n",
    "\n",
    "def decor(func):\n",
    "    def inner (name):\n",
    "        if name ==\"sunny\":\n",
    "            print(\"Hello Sunny Bad Morning\")\n",
    "        else:\n",
    "            func(name)\n",
    "    return inner\n",
    "@ decor\n",
    "def wish(name):\n",
    "    print(\"Hello\",name,\"Good Morning\")\n",
    "    \n",
    "wish(\"Durga\")\n",
    "wish(\"Ravi\")\n",
    "wish(\"sunny\")"
   ]
  },
  {
   "cell_type": "code",
   "execution_count": 6,
   "id": "6810be47",
   "metadata": {},
   "outputs": [
    {
     "name": "stdout",
     "output_type": "stream",
     "text": [
      "Hello durga Good morning\n",
      "Hello sunny Good morning\n",
      "Hello durga Good morning\n",
      "Hello Sunny bad Morning\n"
     ]
    }
   ],
   "source": [
    "# Q. How to call same function with decorator and without decorator:\n",
    "\n",
    "# without @ decor\n",
    "\n",
    "def decor(func):\n",
    "    def inner(name):\n",
    "        if name==\"sunny\":\n",
    "            print(\"Hello Sunny bad Morning\")\n",
    "        else:\n",
    "            func(name)\n",
    "    return inner\n",
    "\n",
    "def wish(name):\n",
    "    print(\"Hello\",name,\"Good morning\")\n",
    "decorfunction=decor(wish)\n",
    "\n",
    "wish(\"durga\")\n",
    "wish(\"sunny\")\n",
    "\n",
    "decorfunction(\"durga\")\n",
    "decorfunction(\"sunny\")"
   ]
  },
  {
   "cell_type": "code",
   "execution_count": 2,
   "id": "5b0e7650",
   "metadata": {},
   "outputs": [
    {
     "name": "stdout",
     "output_type": "stream",
     "text": [
      "We are dividing 20 with 2\n",
      "10.0\n",
      "We are dividing 20 with 0\n",
      "OOPS.... can not divide\n",
      "None\n"
     ]
    }
   ],
   "source": [
    "# with decorator\n",
    "\n",
    "def smart_division(func):\n",
    "    def inner(a,b):\n",
    "        print(\"We are dividing\",a,\"with\",b)\n",
    "        if b==0:\n",
    "            print(\"OOPS.... can not divide\")\n",
    "            return\n",
    "        else:\n",
    "            return func(a,b)\n",
    "    return inner\n",
    "\n",
    "@smart_division\n",
    "def division(a,b):\n",
    "    return a/b\n",
    "\n",
    "print(division(20,2))\n",
    "print(division(20,0))\n"
   ]
  },
  {
   "cell_type": "markdown",
   "id": "262fbd6d",
   "metadata": {},
   "source": [
    "# Decorator Chaining"
   ]
  },
  {
   "cell_type": "code",
   "execution_count": 14,
   "id": "a4ca8cdd",
   "metadata": {},
   "outputs": [
    {
     "name": "stdout",
     "output_type": "stream",
     "text": [
      "10\n",
      "100\n",
      "200\n"
     ]
    }
   ],
   "source": [
    "# eg.\n",
    "\n",
    "def decor1(func):\n",
    "    def inner ():\n",
    "         \n",
    "        x=func()\n",
    "        print(x)\n",
    "        return x*x\n",
    "         \n",
    "    return inner\n",
    "\n",
    "def decor(func):\n",
    "    def inner():\n",
    "        \n",
    "        x=func()\n",
    "        print(x)\n",
    "        return 2*x\n",
    "         \n",
    "    return inner\n",
    "\n",
    "@decor\n",
    "@decor1\n",
    "def num():\n",
    "    return 10\n",
    "\n",
    "print(num())\n",
    "    "
   ]
  },
  {
   "cell_type": "code",
   "execution_count": 13,
   "id": "a694515a",
   "metadata": {},
   "outputs": [
    {
     "name": "stdout",
     "output_type": "stream",
     "text": [
      "Second Decor(decor1) Execution\n",
      "First Decor(decor) Function Execution\n",
      "Hello Durga Good Morning\n"
     ]
    }
   ],
   "source": [
    "# Demo Program for decorator Chaining:\n",
    "\n",
    "def decor(func):\n",
    "    def inner(name):\n",
    "        print(\"First Decor(decor) Function Execution\")\n",
    "        func(name)\n",
    "    return inner\n",
    "\n",
    "def decor1(func):\n",
    "    def inner(name):\n",
    "        print(\"Second Decor(decor1) Execution\")\n",
    "        func(name)\n",
    "    return inner\n",
    "\n",
    "@decor1  # 1\n",
    "@decor   # 2\n",
    "def wish(name):\n",
    "    print(\"Hello\",name,\"Good Morning\")\n",
    "    \n",
    "wish(\"Durga\")"
   ]
  },
  {
   "cell_type": "markdown",
   "id": "fa934682",
   "metadata": {},
   "source": [
    "# Generator"
   ]
  },
  {
   "cell_type": "code",
   "execution_count": 19,
   "id": "3c829b5e",
   "metadata": {},
   "outputs": [
    {
     "name": "stdout",
     "output_type": "stream",
     "text": [
      "<class 'generator'>\n",
      "A\n",
      "B\n",
      "C\n"
     ]
    }
   ],
   "source": [
    "def mygen():\n",
    "    yield'A'\n",
    "    yield'B'\n",
    "    yield'C'\n",
    "    \n",
    "g=mygen()\n",
    "print(type(g))\n",
    "\n",
    "print(next(g))\n",
    "print(next(g))\n",
    "print(next(g))\n",
    " "
   ]
  },
  {
   "cell_type": "code",
   "execution_count": 20,
   "id": "28e9c7a7",
   "metadata": {},
   "outputs": [
    {
     "name": "stdout",
     "output_type": "stream",
     "text": [
      "Start Countdown\n",
      "5\n",
      "4\n",
      "3\n",
      "2\n",
      "1\n"
     ]
    }
   ],
   "source": [
    "def countdown(num):\n",
    "    print(\"Start Countdown\")\n",
    "    while(num>0):\n",
    "        yield num\n",
    "        num=num-1\n",
    "        \n",
    "values=countdown(5)\n",
    "for x in values:\n",
    "    print(x)"
   ]
  },
  {
   "cell_type": "code",
   "execution_count": 32,
   "id": "bc77ad9e",
   "metadata": {},
   "outputs": [
    {
     "name": "stdout",
     "output_type": "stream",
     "text": [
      "1\n",
      "2\n",
      "3\n",
      "4\n",
      "5\n"
     ]
    }
   ],
   "source": [
    "# Q. To Generate first n numbers:\n",
    "\n",
    "def firstn(num):\n",
    "    n=1\n",
    "    while n<=num:\n",
    "        yield n\n",
    "        n=n+1\n",
    "        \n",
    "values=firstn(5)\n",
    "  \n",
    "for x in values:\n",
    "    print(x)\n",
    "\n",
    "# We can convert generator into list as follows:\n",
    "\n",
    "#values=firstn(5)\n",
    "#l1=list(values)\n",
    "#print(l1)\n",
    " "
   ]
  },
  {
   "cell_type": "code",
   "execution_count": 33,
   "id": "a9bbb99f",
   "metadata": {},
   "outputs": [
    {
     "name": "stdout",
     "output_type": "stream",
     "text": [
      "0\n",
      "1\n",
      "1\n",
      "2\n",
      "3\n",
      "5\n",
      "8\n",
      "13\n",
      "21\n",
      "34\n",
      "55\n",
      "89\n"
     ]
    }
   ],
   "source": [
    "# Q. To generate fibonacci Numbers...(0,1,1,2,3,5,8,13,21,....)\n",
    "\n",
    "def fib():\n",
    "    a,b=0,1\n",
    "    while True:\n",
    "        yield a\n",
    "        a,b=b,a+b\n",
    "for f in fib():\n",
    "    if f>100:\n",
    "        break\n",
    "    print(f)"
   ]
  },
  {
   "cell_type": "code",
   "execution_count": 7,
   "id": "5656f3f0",
   "metadata": {},
   "outputs": [
    {
     "ename": "AttributeError",
     "evalue": "module 'time' has no attribute 'clock'",
     "output_type": "error",
     "traceback": [
      "\u001b[1;31m---------------------------------------------------------------------------\u001b[0m",
      "\u001b[1;31mAttributeError\u001b[0m                            Traceback (most recent call last)",
      "Cell \u001b[1;32mIn[7], line 32\u001b[0m\n\u001b[0;32m     22\u001b[0m         person \u001b[38;5;241m=\u001b[39m {\n\u001b[0;32m     23\u001b[0m             \u001b[38;5;124m'\u001b[39m\u001b[38;5;124mid\u001b[39m\u001b[38;5;124m'\u001b[39m:i,\n\u001b[0;32m     24\u001b[0m             \u001b[38;5;124m'\u001b[39m\u001b[38;5;124mname\u001b[39m\u001b[38;5;124m'\u001b[39m:random\u001b[38;5;241m.\u001b[39mchoice(names),\n\u001b[0;32m     25\u001b[0m             \u001b[38;5;124m'\u001b[39m\u001b[38;5;124msubject\u001b[39m\u001b[38;5;124m'\u001b[39m:random\u001b[38;5;241m.\u001b[39mchoice(subjects)\n\u001b[0;32m     26\u001b[0m             }\n\u001b[0;32m     29\u001b[0m         \u001b[38;5;28;01myield\u001b[39;00m person\n\u001b[1;32m---> 32\u001b[0m t1\u001b[38;5;241m=\u001b[39m\u001b[43mtime\u001b[49m\u001b[38;5;241;43m.\u001b[39;49m\u001b[43mclock\u001b[49m()\n\u001b[0;32m     33\u001b[0m people\u001b[38;5;241m=\u001b[39mpeople_list(\u001b[38;5;241m10000\u001b[39m)\n\u001b[0;32m     34\u001b[0m t2\u001b[38;5;241m=\u001b[39mtime\u001b[38;5;241m.\u001b[39mclock()\n",
      "\u001b[1;31mAttributeError\u001b[0m: module 'time' has no attribute 'clock'"
     ]
    }
   ],
   "source": [
    "# Generators vs Nornal Collections wrt performance:\n",
    "\n",
    "import random\n",
    "import time \n",
    "\n",
    "names=[\"sunny\",\"bunny\",\"chinny\",\"vinny\"]\n",
    "subjects=[\"Python\",\"Java\",\"Blockchain\"]\n",
    "\n",
    "def people_list (num_people):\n",
    "    result = []\n",
    "    for i in range (num_people):\n",
    "        person = {\n",
    "            'id':i,\n",
    "            'name':random.choice(names),\n",
    "            'subject':random.choice(subjects)\n",
    "            }\n",
    "        results.append(person)\n",
    "    return results\n",
    "\n",
    "def people_generator (num_people):\n",
    "    for i in range (num_people):\n",
    "        person = {\n",
    "            'id':i,\n",
    "            'name':random.choice(names),\n",
    "            'subject':random.choice(subjects)\n",
    "            }\n",
    "         \n",
    "            \n",
    "        yield person\n",
    "        \n",
    "    \n",
    "t1=time.clock()\n",
    "people=people_list(10000)\n",
    "t2=time.clock()\n",
    "\n",
    "\n",
    "t1 = time.clock()\n",
    "people=people_generator(10000)\n",
    "t2=time.clock()\n",
    "\n",
    "print('Took{}'.format(t2-t1))\n"
   ]
  },
  {
   "cell_type": "code",
   "execution_count": null,
   "id": "10342e7f",
   "metadata": {},
   "outputs": [],
   "source": []
  }
 ],
 "metadata": {
  "kernelspec": {
   "display_name": "Python 3 (ipykernel)",
   "language": "python",
   "name": "python3"
  },
  "language_info": {
   "codemirror_mode": {
    "name": "ipython",
    "version": 3
   },
   "file_extension": ".py",
   "mimetype": "text/x-python",
   "name": "python",
   "nbconvert_exporter": "python",
   "pygments_lexer": "ipython3",
   "version": "3.10.9"
  }
 },
 "nbformat": 4,
 "nbformat_minor": 5
}
