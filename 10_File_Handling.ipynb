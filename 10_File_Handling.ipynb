{
 "cells": [
  {
   "cell_type": "code",
   "execution_count": 13,
   "id": "034d0020",
   "metadata": {},
   "outputs": [
    {
     "name": "stdout",
     "output_type": "stream",
     "text": [
      "Data written to the file successfully\n"
     ]
    }
   ],
   "source": [
    "# Writting data to text files:\n",
    "\n",
    "f=open(\"abc.txt\",\"w\")\n",
    "f.write(\"Durga\\n\")\n",
    "f.write(\"Software\\n\")\n",
    "f.write(\"Solutions\\n\")\n",
    "print(\"Data written to the file successfully\")"
   ]
  },
  {
   "cell_type": "code",
   "execution_count": 2,
   "id": "4c35f07e",
   "metadata": {},
   "outputs": [
    {
     "name": "stdout",
     "output_type": "stream",
     "text": [
      "List of lines written to the file successfully\n"
     ]
    }
   ],
   "source": [
    "# Writting data to text files:\n",
    "\n",
    "f=open(\"abcd.txt\", 'w')\n",
    "list=[\"Sunny\\n\",\"Bunny\\n\",\"Chinny\\n\",\"Vinny\\n\"]\n",
    "f.writelines(list)\n",
    "print(\"List of lines written to the file successfully\")\n",
    "f.close()"
   ]
  },
  {
   "cell_type": "code",
   "execution_count": 3,
   "id": "3a53be3f",
   "metadata": {},
   "outputs": [
    {
     "name": "stdout",
     "output_type": "stream",
     "text": [
      "Sunny\n",
      "Bunny\n",
      "Chinny\n",
      "Vinny\n",
      "\n"
     ]
    }
   ],
   "source": [
    "# 1 To read total data from the file\n",
    "\n",
    "f=open(\"abcd.txt\",'r')\n",
    "data=f.read()\n",
    "print (data)\n",
    "f.close()"
   ]
  },
  {
   "cell_type": "code",
   "execution_count": 4,
   "id": "a60a5a80",
   "metadata": {},
   "outputs": [
    {
     "name": "stdout",
     "output_type": "stream",
     "text": [
      "Sunny\n",
      "Bunn\n"
     ]
    }
   ],
   "source": [
    "# 2 To read only first 10 characters:\n",
    "\n",
    "f=open(\"abcd.txt\", 'r')\n",
    "data=f.read(10)\n",
    "print(data)\n",
    "f.close()"
   ]
  },
  {
   "cell_type": "code",
   "execution_count": 5,
   "id": "fd91406b",
   "metadata": {},
   "outputs": [
    {
     "name": "stdout",
     "output_type": "stream",
     "text": [
      "Sunny\n",
      "Bunny\n",
      "Chinny\n"
     ]
    }
   ],
   "source": [
    "# 3 To read data line by line:\n",
    "\n",
    "f=open(\"abcd.txt\",'r')\n",
    "line1=f.readline()\n",
    "print(line1,end='')\n",
    "line2=f.readline()\n",
    "print(line2,end='')\n",
    "line3=f.readline()\n",
    "print(line3,end='')\n",
    "f.close()"
   ]
  },
  {
   "cell_type": "code",
   "execution_count": 6,
   "id": "a20e1eb7",
   "metadata": {},
   "outputs": [
    {
     "name": "stdout",
     "output_type": "stream",
     "text": [
      "Sunny\n",
      "Bunny\n",
      "Chinny\n",
      "Vinny\n"
     ]
    }
   ],
   "source": [
    "# 4 To read all lines into list:\n",
    "\n",
    "f=open(\"abcd.txt\",'r')\n",
    "lines=f.readlines()\n",
    "for line in lines:\n",
    "    print(line,end='')\n",
    "    f.close()"
   ]
  },
  {
   "cell_type": "code",
   "execution_count": 12,
   "id": "c3605a48",
   "metadata": {},
   "outputs": [
    {
     "name": "stdout",
     "output_type": "stream",
     "text": [
      "Sun\n",
      "ny\n",
      "\n",
      "Bunn\n",
      "Remaining Data\n",
      "y\n",
      "Chinny\n",
      "Vinny\n",
      "\n"
     ]
    }
   ],
   "source": [
    "# 5 \n",
    "\n",
    "f=open(\"abcd.txt\",'r')\n",
    "print(f.read(3))\n",
    "print(f.readline())\n",
    "print(f.read(4))\n",
    "print(\"Remaining Data\")\n",
    "print(f.read())"
   ]
  },
  {
   "cell_type": "code",
   "execution_count": 15,
   "id": "7d4f5fdd",
   "metadata": {},
   "outputs": [
    {
     "name": "stdout",
     "output_type": "stream",
     "text": [
      "f file closed: False\n",
      "f file closed: True\n"
     ]
    }
   ],
   "source": [
    "# The with Statements:\n",
    "\n",
    "with open (\"abcd.txt\",'w') as f:\n",
    "    f.write (\"Durga\\n\")\n",
    "    f.write(\"Software\\n\")\n",
    "    f.write(\"Solutions\\n\")\n",
    "    print(\"f file closed:\",f.closed)\n",
    "print(\"f file closed:\",f.closed)"
   ]
  },
  {
   "cell_type": "code",
   "execution_count": 21,
   "id": "6e16f318",
   "metadata": {},
   "outputs": [
    {
     "name": "stdout",
     "output_type": "stream",
     "text": [
      "0\n",
      "Du\n",
      "2\n",
      "rga\n",
      "5\n"
     ]
    }
   ],
   "source": [
    "# tell() :-\n",
    "\n",
    "f=open(\"abcd.txt\",\"r\")\n",
    "print(f.tell())\n",
    "print(f.read(2))\n",
    "print(f.tell())\n",
    "print(f.read(3))\n",
    "print(f.tell())"
   ]
  },
  {
   "cell_type": "code",
   "execution_count": 37,
   "id": "dc1e36ea",
   "metadata": {},
   "outputs": [
    {
     "name": "stdout",
     "output_type": "stream",
     "text": [
      "All Students are STUPIDS\n",
      "The current cursor position 24\n",
      "The current cursor position 17\n",
      "Data after modification:\n",
      "All Students are GEMS!!!\n"
     ]
    }
   ],
   "source": [
    "# seek()\n",
    "\n",
    "data=\"All Students are STUPIDS\"\n",
    "f=open(\"abc.txt\",\"w\")\n",
    "f.write (data)\n",
    "with open(\"abc.txt\",\"r+\") as f:\n",
    "    text=f.read()\n",
    "    print(text)\n",
    "    print(\"The current cursor position\",f.tell())\n",
    "    f.seek(17)\n",
    "    print(\"The current cursor position\",f.tell())\n",
    "     \n",
    "    f.write(\"GEMS!!!\")\n",
    "    f.seek(0)\n",
    "    text=f.read()\n",
    "    \n",
    "    print(\"Data after modification:\")\n",
    "    print(text)\n",
    "    "
   ]
  },
  {
   "cell_type": "code",
   "execution_count": 6,
   "id": "c76b8ddb",
   "metadata": {},
   "outputs": [
    {
     "name": "stdout",
     "output_type": "stream",
     "text": [
      "Enter the file name:abc.txt\n",
      "File exist: abc.txt\n",
      "The content of file is:\n",
      "All Students are GEMS!!!\n",
      "All Students are GEMS!!!\n",
      "All Students are GEMS!!!\n",
      "All Students are GEMS!!!\n",
      "All Students are GEMS!!!\n"
     ]
    }
   ],
   "source": [
    "# Write a program to check whether the given file exist or not.\n",
    "#  if it is available then print its content.\n",
    "\n",
    "import os,sys\n",
    "fname=input(\"Enter the file name:\")\n",
    "if os.path.isfile (fname):\n",
    "    print(\"File exist:\",fname)\n",
    "    f=open(fname,'r')\n",
    "else:\n",
    "    print(\"File does not exist:\",fname)\n",
    "    sys.exit(0)\n",
    "print(\"The content of file is:\")\n",
    "data=f.read()\n",
    "print(data)"
   ]
  },
  {
   "cell_type": "code",
   "execution_count": 7,
   "id": "71afa39c",
   "metadata": {},
   "outputs": [
    {
     "name": "stdout",
     "output_type": "stream",
     "text": [
      "Enter the file name:abc.txt\n",
      "File exist: abc.txt\n",
      "The number of lines: 5\n",
      "The number of words: 20\n",
      "The number of characters: 124\n"
     ]
    }
   ],
   "source": [
    "# Q. Program to print the number of lines , words and characters present in the given file?\n",
    "\n",
    "import os,sys\n",
    "fname=input(\"Enter the file name:\")\n",
    "if os.path.isfile(fname):\n",
    "    print(\"File exist:\",fname)\n",
    "    f=open(fname,'r')\n",
    "else:\n",
    "    print(\"File does not exist:\",fname)\n",
    "    sys.exit(0)\n",
    "lcount=wcount=ccount=0\n",
    "for line in f:\n",
    "    lcount=lcount+1\n",
    "    ccount=ccount+len(line)\n",
    "    words=line.split()\n",
    "    wcount=wcount+len(words)\n",
    "print(\"The number of lines:\",lcount)\n",
    "print(\"The number of words:\",wcount)\n",
    "print(\"The number of characters:\",ccount)"
   ]
  },
  {
   "cell_type": "markdown",
   "id": "6703b8db",
   "metadata": {},
   "source": [
    "# Handling Binary Data:"
   ]
  },
  {
   "cell_type": "code",
   "execution_count": 1,
   "id": "04539463",
   "metadata": {},
   "outputs": [
    {
     "name": "stdout",
     "output_type": "stream",
     "text": [
      "New image is available with the name : newpic.jpg\n"
     ]
    }
   ],
   "source": [
    "# Q. Program to read image file and write to a new image file?\n",
    "\n",
    "f1=open(\"china.jpg\",\"rb\")\n",
    "f2=open(\"newpic.jpg\",\"wb\")\n",
    "bytes=f1.read()\n",
    "f2.write(bytes)\n",
    "print(\"New image is available with the name : newpic.jpg\")"
   ]
  },
  {
   "cell_type": "markdown",
   "id": "2e955ddf",
   "metadata": {},
   "source": [
    "# HANDLING CSV FILES:-"
   ]
  },
  {
   "cell_type": "code",
   "execution_count": 11,
   "id": "77ec9e04",
   "metadata": {},
   "outputs": [
    {
     "name": "stdout",
     "output_type": "stream",
     "text": [
      "Enter Number of Employees:3\n",
      "Enter Employee No:100\n",
      "Enter Employee Name:kishori\n",
      "Enter Employee Salary50000\n",
      "Enter Employee Address:narhe\n",
      "Enter Employee No:200\n",
      "Enter Employee Name:amol\n",
      "Enter Employee Salary60000\n",
      "Enter Employee Address:pune\n",
      "Enter Employee No:300\n",
      "Enter Employee Name:lokesh\n",
      "Enter Employee Salary80000\n",
      "Enter Employee Address:kotharud\n",
      "Total Employes data written to csv file successfully\n"
     ]
    }
   ],
   "source": [
    "# writing data to csv files :\n",
    "\n",
    "import csv \n",
    "with open(\"emp2.csv\",\"w\",newline='')as f:\n",
    "          w=csv.writer(f)\n",
    "          w.writerow([\"ENO\",\"ENAME\",\"ESAL\",\"EADDR\"])\n",
    "          n=int(input(\"Enter Number of Employees:\"))\n",
    "          for i in range(n):\n",
    "                eno=input(\"Enter Employee No:\")\n",
    "                ename=input(\"Enter Employee Name:\")\n",
    "                esal=input(\"Enter Employee Salary\")\n",
    "                eaddr=input(\"Enter Employee Address:\")\n",
    "                w.writerow([eno,ename,esal,eaddr])\n",
    "          \n",
    "print(\"Total Employes data written to csv file successfully\")\n"
   ]
  },
  {
   "cell_type": "code",
   "execution_count": 12,
   "id": "d7512574",
   "metadata": {},
   "outputs": [
    {
     "name": "stdout",
     "output_type": "stream",
     "text": [
      "Enter Number of Employees:3\n",
      "Enter Employee No:100\n",
      "Enter Employee Name:kishori\n",
      "Enter Employee Salary50000\n",
      "Enter Employee Address:narhe\n",
      "Enter Employee No:200\n",
      "Enter Employee Name:amol\n",
      "Enter Employee Salary60000\n",
      "Enter Employee Address:pune\n",
      "Enter Employee No:300\n",
      "Enter Employee Name:lokesh\n",
      "Enter Employee Salary80000\n",
      "Enter Employee Address:kotharud\n",
      "Total Employes data written to csv file successfully\n"
     ]
    }
   ],
   "source": [
    "# writing data to csv files :\n",
    "\n",
    "import csv \n",
    "with open(\"emp.csv\",\"w\",)as f:\n",
    "          w=csv.writer(f)\n",
    "          w.writerow([\"ENO\",\"ENAME\",\"ESAL\",\"EADDR\"])\n",
    "          n=int(input(\"Enter Number of Employees:\"))\n",
    "          for i in range(n):\n",
    "                eno=input(\"Enter Employee No:\")\n",
    "                ename=input(\"Enter Employee Name:\")\n",
    "                esal=input(\"Enter Employee Salary\")\n",
    "                eaddr=input(\"Enter Employee Address:\")\n",
    "                w.writerow([eno,ename,esal,eaddr])\n",
    "          \n",
    "print(\"Total Employes data written to csv file successfully\")\n"
   ]
  },
  {
   "cell_type": "code",
   "execution_count": 19,
   "id": "ebed3814",
   "metadata": {},
   "outputs": [
    {
     "name": "stdout",
     "output_type": "stream",
     "text": [
      "[['ENO', 'ENAME', 'ESAL', 'EADDR'], [], ['100', 'kishor', '50000', 'narhe'], [], ['200', 'amol', '60000', 'pune'], [], ['300', 'lokesh', '80000', 'kotharud'], []]\n",
      "ENO \tENAME \tESAL \tEADDR \t\n",
      "\n",
      "100 \tkishor \t50000 \tnarhe \t\n",
      "\n",
      "200 \tamol \t60000 \tpune \t\n",
      "\n",
      "300 \tlokesh \t80000 \tkotharud \t\n",
      "\n"
     ]
    }
   ],
   "source": [
    "# Reading Data from csv file:\n",
    "\n",
    "import csv\n",
    "f=open(\"emp.csv\",\"r\")\n",
    "r=csv.reader(f)\n",
    "data=list(r)\n",
    "print(data)\n",
    "for line in data:\n",
    "    for word in line:\n",
    "        print(word,\"\\t\",end='')\n",
    "    print()"
   ]
  },
  {
   "cell_type": "markdown",
   "id": "b83bb0a7",
   "metadata": {},
   "source": [
    "# Zipping and Unzipping files:\n"
   ]
  },
  {
   "cell_type": "code",
   "execution_count": 25,
   "id": "1c6763a6",
   "metadata": {},
   "outputs": [
    {
     "name": "stdout",
     "output_type": "stream",
     "text": [
      "files.zip file created successfully\n"
     ]
    }
   ],
   "source": [
    "# To create Zip file:\n",
    "\n",
    "from zipfile import*\n",
    "f=ZipFile(\"files.zip\",'w',ZIP_DEFLATED)\n",
    "f.write(\"file1.txt\")\n",
    "f.write(\"file2.txt\")\n",
    "f.write(\"file3.txt\")\n",
    "f.close()\n",
    "print(\"files.zip file created successfully\")"
   ]
  },
  {
   "cell_type": "code",
   "execution_count": 27,
   "id": "c97aef60",
   "metadata": {},
   "outputs": [
    {
     "name": "stdout",
     "output_type": "stream",
     "text": [
      "file name :  file1.txt\n",
      "The Content of this file is:\n",
      "Hi Good Morning !!!\n",
      "\n",
      "file name :  file2.txt\n",
      "The Content of this file is:\n",
      "Hi Good Afternoon !!!\n",
      "\n",
      "\n",
      "file name :  file3.txt\n",
      "The Content of this file is:\n",
      "Hi Good Evening !!!\n",
      "\n"
     ]
    }
   ],
   "source": [
    "# To perform unzip oeration :\n",
    "\n",
    "from zipfile import*\n",
    "f=ZipFile(\"files.zip\",'r',ZIP_STORED)\n",
    "names=f.namelist()\n",
    "for name in names:\n",
    "    print(\"file name : \",name)\n",
    "    print(\"The Content of this file is:\")\n",
    "    f1=open(name,'r')\n",
    "    print(f1.read())\n",
    "    print()"
   ]
  },
  {
   "cell_type": "code",
   "execution_count": 28,
   "id": "193128a6",
   "metadata": {},
   "outputs": [
    {
     "name": "stdout",
     "output_type": "stream",
     "text": [
      "Current Working Directory: C:\\Users\\Amol\\Desktop\\python practice\\My practice (python)\n"
     ]
    }
   ],
   "source": [
    "# Q. To know Current Working Directory:\n",
    "\n",
    "import os\n",
    "cwd=os.getcwd()\n",
    "print(\"Current Working Directory:\",cwd)"
   ]
  },
  {
   "cell_type": "code",
   "execution_count": 29,
   "id": "5e342087",
   "metadata": {},
   "outputs": [
    {
     "name": "stdout",
     "output_type": "stream",
     "text": [
      "my sub directory created in cwd\n"
     ]
    }
   ],
   "source": [
    "# Q. To create a sub directory in the current working directory\n",
    "\n",
    "import os\n",
    "os.mkdir(\"mysub\")\n",
    "print(\"my sub directory created in cwd\")"
   ]
  },
  {
   "cell_type": "code",
   "execution_count": 30,
   "id": "4f533cff",
   "metadata": {},
   "outputs": [
    {
     "name": "stdout",
     "output_type": "stream",
     "text": [
      "mysub2 created inside mysub\n"
     ]
    }
   ],
   "source": [
    "# To create a sub directory in mysub directory:\n",
    "\n",
    "import os \n",
    "os.mkdir(\"mysub/mysub2\")\n",
    "print(\"mysub2 created inside mysub\")"
   ]
  },
  {
   "cell_type": "code",
   "execution_count": 1,
   "id": "932b33f2",
   "metadata": {},
   "outputs": [
    {
     "name": "stdout",
     "output_type": "stream",
     "text": [
      "sub1 in that sub2 in that sub3 directories created.\n"
     ]
    }
   ],
   "source": [
    "# Q. To create multiple directories like sub1 in that sub2 in that sub3:\n",
    "\n",
    "import os\n",
    "os.makedirs(\"sub1/sub2/sub3\")\n",
    "print(\"sub1 in that sub2 in that sub3 directories created.\")"
   ]
  },
  {
   "cell_type": "code",
   "execution_count": 2,
   "id": "46d34e2b",
   "metadata": {},
   "outputs": [
    {
     "name": "stdout",
     "output_type": "stream",
     "text": [
      "mysub2 directory is deleted\n"
     ]
    }
   ],
   "source": [
    "# Q. To remove a directory:\n",
    "\n",
    "import os\n",
    "os.rmdir(\"mysub/mysub2\")\n",
    "print(\"mysub2 directory is deleted\")"
   ]
  },
  {
   "cell_type": "code",
   "execution_count": 3,
   "id": "d34bb27a",
   "metadata": {},
   "outputs": [
    {
     "name": "stdout",
     "output_type": "stream",
     "text": [
      "All 3 directories sub1, sub2, sub3 removed\n"
     ]
    }
   ],
   "source": [
    "# Q. To remove multiple directories in the path:\n",
    "\n",
    "import os\n",
    "os.removedirs(\"sub1/sub2/sub3\")\n",
    "print(\"All 3 directories sub1, sub2, sub3 removed\")"
   ]
  },
  {
   "cell_type": "code",
   "execution_count": 4,
   "id": "4ca399fb",
   "metadata": {},
   "outputs": [
    {
     "name": "stdout",
     "output_type": "stream",
     "text": [
      "mysub directory renamed to newdir\n"
     ]
    }
   ],
   "source": [
    "# Q To rename a directory:\n",
    "\n",
    "import os\n",
    "os.rename(\"mysub\",\"newdir\")\n",
    "print(\"mysub directory renamed to newdir\")"
   ]
  },
  {
   "cell_type": "code",
   "execution_count": 7,
   "id": "39a4104d",
   "metadata": {},
   "outputs": [
    {
     "name": "stdout",
     "output_type": "stream",
     "text": [
      "['.idea', '.ipynb_checkpoints', '10_File_Handling.ipynb', '1_Ternary_operator _And _Methematical_Functions.ipynb', '2_command_line_argument.ipynb', '3(1)_Flow_Control.ipynb', '3(2)_Flow_Control.ipynb', '3(3)_Flow_Control.ipynb', '3(4)_Flow_Control_Transfer_Statements.ipynb', '4(1)_String_Data_Type.ipynb', '4(2)_String_Data_Type_(Finding & Counting).ipynb', '4(3)_String_Data_Type_(Spliting_Joining_Checking_Formatting).ipynb', '4(4)_String_Data_Type.ipynb', '4(5)_String_Data_Type_(Formatting The Strings).ipynb', '5(1)_List_Data_Structure.ipynb', '5(2)_List_data_Structure_(Important Functions).ipynb', '6_Tuple_Data_Structure.ipynb', '7_Set_Data_Structure.ipynb', '8_Dictionary_Data_Structure.ipynb', '9_Functions.ipynb', '9_Functions_Decorator.ipynb', 'abc.txt', 'abcd.txt', 'china.jpg', 'emp.csv', 'emp2.csv', 'file1.txt', 'file2.txt', 'file3.txt', 'files.zip', 'newdir', 'newpic.jpg', 'oop(1)_Object_Oriented_Programing.ipynb']\n"
     ]
    }
   ],
   "source": [
    "# Q. To know contents of directory :\n",
    "\n",
    "import os\n",
    "print(os.listdir(\".\"))"
   ]
  },
  {
   "cell_type": "code",
   "execution_count": 10,
   "id": "b6af3119",
   "metadata": {},
   "outputs": [
    {
     "name": "stdout",
     "output_type": "stream",
     "text": [
      "Current directory path : .\n",
      "Directories : ['.idea', '.ipynb_checkpoints', 'newdir']\n",
      "Files : ['10_File_Handling.ipynb', '1_Ternary_operator _And _Methematical_Functions.ipynb', '2_command_line_argument.ipynb', '3(1)_Flow_Control.ipynb', '3(2)_Flow_Control.ipynb', '3(3)_Flow_Control.ipynb', '3(4)_Flow_Control_Transfer_Statements.ipynb', '4(1)_String_Data_Type.ipynb', '4(2)_String_Data_Type_(Finding & Counting).ipynb', '4(3)_String_Data_Type_(Spliting_Joining_Checking_Formatting).ipynb', '4(4)_String_Data_Type.ipynb', '4(5)_String_Data_Type_(Formatting The Strings).ipynb', '5(1)_List_Data_Structure.ipynb', '5(2)_List_data_Structure_(Important Functions).ipynb', '6_Tuple_Data_Structure.ipynb', '7_Set_Data_Structure.ipynb', '8_Dictionary_Data_Structure.ipynb', '9_Functions.ipynb', '9_Functions_Decorator.ipynb', 'abc.txt', 'abcd.txt', 'china.jpg', 'emp.csv', 'emp2.csv', 'file1.txt', 'file2.txt', 'file3.txt', 'files.zip', 'newpic.jpg', 'oop(1)_Object_Oriented_Programing.ipynb']\n",
      "\n",
      "Current directory path : .\\.idea\n",
      "Directories : ['inspectionProfiles']\n",
      "Files : ['.gitignore', 'misc.xml', 'modules.xml', 'My practice (python).iml', 'workspace.xml']\n",
      "\n",
      "Current directory path : .\\.idea\\inspectionProfiles\n",
      "Directories : []\n",
      "Files : ['profiles_settings.xml', 'Project_Default.xml']\n",
      "\n",
      "Current directory path : .\\.ipynb_checkpoints\n",
      "Directories : []\n",
      "Files : ['10_File_Handling-checkpoint.ipynb', '1_Ternary_operator _And _Methematical_Functions-checkpoint.ipynb', '2_command_line_argument-checkpoint.ipynb', '3(1)_Flow_Control-checkpoint.ipynb', '3(2)_Flow_Control-checkpoint.ipynb', '3(3)_Flow_Control-checkpoint.ipynb', '3(4)_Flow_Control_Transfer_Statements-checkpoint.ipynb', '4(1)_String_Data_Type-checkpoint.ipynb', '4(2)_String_Data_Type_(Finding & Counting)-checkpoint.ipynb', '4(3)_String_Data_Type_(Spliting_Joining_Checking_Formatting)-checkpoint.ipynb', '4(4)_String_Data_Type-checkpoint.ipynb', '4(5)_String_Data_Type_(Formatting The Strings)-checkpoint.ipynb', '5(1)_List_Data_Structure-checkpoint.ipynb', '5(2)_List_data_Structure_(Important Functions)-checkpoint.ipynb', '6_Tuple_Data_Structure-checkpoint.ipynb', '7_Set_Data_Structure-checkpoint.ipynb', '8_Dictionary_Data_Structure-checkpoint.ipynb', '9_Functions-checkpoint.ipynb', '9_Functions_Decorator-checkpoint.ipynb', 'oop(1)_Object_Oriented_Programing-checkpoint.ipynb']\n",
      "\n",
      "Current directory path : .\\newdir\n",
      "Directories : []\n",
      "Files : []\n",
      "\n"
     ]
    }
   ],
   "source": [
    "# Q. To display all contents of current working directory including sub directories :\n",
    "\n",
    "import os\n",
    "for dirpath,dirnames,filenames in os.walk('.'):\n",
    "    print(\"Current directory path :\",dirpath)\n",
    "    print(\"Directories :\",dirnames)\n",
    "    print(\"Files :\",filenames)\n",
    "    print()"
   ]
  },
  {
   "cell_type": "code",
   "execution_count": 14,
   "id": "bc99b886",
   "metadata": {},
   "outputs": [
    {
     "data": {
      "text/plain": [
       "2"
      ]
     },
     "execution_count": 14,
     "metadata": {},
     "output_type": "execute_result"
    }
   ],
   "source": [
    "# Running other programs from Python program :\n",
    "\n",
    "import os\n",
    "os.system(\"dir*.py\")\n",
    "os.system(\"py abc.py\")"
   ]
  },
  {
   "cell_type": "code",
   "execution_count": 15,
   "id": "0ef2f224",
   "metadata": {},
   "outputs": [
    {
     "name": "stdout",
     "output_type": "stream",
     "text": [
      "os.stat_result(st_mode=33206, st_ino=1688849860563149, st_dev=1822859224, st_nlink=1, st_uid=0, st_gid=0, st_size=124, st_atime=1685521049, st_mtime=1685533717, st_ctime=1685521049)\n"
     ]
    }
   ],
   "source": [
    "# Q. To print all statistics of file abc.txt:\n",
    "\n",
    "import os\n",
    "stats=os.stat(\"abc.txt\")\n",
    "print(stats)"
   ]
  },
  {
   "cell_type": "code",
   "execution_count": 17,
   "id": "7c6a7322",
   "metadata": {},
   "outputs": [
    {
     "name": "stdout",
     "output_type": "stream",
     "text": [
      "File size in bytes : 124\n",
      "File last accessed time : 2023-05-31 13:47:29.855234\n",
      "File last modified time : 2023-05-31 17:18:37.142558\n"
     ]
    }
   ],
   "source": [
    "# Q. To print specified properties :\n",
    "\n",
    "import os\n",
    "from datetime import*\n",
    "stats=os.stat(\"abc.txt\")\n",
    "print(\"File size in bytes :\",stats.st_size)\n",
    "print(\"File last accessed time :\",datetime.fromtimestamp(stats.st_atime))\n",
    "print(\"File last modified time :\",datetime.fromtimestamp(stats.st_mtime))\n"
   ]
  },
  {
   "cell_type": "markdown",
   "id": "980fe517",
   "metadata": {},
   "source": [
    "# Pickling And Unpickling of Objects"
   ]
  },
  {
   "cell_type": "code",
   "execution_count": 1,
   "id": "651e7be5",
   "metadata": {},
   "outputs": [
    {
     "name": "stdout",
     "output_type": "stream",
     "text": [
      "Pickling of Employee Object completed...\n",
      "Printing Employee information after unpickling...\n",
      "100 \t durga \t 1000 \t HYD\n"
     ]
    }
   ],
   "source": [
    "# Writing and reading state of object by using pickle module :\n",
    "\n",
    "import pickle\n",
    "class Employee:\n",
    "    def __init__(self,eno,ename,esal,eaddr):\n",
    "        self.eno=eno;\n",
    "        self.ename=ename;\n",
    "        self.esal=esal;\n",
    "        self.eaddr=eaddr\n",
    "    def display (self):\n",
    "        print(self.eno,\"\\t\",self.ename,\"\\t\",self.esal,\"\\t\",self.eaddr)\n",
    "with open(\"emp.dat\",\"wb\") as f:\n",
    "    e=Employee(100,\"durga\",1000,\"HYD\")\n",
    "    pickle.dump(e,f)\n",
    "    print(\"Pickling of Employee Object completed...\")\n",
    "    \n",
    "with open(\"emp.dat\",\"rb\") as f:\n",
    "    obj=pickle.load(f)\n",
    "    print(\"Printing Employee information after unpickling...\")\n",
    "    obj.display()"
   ]
  },
  {
   "cell_type": "code",
   "execution_count": null,
   "id": "7dd5b933",
   "metadata": {},
   "outputs": [],
   "source": [
    " "
   ]
  }
 ],
 "metadata": {
  "kernelspec": {
   "display_name": "Python 3 (ipykernel)",
   "language": "python",
   "name": "python3"
  },
  "language_info": {
   "codemirror_mode": {
    "name": "ipython",
    "version": 3
   },
   "file_extension": ".py",
   "mimetype": "text/x-python",
   "name": "python",
   "nbconvert_exporter": "python",
   "pygments_lexer": "ipython3",
   "version": "3.10.9"
  }
 },
 "nbformat": 4,
 "nbformat_minor": 5
}
