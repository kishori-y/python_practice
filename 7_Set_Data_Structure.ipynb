{
 "cells": [
  {
   "cell_type": "markdown",
   "id": "2f982996",
   "metadata": {},
   "source": [
    "# Set Data Structure"
   ]
  },
  {
   "cell_type": "markdown",
   "id": "9795be65",
   "metadata": {},
   "source": [
    "### Creation of Set objects:"
   ]
  },
  {
   "cell_type": "code",
   "execution_count": 1,
   "id": "93606707",
   "metadata": {},
   "outputs": [
    {
     "name": "stdout",
     "output_type": "stream",
     "text": [
      "{40, 10, 20, 30}\n",
      "<class 'set'>\n"
     ]
    }
   ],
   "source": [
    "s={10,20,30,40}\n",
    "print(s)\n",
    "print(type(s))"
   ]
  },
  {
   "cell_type": "markdown",
   "id": "12bc80db",
   "metadata": {},
   "source": [
    "## s=set(any sequence)"
   ]
  },
  {
   "cell_type": "code",
   "execution_count": 2,
   "id": "2fde6953",
   "metadata": {},
   "outputs": [
    {
     "name": "stdout",
     "output_type": "stream",
     "text": [
      "{40, 10, 20, 30}\n"
     ]
    }
   ],
   "source": [
    "# eg.1\n",
    "\n",
    "l=[10,20,30,40,10,20]\n",
    "s=set(l)\n",
    "print(s)"
   ]
  },
  {
   "cell_type": "code",
   "execution_count": 3,
   "id": "9084a01c",
   "metadata": {},
   "outputs": [
    {
     "name": "stdout",
     "output_type": "stream",
     "text": [
      "{0, 1, 2, 3, 4}\n"
     ]
    }
   ],
   "source": [
    "# eg.2\n",
    "s=set(range(5))\n",
    "print(s)"
   ]
  },
  {
   "cell_type": "markdown",
   "id": "5bf87e19",
   "metadata": {},
   "source": [
    "#### s={} --- it is treated as dictionary but not empty set."
   ]
  },
  {
   "cell_type": "code",
   "execution_count": 4,
   "id": "73c8a917",
   "metadata": {},
   "outputs": [
    {
     "name": "stdout",
     "output_type": "stream",
     "text": [
      "{}\n",
      "<class 'dict'>\n"
     ]
    }
   ],
   "source": [
    "# eg.1\n",
    "\n",
    "s={}\n",
    "print(s)\n",
    "print(type(s))"
   ]
  },
  {
   "cell_type": "code",
   "execution_count": 5,
   "id": "ae9e5d6d",
   "metadata": {},
   "outputs": [
    {
     "name": "stdout",
     "output_type": "stream",
     "text": [
      "set()\n",
      "<class 'set'>\n"
     ]
    }
   ],
   "source": [
    "# eg.2\n",
    "\n",
    "s=set()\n",
    "print(s)\n",
    "print(type(s))"
   ]
  },
  {
   "cell_type": "markdown",
   "id": "6ecddeeb",
   "metadata": {},
   "source": [
    "## Important functions of set:"
   ]
  },
  {
   "cell_type": "code",
   "execution_count": 6,
   "id": "7666c59a",
   "metadata": {},
   "outputs": [
    {
     "name": "stdout",
     "output_type": "stream",
     "text": [
      "{40, 10, 20, 30}\n"
     ]
    }
   ],
   "source": [
    "# 1. add(x):\n",
    "\n",
    "s={10,20,30}\n",
    "s.add(40)\n",
    "print(s)"
   ]
  },
  {
   "cell_type": "code",
   "execution_count": 7,
   "id": "71047d14",
   "metadata": {},
   "outputs": [
    {
     "name": "stdout",
     "output_type": "stream",
     "text": [
      "{0, 1, 2, 3, 4, 40, 10, 50, 20, 60, 30}\n"
     ]
    }
   ],
   "source": [
    "# 2. update(x,y,z):\n",
    "\n",
    "s={10,20,30}\n",
    "l=[40,50,60,10]\n",
    "s.update(l,range(5))\n",
    "print(s)"
   ]
  },
  {
   "cell_type": "code",
   "execution_count": 9,
   "id": "ba644fff",
   "metadata": {},
   "outputs": [
    {
     "name": "stdout",
     "output_type": "stream",
     "text": [
      "{10, 20, 30}\n",
      "{10, 20, 30}\n"
     ]
    }
   ],
   "source": [
    "# 3.copy():\n",
    "\n",
    "s={10,20,30}\n",
    "s1=s.copy()\n",
    "print(s1)\n",
    "print(s)"
   ]
  },
  {
   "cell_type": "code",
   "execution_count": 11,
   "id": "525c8d9d",
   "metadata": {},
   "outputs": [
    {
     "name": "stdout",
     "output_type": "stream",
     "text": [
      "{40, 10, 20, 30}\n",
      "40\n",
      "{10, 20, 30}\n"
     ]
    }
   ],
   "source": [
    "# 4.pop():\n",
    "\n",
    "s={40,10,30,20}\n",
    "print(s)\n",
    "print(s.pop())\n",
    "print(s)"
   ]
  },
  {
   "cell_type": "code",
   "execution_count": 12,
   "id": "5f4f3990",
   "metadata": {},
   "outputs": [
    {
     "name": "stdout",
     "output_type": "stream",
     "text": [
      "{40, 10, 20}\n"
     ]
    },
    {
     "ename": "KeyError",
     "evalue": "50",
     "output_type": "error",
     "traceback": [
      "\u001b[1;31m---------------------------------------------------------------------------\u001b[0m",
      "\u001b[1;31mKeyError\u001b[0m                                  Traceback (most recent call last)",
      "Cell \u001b[1;32mIn[12], line 6\u001b[0m\n\u001b[0;32m      4\u001b[0m s\u001b[38;5;241m.\u001b[39mremove(\u001b[38;5;241m30\u001b[39m)\n\u001b[0;32m      5\u001b[0m \u001b[38;5;28mprint\u001b[39m(s)\n\u001b[1;32m----> 6\u001b[0m \u001b[43ms\u001b[49m\u001b[38;5;241;43m.\u001b[39;49m\u001b[43mremove\u001b[49m\u001b[43m(\u001b[49m\u001b[38;5;241;43m50\u001b[39;49m\u001b[43m)\u001b[49m\n\u001b[0;32m      7\u001b[0m \u001b[38;5;28mprint\u001b[39m(s)\n",
      "\u001b[1;31mKeyError\u001b[0m: 50"
     ]
    }
   ],
   "source": [
    "# 5.remove(x):\n",
    "\n",
    "s={40,10,30,20}\n",
    "s.remove(30)\n",
    "print(s)\n",
    "s.remove(50)  # KeyError: 50\n",
    "print(s)"
   ]
  },
  {
   "cell_type": "code",
   "execution_count": 14,
   "id": "2b65c3fb",
   "metadata": {},
   "outputs": [
    {
     "name": "stdout",
     "output_type": "stream",
     "text": [
      "{20, 30}\n",
      "{20, 30}\n"
     ]
    }
   ],
   "source": [
    "# 6.discard(x):\n",
    "\n",
    "s={10,20,30}\n",
    "s.discard(10)\n",
    "print(s)\n",
    "s.discard(50)\n",
    "print(s)"
   ]
  },
  {
   "cell_type": "code",
   "execution_count": 15,
   "id": "a368aee6",
   "metadata": {},
   "outputs": [
    {
     "name": "stdout",
     "output_type": "stream",
     "text": [
      "{10, 20, 30}\n",
      "set()\n"
     ]
    }
   ],
   "source": [
    "# 7.clear():\n",
    "\n",
    "s={10,20,30}\n",
    "print(s)\n",
    "s.clear()\n",
    "print(s)"
   ]
  },
  {
   "cell_type": "markdown",
   "id": "5e055012",
   "metadata": {},
   "source": [
    "## Mathematical operations on the Set:"
   ]
  },
  {
   "cell_type": "code",
   "execution_count": 17,
   "id": "e524cbd8",
   "metadata": {},
   "outputs": [
    {
     "name": "stdout",
     "output_type": "stream",
     "text": [
      "{40, 10, 50, 20, 60, 30}\n",
      "{40, 10, 50, 20, 60, 30}\n"
     ]
    }
   ],
   "source": [
    "# 1. union():\n",
    "\n",
    "# x.union(y) or  x|y\n",
    "\n",
    "x={10,20,30,40}\n",
    "y={30,40,50,60}\n",
    "print(x.union(y))\n",
    "print(x|y)"
   ]
  },
  {
   "cell_type": "code",
   "execution_count": 18,
   "id": "1f2499f0",
   "metadata": {},
   "outputs": [
    {
     "name": "stdout",
     "output_type": "stream",
     "text": [
      "{40, 30}\n",
      "{40, 30}\n"
     ]
    }
   ],
   "source": [
    "# 2. intersection(): returns common elements present in both x and y\n",
    "\n",
    "#x.intersection(y)  or  x&y\n",
    "\n",
    "x={10,20,30,40}\n",
    "y={30,40,50,60}\n",
    "print(x.intersection(y))\n",
    "print(x&y)"
   ]
  },
  {
   "cell_type": "code",
   "execution_count": 19,
   "id": "76dcefb1",
   "metadata": {},
   "outputs": [
    {
     "name": "stdout",
     "output_type": "stream",
     "text": [
      "{10, 20}\n",
      "{10, 20}\n",
      "{50, 60}\n"
     ]
    }
   ],
   "source": [
    "# 3. difference(): returns the elements present in x but not in y\n",
    "\n",
    "#x.difference(y)  or  x-y\n",
    "\n",
    "x={10,20,30,40}\n",
    "y={30,40,50,60}\n",
    "print(x.difference(y))\n",
    "print(x-y)\n",
    "print(y-x)"
   ]
  },
  {
   "cell_type": "code",
   "execution_count": 5,
   "id": "0729ead9",
   "metadata": {},
   "outputs": [
    {
     "name": "stdout",
     "output_type": "stream",
     "text": [
      "{10, 50, 20, 60}\n",
      "{10, 50, 20, 60}\n"
     ]
    }
   ],
   "source": [
    "# 4. symmetric_difference():  returns elements present in either x or y but not in both\n",
    "\n",
    "# x.symmetric_difference(y)  or  x^y\n",
    "\n",
    "x={10,20,30,40}\n",
    "y={30,40,50,60}\n",
    "print(x.symmetric_difference(y))\n",
    "print(x^y)"
   ]
  },
  {
   "cell_type": "markdown",
   "id": "392eebff",
   "metadata": {},
   "source": [
    "## Membership operators:  (in, not in)"
   ]
  },
  {
   "cell_type": "code",
   "execution_count": 1,
   "id": "efddb8b0",
   "metadata": {},
   "outputs": [
    {
     "name": "stdout",
     "output_type": "stream",
     "text": [
      "{'a', 'g', 'u', 'd', 'r'}\n",
      "True\n",
      "False\n"
     ]
    }
   ],
   "source": [
    "s=set(\"durga\")\n",
    "print(s)\n",
    "print('d' in s)\n",
    "print('z' in s)"
   ]
  },
  {
   "cell_type": "markdown",
   "id": "22fc7ab2",
   "metadata": {},
   "source": [
    "## Set Comprehension:"
   ]
  },
  {
   "cell_type": "code",
   "execution_count": 4,
   "id": "1f08262d",
   "metadata": {},
   "outputs": [
    {
     "name": "stdout",
     "output_type": "stream",
     "text": [
      "{0, 1, 4, 9, 16}\n",
      "{16, 256, 64, 4}\n"
     ]
    }
   ],
   "source": [
    "s={x*x for x in range(5)}\n",
    "print(s)\n",
    "\n",
    "s={2**x for x in range(2,10,2)}\n",
    "print(s)"
   ]
  },
  {
   "cell_type": "markdown",
   "id": "4c4bf52b",
   "metadata": {},
   "source": [
    "### Set object won't support indexing and slicing:"
   ]
  },
  {
   "cell_type": "code",
   "execution_count": 8,
   "id": "aa1b2db0",
   "metadata": {},
   "outputs": [
    {
     "ename": "TypeError",
     "evalue": "'set' object is not subscriptable",
     "output_type": "error",
     "traceback": [
      "\u001b[1;31m---------------------------------------------------------------------------\u001b[0m",
      "\u001b[1;31mTypeError\u001b[0m                                 Traceback (most recent call last)",
      "Cell \u001b[1;32mIn[8], line 3\u001b[0m\n\u001b[0;32m      1\u001b[0m s\u001b[38;5;241m=\u001b[39m{\u001b[38;5;241m10\u001b[39m,\u001b[38;5;241m20\u001b[39m,\u001b[38;5;241m30\u001b[39m,\u001b[38;5;241m40\u001b[39m}\n\u001b[0;32m      2\u001b[0m \u001b[38;5;66;03m#print(s[0])\u001b[39;00m\n\u001b[1;32m----> 3\u001b[0m \u001b[38;5;28mprint\u001b[39m(\u001b[43ms\u001b[49m\u001b[43m[\u001b[49m\u001b[38;5;241;43m1\u001b[39;49m\u001b[43m:\u001b[49m\u001b[38;5;241;43m3\u001b[39;49m\u001b[43m]\u001b[49m)\n",
      "\u001b[1;31mTypeError\u001b[0m: 'set' object is not subscriptable"
     ]
    }
   ],
   "source": [
    "s={10,20,30,40}\n",
    "\n",
    "print(s[0])    # TypeError: 'set' object is not subscriptable\n",
    "\n",
    "print(s[1:3])  # TypeError: 'set' object is not subscriptable\n"
   ]
  },
  {
   "cell_type": "code",
   "execution_count": 9,
   "id": "dc827ad9",
   "metadata": {},
   "outputs": [
    {
     "name": "stdout",
     "output_type": "stream",
     "text": [
      "Enter List of values:10,20,30,40\n",
      "{40, 10, 20, 30}\n"
     ]
    }
   ],
   "source": [
    "# Q. Write a program to eliminate duplicates present in the list?\n",
    "\n",
    "# Approach-1:\n",
    "\n",
    "l=eval(input(\"Enter List of values:\"))\n",
    "s=set(l)\n",
    "print(s)"
   ]
  },
  {
   "cell_type": "code",
   "execution_count": 11,
   "id": "8061e236",
   "metadata": {},
   "outputs": [
    {
     "name": "stdout",
     "output_type": "stream",
     "text": [
      "Enter list of values:10,20,10,30,20,40,30,50\n",
      "[10, 20, 30, 40, 50]\n"
     ]
    }
   ],
   "source": [
    "# Approach-2:\n",
    "\n",
    "l=eval(input(\"Enter list of values:\"))\n",
    "l1=[]\n",
    "for x in l:\n",
    "    if x not in l1:\n",
    "        l1.append(x)\n",
    "print(l1)"
   ]
  },
  {
   "cell_type": "code",
   "execution_count": 12,
   "id": "86d16739",
   "metadata": {},
   "outputs": [
    {
     "name": "stdout",
     "output_type": "stream",
     "text": [
      "Enter word to search for vowels:durga\n",
      "The different vowel present in  durga are {'a', 'u'}\n"
     ]
    }
   ],
   "source": [
    "# Q. Write a program to print different vowels present in the given word ?\n",
    "\n",
    "w=input(\"Enter word to search for vowels:\")\n",
    "s=set(w)\n",
    "v={'a','e','i','o','u'}\n",
    "d=s.intersection(v)\n",
    "print(\"The different vowel present in \",w,\"are\",d)"
   ]
  },
  {
   "cell_type": "code",
   "execution_count": null,
   "id": "1ebc9950",
   "metadata": {},
   "outputs": [],
   "source": []
  }
 ],
 "metadata": {
  "kernelspec": {
   "display_name": "Python 3 (ipykernel)",
   "language": "python",
   "name": "python3"
  },
  "language_info": {
   "codemirror_mode": {
    "name": "ipython",
    "version": 3
   },
   "file_extension": ".py",
   "mimetype": "text/x-python",
   "name": "python",
   "nbconvert_exporter": "python",
   "pygments_lexer": "ipython3",
   "version": "3.10.9"
  }
 },
 "nbformat": 4,
 "nbformat_minor": 5
}
