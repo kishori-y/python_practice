{
 "cells": [
  {
   "cell_type": "code",
   "execution_count": 1,
   "id": "d473a29c",
   "metadata": {},
   "outputs": [
    {
     "name": "stdout",
     "output_type": "stream",
     "text": [
      "stmt-1\n"
     ]
    },
    {
     "ename": "ZeroDivisionError",
     "evalue": "division by zero",
     "output_type": "error",
     "traceback": [
      "\u001b[1;31m---------------------------------------------------------------------------\u001b[0m",
      "\u001b[1;31mZeroDivisionError\u001b[0m                         Traceback (most recent call last)",
      "Cell \u001b[1;32mIn[1], line 4\u001b[0m\n\u001b[0;32m      1\u001b[0m \u001b[38;5;66;03m# without try except:\u001b[39;00m\n\u001b[0;32m      3\u001b[0m \u001b[38;5;28mprint\u001b[39m(\u001b[38;5;124m\"\u001b[39m\u001b[38;5;124mstmt-1\u001b[39m\u001b[38;5;124m\"\u001b[39m)\n\u001b[1;32m----> 4\u001b[0m \u001b[38;5;28mprint\u001b[39m(\u001b[38;5;241;43m10\u001b[39;49m\u001b[38;5;241;43m/\u001b[39;49m\u001b[38;5;241;43m0\u001b[39;49m)\n\u001b[0;32m      5\u001b[0m \u001b[38;5;28mprint\u001b[39m(\u001b[38;5;124m\"\u001b[39m\u001b[38;5;124mstmt-3\u001b[39m\u001b[38;5;124m\"\u001b[39m)\n",
      "\u001b[1;31mZeroDivisionError\u001b[0m: division by zero"
     ]
    }
   ],
   "source": [
    "# without try-except:\n",
    "\n",
    "print(\"stmt-1\")\n",
    "print(10/0)\n",
    "print(\"stmt-3\")"
   ]
  },
  {
   "cell_type": "code",
   "execution_count": 3,
   "id": "1304d161",
   "metadata": {},
   "outputs": [
    {
     "name": "stdout",
     "output_type": "stream",
     "text": [
      "stmt-1\n",
      "5.0\n",
      "stmt-3\n"
     ]
    }
   ],
   "source": [
    "# with try-except:\n",
    "\n",
    "print(\"stmt-1\")\n",
    "try:\n",
    "    print(10/0)\n",
    "except ZeroDivisionError:\n",
    "    print(10/2)\n",
    "print(\"stmt-3\")    \n",
    "\n"
   ]
  },
  {
   "cell_type": "code",
   "execution_count": 5,
   "id": "0f8926ef",
   "metadata": {},
   "outputs": [
    {
     "name": "stdout",
     "output_type": "stream",
     "text": [
      "Exception raised and its discription is:  division by zero\n"
     ]
    }
   ],
   "source": [
    "# How to print exception information:\n",
    "\n",
    "try:\n",
    "    print(10/0)\n",
    "except ZeroDivisionError as msg:\n",
    "    print(\"Exception raised and its discription is: \",msg)"
   ]
  },
  {
   "cell_type": "code",
   "execution_count": 10,
   "id": "536ccc9e",
   "metadata": {},
   "outputs": [
    {
     "name": "stdout",
     "output_type": "stream",
     "text": [
      "Enter First Number:9\n",
      "ENTER SECOND NUMBER:ten\n",
      "Please Provide int value only.\n"
     ]
    }
   ],
   "source": [
    "# try with multiple except blocks:\n",
    "\n",
    "try:\n",
    "    x=int(input(\"Enter First Number:\"))\n",
    "    y=int(input(\"ENTER SECOND NUMBER:\"))\n",
    "    print(x/y)\n",
    "except ZeroDivisionError:\n",
    "    print(\"Can't Divide with Zero.\")\n",
    "except ValueError:\n",
    "    print(\"Please Provide int value only.\")"
   ]
  },
  {
   "cell_type": "code",
   "execution_count": 11,
   "id": "97fc1f16",
   "metadata": {},
   "outputs": [
    {
     "name": "stdout",
     "output_type": "stream",
     "text": [
      "Enter First Number:5\n",
      "ENTER SECOND NUMBER:0\n",
      "ArithmeticError\n"
     ]
    }
   ],
   "source": [
    "# try with multiple except blocks:\n",
    "\n",
    "try:\n",
    "    x=int(input(\"Enter First Number:\"))\n",
    "    y=int(input(\"ENTER SECOND NUMBER:\"))\n",
    "    print(x/y)\n",
    "\n",
    "except ArithmeticError:\n",
    "    print(\"ArithmeticError\")\n",
    "    \n",
    "except ZeroDivisionError:\n",
    "    print(\"ZeroDivisionError\")\n",
    " "
   ]
  },
  {
   "cell_type": "code",
   "execution_count": 12,
   "id": "cc6d008c",
   "metadata": {},
   "outputs": [
    {
     "name": "stdout",
     "output_type": "stream",
     "text": [
      "Enter First Number:6\n",
      "ENTER SECOND NUMBER:0\n",
      "ZeroDivisionError\n"
     ]
    }
   ],
   "source": [
    "# try with multiple except blocks:\n",
    "# Order of these except blocks is important.\n",
    "\n",
    "try:\n",
    "    x=int(input(\"Enter First Number:\"))\n",
    "    y=int(input(\"ENTER SECOND NUMBER:\"))\n",
    "    print(x/y)\n",
    "\n",
    "except ZeroDivisionError:\n",
    "    print(\"ZeroDivisionError\")\n",
    "\n",
    "    \n",
    "except ArithmeticError:\n",
    "    print(\"ArithmeticError\")\n",
    "    \n",
    " \n",
    " "
   ]
  },
  {
   "cell_type": "code",
   "execution_count": 5,
   "id": "ed9a096b",
   "metadata": {},
   "outputs": [
    {
     "name": "stdout",
     "output_type": "stream",
     "text": [
      "Enter First Number:9\n",
      "Enter Second Number:ten\n",
      "Plz provide valid numbers only and problem is : invalid literal for int() with base 10: 'ten'\n"
     ]
    }
   ],
   "source": [
    "# Single except block that can handle multiple exceptions:\n",
    "\n",
    "try:\n",
    "    x=int(input(\"Enter First Number:\"))\n",
    "    y=int(input(\"Enter Second Number:\")) \n",
    "    print(x/y)\n",
    "except (ZeroDivisionError,ValueError)as msg:\n",
    "    print(\"Plz provide valid numbers only and problem is :\",msg)\n"
   ]
  },
  {
   "cell_type": "code",
   "execution_count": 7,
   "id": "be1fb783",
   "metadata": {},
   "outputs": [
    {
     "name": "stdout",
     "output_type": "stream",
     "text": [
      "Enter First Number:10\n",
      "Enter Second Number:ten\n",
      "Default Except : Please provide valid input only\n"
     ]
    }
   ],
   "source": [
    "# default except block:\n",
    "\n",
    "try:\n",
    "    x=int(input(\"Enter First Number:\"))\n",
    "    y=int(input(\"Enter Second Number:\"))\n",
    "    print(x/y)\n",
    "except ZeroDivisionError:\n",
    "    print(\"ZerroDivisionError : cant divide with zero\")\n",
    "except :  # default except block should be last\n",
    "    print(\"Default Except : Please provide valid input only\")"
   ]
  },
  {
   "cell_type": "code",
   "execution_count": 8,
   "id": "3ccc14fc",
   "metadata": {},
   "outputs": [
    {
     "ename": "SyntaxError",
     "evalue": "default 'except:' must be last (1958689285.py, line 3)",
     "output_type": "error",
     "traceback": [
      "\u001b[1;36m  Cell \u001b[1;32mIn[8], line 3\u001b[1;36m\u001b[0m\n\u001b[1;33m    except:\u001b[0m\n\u001b[1;37m    ^\u001b[0m\n\u001b[1;31mSyntaxError\u001b[0m\u001b[1;31m:\u001b[0m default 'except:' must be last\n"
     ]
    }
   ],
   "source": [
    "try:\n",
    "    print(10/0)\n",
    "except:\n",
    "    print(\"Default Except :\")\n",
    "except ZeroDivisionError:\n",
    "    print(\"ZeroDivisionError\")"
   ]
  },
  {
   "cell_type": "markdown",
   "id": "e64d5b22",
   "metadata": {},
   "source": [
    "# finally block:"
   ]
  },
  {
   "cell_type": "code",
   "execution_count": 13,
   "id": "170a12d7",
   "metadata": {},
   "outputs": [
    {
     "name": "stdout",
     "output_type": "stream",
     "text": [
      "try\n",
      "5.0\n",
      "finally\n"
     ]
    }
   ],
   "source": [
    "# Case-1\n",
    "\n",
    "try:\n",
    "    print(\"try\")\n",
    "    print(10/2)\n",
    "except:\n",
    "    print(\"except\")\n",
    "finally:\n",
    "    print(\"finally\")"
   ]
  },
  {
   "cell_type": "code",
   "execution_count": 12,
   "id": "c59c75d8",
   "metadata": {},
   "outputs": [
    {
     "name": "stdout",
     "output_type": "stream",
     "text": [
      "try\n",
      "except\n",
      "finally\n"
     ]
    }
   ],
   "source": [
    "# Case-2\n",
    "\n",
    "try:\n",
    "    print(\"try\")\n",
    "    print(10/0)\n",
    "except ZeroDivisionError:\n",
    "    print(\"except\")\n",
    "finally:\n",
    "    print(\"finally\")"
   ]
  },
  {
   "cell_type": "code",
   "execution_count": 14,
   "id": "19e0aac3",
   "metadata": {},
   "outputs": [
    {
     "name": "stdout",
     "output_type": "stream",
     "text": [
      "try\n",
      "finally\n"
     ]
    },
    {
     "ename": "ZeroDivisionError",
     "evalue": "division by zero",
     "output_type": "error",
     "traceback": [
      "\u001b[1;31m---------------------------------------------------------------------------\u001b[0m",
      "\u001b[1;31mZeroDivisionError\u001b[0m                         Traceback (most recent call last)",
      "Cell \u001b[1;32mIn[14], line 5\u001b[0m\n\u001b[0;32m      3\u001b[0m \u001b[38;5;28;01mtry\u001b[39;00m:\n\u001b[0;32m      4\u001b[0m     \u001b[38;5;28mprint\u001b[39m(\u001b[38;5;124m\"\u001b[39m\u001b[38;5;124mtry\u001b[39m\u001b[38;5;124m\"\u001b[39m)\n\u001b[1;32m----> 5\u001b[0m     \u001b[38;5;28mprint\u001b[39m(\u001b[38;5;241;43m10\u001b[39;49m\u001b[38;5;241;43m/\u001b[39;49m\u001b[38;5;241;43m0\u001b[39;49m)\n\u001b[0;32m      6\u001b[0m \u001b[38;5;28;01mexcept\u001b[39;00m \u001b[38;5;167;01mNameError\u001b[39;00m:\n\u001b[0;32m      7\u001b[0m     \u001b[38;5;28mprint\u001b[39m(\u001b[38;5;124m\"\u001b[39m\u001b[38;5;124mexcept\u001b[39m\u001b[38;5;124m\"\u001b[39m)\n",
      "\u001b[1;31mZeroDivisionError\u001b[0m: division by zero"
     ]
    }
   ],
   "source": [
    "# Case-3\n",
    "\n",
    "try:\n",
    "    print(\"try\")\n",
    "    print(10/0)\n",
    "except NameError:\n",
    "    print(\"except\")\n",
    "finally:\n",
    "    print(\"finally\")  #ZeroDivisionError: division by zero (Abnormal Termination)"
   ]
  },
  {
   "cell_type": "code",
   "execution_count": null,
   "id": "d13af28e",
   "metadata": {},
   "outputs": [],
   "source": [
    "import os\n",
    "try:\n",
    "    print(\"try\")\n",
    "    os._exit(0)\n",
    "except NameError:\n",
    "    print(\"except\")\n",
    "finally:\n",
    "    print(\"finally\")"
   ]
  },
  {
   "cell_type": "code",
   "execution_count": 12,
   "id": "1f0fddf4",
   "metadata": {},
   "outputs": [
    {
     "name": "stdout",
     "output_type": "stream",
     "text": [
      "Enter Age: 27\n",
      "You wiil get match details soon by email !!!\n"
     ]
    }
   ],
   "source": [
    "# hou to define and Customized Exceptions:\n",
    "\n",
    "class TooYoungException(Exception):\n",
    "    def __init__(self,arg):\n",
    "        self.msg=arg\n",
    "\n",
    "        \n",
    "class TooOldException(Exception):\n",
    "    def __init__(self,arg):\n",
    "        self.msg=arg\n",
    "        \n",
    "age=int(input(\"Enter Age: \"))\n",
    "\n",
    "if age>60:\n",
    "    raise TooYoungException (\"Please Wait some more time you will get best match soon !!!\")\n",
    "elif age<18:\n",
    "    raise TooOldException (\"Your age allready crossed marriage age ... no chance of getting marriage\")\n",
    "else:\n",
    "    print(\"You wiil get match details soon by email !!!\")"
   ]
  },
  {
   "cell_type": "code",
   "execution_count": null,
   "id": "b1ae2d27",
   "metadata": {},
   "outputs": [],
   "source": []
  },
  {
   "cell_type": "code",
   "execution_count": null,
   "id": "b3423ebe",
   "metadata": {},
   "outputs": [],
   "source": []
  },
  {
   "cell_type": "code",
   "execution_count": null,
   "id": "90dd7010",
   "metadata": {},
   "outputs": [],
   "source": []
  }
 ],
 "metadata": {
  "kernelspec": {
   "display_name": "Python 3 (ipykernel)",
   "language": "python",
   "name": "python3"
  },
  "language_info": {
   "codemirror_mode": {
    "name": "ipython",
    "version": 3
   },
   "file_extension": ".py",
   "mimetype": "text/x-python",
   "name": "python",
   "nbconvert_exporter": "python",
   "pygments_lexer": "ipython3",
   "version": "3.10.9"
  }
 },
 "nbformat": 4,
 "nbformat_minor": 5
}
