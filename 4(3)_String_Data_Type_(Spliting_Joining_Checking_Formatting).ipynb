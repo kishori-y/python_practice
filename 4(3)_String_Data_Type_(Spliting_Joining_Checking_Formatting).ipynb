{
 "cells": [
  {
   "cell_type": "markdown",
   "id": "4e2c64ba",
   "metadata": {},
   "source": [
    "## Spliting of strings\n",
    "### l=s.split(seperator)"
   ]
  },
  {
   "cell_type": "code",
   "execution_count": 3,
   "id": "e6d54a2a",
   "metadata": {},
   "outputs": [
    {
     "name": "stdout",
     "output_type": "stream",
     "text": [
      "durga\n",
      "software\n",
      "solutions\n"
     ]
    }
   ],
   "source": [
    "s=\"durga software solutions\"\n",
    "l=s.split()\n",
    "for x in l:\n",
    "    print(x)\n",
    "    "
   ]
  },
  {
   "cell_type": "code",
   "execution_count": 4,
   "id": "8524c2bf",
   "metadata": {},
   "outputs": [
    {
     "name": "stdout",
     "output_type": "stream",
     "text": [
      "22\n",
      "02\n",
      "2018\n"
     ]
    }
   ],
   "source": [
    "s=\"22-02-2018\"\n",
    "l=s.split('-')\n",
    "for x in l:\n",
    "    print(x)"
   ]
  },
  {
   "cell_type": "markdown",
   "id": "1d30055e",
   "metadata": {},
   "source": [
    "## Joining of Strings:\n",
    "### s=seperator.join(group of string)"
   ]
  },
  {
   "cell_type": "code",
   "execution_count": 5,
   "id": "6214fc26",
   "metadata": {},
   "outputs": [
    {
     "name": "stdout",
     "output_type": "stream",
     "text": [
      "sunny-bunny-chinny\n"
     ]
    }
   ],
   "source": [
    "t=('sunny','bunny','chinny')\n",
    "s='-'.join(t)\n",
    "print(s)"
   ]
  },
  {
   "cell_type": "code",
   "execution_count": 6,
   "id": "7abea415",
   "metadata": {},
   "outputs": [
    {
     "name": "stdout",
     "output_type": "stream",
     "text": [
      "Hyderabad:Singapore:London:Dubai\n"
     ]
    }
   ],
   "source": [
    "l=['Hyderabad','Singapore','London','Dubai']\n",
    "s=':'.join(l)\n",
    "print(s)"
   ]
  },
  {
   "cell_type": "markdown",
   "id": "9fb2c474",
   "metadata": {},
   "source": [
    "## Changing case of a String:"
   ]
  },
  {
   "cell_type": "code",
   "execution_count": 8,
   "id": "1c2933c1",
   "metadata": {},
   "outputs": [
    {
     "name": "stdout",
     "output_type": "stream",
     "text": [
      "LEARNING PYTHON IS VERY EASY.\n",
      "learning python is very easy.\n",
      "lEARNING pYTHON IS VERY EASY.\n",
      "Learning Python Is Very Easy.\n",
      "Learning python is very easy.\n"
     ]
    }
   ],
   "source": [
    "s=\"Learning Python is very easy.\"\n",
    "print(s.upper())\n",
    "print(s.lower())\n",
    "print(s.swapcase())\n",
    "print(s.title())\n",
    "print(s.capitalize())"
   ]
  },
  {
   "cell_type": "markdown",
   "id": "e96cd0ae",
   "metadata": {},
   "source": [
    "## Checking Starting and Ending part of the string.\n",
    "### s.startswith(substring)\n",
    "### s.endswith(substring)"
   ]
  },
  {
   "cell_type": "code",
   "execution_count": 9,
   "id": "b14b994e",
   "metadata": {},
   "outputs": [
    {
     "name": "stdout",
     "output_type": "stream",
     "text": [
      "True\n",
      "False\n",
      "True\n"
     ]
    }
   ],
   "source": [
    "s='learning python is very easy'\n",
    "print(s.startswith('learning'))\n",
    "print(s.endswith('learning'))\n",
    "print(s.endswith('easy'))"
   ]
  },
  {
   "cell_type": "markdown",
   "id": "e21755bc",
   "metadata": {},
   "source": [
    "## To Check type of Characters present in a string:"
   ]
  },
  {
   "cell_type": "code",
   "execution_count": 12,
   "id": "63924a0e",
   "metadata": {},
   "outputs": [
    {
     "name": "stdout",
     "output_type": "stream",
     "text": [
      "1 True\n",
      "2 False\n",
      "3 True\n",
      "4 False\n",
      "5 True\n",
      "6 True\n",
      "7 False\n",
      "8 True\n",
      "9 False\n",
      "10 True\n",
      "11 True\n"
     ]
    }
   ],
   "source": [
    "print(\"1\",\"durga786\".isalnum())\n",
    "print(\"2\",\"durga786\".isalpha())\n",
    "print(\"3\",\"durga\".isalpha())\n",
    "print(\"4\",\"durga\".isdigit())\n",
    "print(\"5\",\"786786\".isdigit())\n",
    "print(\"6\",\"abc\".islower())\n",
    "print(\"7\",\"Abc\".islower())\n",
    "print(\"8\",\"ABC\".isupper())\n",
    "print(\"9\",\"Learning python is easy\".istitle())\n",
    "print(\"10\",\"Learning Python Is Easy\".istitle())\n",
    "print(\"11\",\" \".isspace())"
   ]
  },
  {
   "cell_type": "code",
   "execution_count": 15,
   "id": "3fe90541",
   "metadata": {},
   "outputs": [
    {
     "name": "stdout",
     "output_type": "stream",
     "text": [
      "Enter any character:A\n",
      "Alpha Numeric Character\n",
      "Alphabet Character\n",
      "Upper case alphabate character\n"
     ]
    }
   ],
   "source": [
    "s=input(\"Enter any character:\")\n",
    "if s.isalnum():\n",
    "    print(\"Alpha Numeric Character\")\n",
    "    if s.isalpha():\n",
    "        print(\"Alphabet Character\")\n",
    "        if s.islower():\n",
    "            print(\"Lower case alphabat character\")\n",
    "        else:\n",
    "            print(\"Upper case alphabate character\")\n",
    "    else:\n",
    "        print(\"it is a digit\")\n",
    "elif s.isspace():\n",
    "    print(\"It is a space character\")\n",
    "else:\n",
    "    print(\"Non space special character\")\n",
    "    "
   ]
  },
  {
   "cell_type": "markdown",
   "id": "00b1db9c",
   "metadata": {},
   "source": [
    "## Formatting the Strings:"
   ]
  },
  {
   "cell_type": "code",
   "execution_count": 17,
   "id": "9a89e0e5",
   "metadata": {},
   "outputs": [
    {
     "name": "stdout",
     "output_type": "stream",
     "text": [
      "durga's salary is 10000 and his age is 48\n",
      "durga's salary is 10000 and his age is 48\n",
      "durga's salary is 10000 and his age is 48\n"
     ]
    }
   ],
   "source": [
    "name=\"durga\"\n",
    "salary=10000\n",
    "age=48\n",
    "print(\"{}'s salary is {} and his age is {}\".format(name,salary,age))\n",
    "print(\"{0}'s salary is {1} and his age is {2}\".format(name,salary,age))\n",
    "print(\"{x}'s salary is {y} and his age is {z}\".format(z=age,y=salary,x=name))"
   ]
  },
  {
   "cell_type": "code",
   "execution_count": null,
   "id": "009fa708",
   "metadata": {},
   "outputs": [],
   "source": []
  }
 ],
 "metadata": {
  "kernelspec": {
   "display_name": "Python 3 (ipykernel)",
   "language": "python",
   "name": "python3"
  },
  "language_info": {
   "codemirror_mode": {
    "name": "ipython",
    "version": 3
   },
   "file_extension": ".py",
   "mimetype": "text/x-python",
   "name": "python",
   "nbconvert_exporter": "python",
   "pygments_lexer": "ipython3",
   "version": "3.10.9"
  }
 },
 "nbformat": 4,
 "nbformat_minor": 5
}
