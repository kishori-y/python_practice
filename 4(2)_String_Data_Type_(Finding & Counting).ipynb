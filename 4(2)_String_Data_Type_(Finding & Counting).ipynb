{
 "cells": [
  {
   "cell_type": "markdown",
   "id": "0751eff3",
   "metadata": {},
   "source": [
    "## Finding Sub string"
   ]
  },
  {
   "cell_type": "markdown",
   "id": "d1cf9e5a",
   "metadata": {},
   "source": [
    "### For Foward Direction:-- find(), index().\n",
    "### For Backword Direction:-- rfind(), rindex()."
   ]
  },
  {
   "cell_type": "code",
   "execution_count": 6,
   "id": "ad74b038",
   "metadata": {},
   "outputs": [
    {
     "name": "stdout",
     "output_type": "stream",
     "text": [
      "9\n",
      "-1\n",
      "3\n",
      "21\n"
     ]
    }
   ],
   "source": [
    "# 1.find() :-- s.find(substring)\n",
    "\n",
    "s=\"Learning python is very easy.\"\n",
    "print(s.find(\"python\"))\n",
    "print(s.find(\"java\"))\n",
    "print(s.find(\"r\"))\n",
    "print(s.rfind(\"r\"))"
   ]
  },
  {
   "cell_type": "code",
   "execution_count": 8,
   "id": "f4f15a67",
   "metadata": {},
   "outputs": [
    {
     "name": "stdout",
     "output_type": "stream",
     "text": [
      "2\n",
      "10\n",
      "-1\n"
     ]
    }
   ],
   "source": [
    "# s.find(substring, begin, end)\n",
    "\n",
    "s=\"Learning python is very easy.\"\n",
    "\n",
    "print(s.find(\"a\"))\n",
    "print(s.find(\"y\",7,15))\n",
    "print(s.find(\"Z\",7,15))"
   ]
  },
  {
   "cell_type": "code",
   "execution_count": 1,
   "id": "bfae58c9",
   "metadata": {},
   "outputs": [
    {
     "name": "stdout",
     "output_type": "stream",
     "text": [
      "Enter main string:Learning python is very easy\n",
      "Enter sub string:python\n",
      "substring found\n"
     ]
    }
   ],
   "source": [
    "# 2.index() method:\n",
    "\n",
    "s=input (\"Enter main string:\")\n",
    "subs=input(\"Enter sub string:\")\n",
    "try:\n",
    "    n=s.index(subs)\n",
    "except ValueError:\n",
    "    print (\"substring not found\")\n",
    "else:\n",
    "    print(\"substring found\")"
   ]
  },
  {
   "cell_type": "code",
   "execution_count": 4,
   "id": "0be366b0",
   "metadata": {},
   "outputs": [
    {
     "name": "stdout",
     "output_type": "stream",
     "text": [
      "Enter main string: wegjhehjfeusncjdwsuwhnbmbdkwjhiuwty rvbrbhnncjbfhbgwkqwjjwjqb\n",
      "Enter sub string: j\n",
      "Found at position 3\n",
      "Found at position 7\n",
      "Found at position 14\n",
      "Found at position 28\n",
      "Found at position 45\n",
      "Found at position 55\n",
      "Found at position 56\n",
      "Found at position 58\n"
     ]
    }
   ],
   "source": [
    "# Q. Program to display all positions of substring in a given main string?\n",
    "\n",
    "s=input(\"Enter main string: \")\n",
    "subs=input(\"Enter sub string: \")\n",
    "flag=False\n",
    "pos=-1\n",
    "n=len(s)\n",
    "while True:\n",
    "    pos=s.find(subs,pos+1,n)\n",
    "    if pos==-1:\n",
    "        break\n",
    "    print(\"Found at position\",pos)\n",
    "    flag=True\n",
    "if flag==False:\n",
    "    print(\"Not Found\")"
   ]
  },
  {
   "cell_type": "markdown",
   "id": "37bdb647",
   "metadata": {},
   "source": [
    "## Counting substring in the given string :"
   ]
  },
  {
   "cell_type": "markdown",
   "id": "815f19e3",
   "metadata": {},
   "source": [
    "### 1: s.count(substring)\n",
    "### 2: S.count(substring,begin,end)"
   ]
  },
  {
   "cell_type": "code",
   "execution_count": 5,
   "id": "db5a7476",
   "metadata": {},
   "outputs": [
    {
     "name": "stdout",
     "output_type": "stream",
     "text": [
      "3\n",
      "3\n",
      "1\n"
     ]
    }
   ],
   "source": [
    "s=\"absjdabdjfhkabyu\"\n",
    "print(s.count(\"a\"))\n",
    "print(s.count(\"ab\"))\n",
    "print(s.count('a',3,8))"
   ]
  },
  {
   "cell_type": "markdown",
   "id": "c074e55f",
   "metadata": {},
   "source": [
    "# Replacing a string with another string:"
   ]
  },
  {
   "cell_type": "markdown",
   "id": "3cb33bed",
   "metadata": {},
   "source": [
    "### s.replace(oldstring,newstring)"
   ]
  },
  {
   "cell_type": "code",
   "execution_count": 6,
   "id": "63c269f9",
   "metadata": {},
   "outputs": [
    {
     "name": "stdout",
     "output_type": "stream",
     "text": [
      "Learning python is very easy.\n"
     ]
    }
   ],
   "source": [
    "s=\"Learning python is very difficult.\"\n",
    "s1=s.replace(\"difficult\",\"easy\")   # Replacing with new string.(new object will be created)\n",
    "print(s1)"
   ]
  },
  {
   "cell_type": "code",
   "execution_count": 9,
   "id": "ee035965",
   "metadata": {},
   "outputs": [
    {
     "name": "stdout",
     "output_type": "stream",
     "text": [
      "abab is available at: 2633303921072\n",
      "bbbb is available at: 2633324473008\n"
     ]
    }
   ],
   "source": [
    "s=\"abab\"\n",
    "s1=s.replace(\"a\",\"b\")\n",
    "print(s,\"is available at:\",id(s))\n",
    "print(s1,\"is available at:\",id(s1))"
   ]
  },
  {
   "cell_type": "code",
   "execution_count": null,
   "id": "046a2681",
   "metadata": {},
   "outputs": [],
   "source": []
  }
 ],
 "metadata": {
  "kernelspec": {
   "display_name": "Python 3 (ipykernel)",
   "language": "python",
   "name": "python3"
  },
  "language_info": {
   "codemirror_mode": {
    "name": "ipython",
    "version": 3
   },
   "file_extension": ".py",
   "mimetype": "text/x-python",
   "name": "python",
   "nbconvert_exporter": "python",
   "pygments_lexer": "ipython3",
   "version": "3.10.9"
  }
 },
 "nbformat": 4,
 "nbformat_minor": 5
}
