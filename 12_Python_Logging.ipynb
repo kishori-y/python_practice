{
 "cells": [
  {
   "cell_type": "markdown",
   "id": "dfe5e8a0",
   "metadata": {},
   "source": [
    " # PYTHON LOGGING"
   ]
  },
  {
   "cell_type": "code",
   "execution_count": 18,
   "id": "481ba7cf",
   "metadata": {},
   "outputs": [
    {
     "name": "stdout",
     "output_type": "stream",
     "text": [
      "Logging Module Demo\n"
     ]
    }
   ],
   "source": [
    "# Write a python program to create a log file and write WARNING \n",
    "# and higher level message?\n",
    "\n",
    "import logging\n",
    "logging.basicConfig(filename='log.txt',level=logging.WARNING)\n",
    "print(\"Logging Module Demo\")\n",
    "logging.debug(\"This is Debug message\")\n",
    "logging.info(\"This is info message\")\n",
    "logging.warning(\"This is warning message\")\n",
    "logging.error(\"This is Error message\")\n",
    "logging.critical (\"This is Critical message\")"
   ]
  },
  {
   "cell_type": "code",
   "execution_count": 19,
   "id": "a8500ced",
   "metadata": {},
   "outputs": [
    {
     "name": "stdout",
     "output_type": "stream",
     "text": [
      "Logging Module Demo\n"
     ]
    }
   ],
   "source": [
    "import logging\n",
    "logging.basicConfig(filename='log.txt',level=logging.DEBUG)\n",
    "print(\"Logging Module Demo\")\n",
    "logging.debug(\"This is Debug message\")\n",
    "logging.info(\"This is info message\")\n",
    "logging.warning(\"This is warning message\")\n",
    "logging.error(\"This is Error message\")\n",
    "logging.critical (\"This is Critical message\")"
   ]
  },
  {
   "cell_type": "code",
   "execution_count": 30,
   "id": "42539136",
   "metadata": {},
   "outputs": [
    {
     "name": "stdout",
     "output_type": "stream",
     "text": [
      "Enter First Number:10\n",
      "Enter Second Number:0\n",
      "can not divided with zero\n"
     ]
    }
   ],
   "source": [
    "import logging\n",
    "logging.basicConfig(filename='mylog.txt',level=logging.INFO)\n",
    "logging.info(\"A New Request Come:\")\n",
    "try:\n",
    "    x=int(input(\"Enter First Number:\"))\n",
    "    y=int(input(\"Enter Second Number:\"))\n",
    "    print(x/y)\n",
    "except ZeroDivisionError as msg:\n",
    "    print(\"can not divided with zero\")\n",
    "    logging.exception(msg)\n",
    "except ValueError as msg:\n",
    "    print(\"Enter only int values\")\n",
    "    logging.exception(msg)\n",
    "logging.info(\"Request processing Completed\")"
   ]
  },
  {
   "cell_type": "markdown",
   "id": "54342d27",
   "metadata": {},
   "source": [
    "# PYTHON DEBUGING BY USING ASSERTIONS"
   ]
  },
  {
   "cell_type": "code",
   "execution_count": 32,
   "id": "d08f448f",
   "metadata": {},
   "outputs": [
    {
     "name": "stdout",
     "output_type": "stream",
     "text": [
      "4\n",
      "9\n",
      "16\n"
     ]
    }
   ],
   "source": [
    "def squarelt(x):\n",
    "    return x*x\n",
    "assert squarelt(2)==4,\"The square of 2 should be 4\"\n",
    "assert squarelt(3)==9,\"The square of 3 should be 9\"\n",
    "assert squarelt(4)==16,\"The square of 4 should be 16\"\n",
    "print(squarelt(2))\n",
    "print(squarelt(3))\n",
    "print(squarelt(4))"
   ]
  },
  {
   "cell_type": "code",
   "execution_count": null,
   "id": "45eb1fea",
   "metadata": {},
   "outputs": [],
   "source": []
  }
 ],
 "metadata": {
  "kernelspec": {
   "display_name": "Python 3 (ipykernel)",
   "language": "python",
   "name": "python3"
  },
  "language_info": {
   "codemirror_mode": {
    "name": "ipython",
    "version": 3
   },
   "file_extension": ".py",
   "mimetype": "text/x-python",
   "name": "python",
   "nbconvert_exporter": "python",
   "pygments_lexer": "ipython3",
   "version": "3.10.9"
  }
 },
 "nbformat": 4,
 "nbformat_minor": 5
}
