{
 "cells": [
  {
   "cell_type": "code",
   "execution_count": 1,
   "id": "8b01400f",
   "metadata": {},
   "outputs": [
    {
     "name": "stdout",
     "output_type": "stream",
     "text": [
      "Wellcome to  DURGABANK\n",
      "Enter Your Name:d\n",
      "d-deposit\n",
      "w-withdraw\n",
      "e-exit\n",
      "choose your option:10000\n",
      "Invalid option..Pls choose valid option\n",
      "d-deposit\n",
      "w-withdraw\n",
      "e-exit\n",
      "choose your option:D\n",
      "Enter amount:20000\n",
      "Balance after Deposite: 20000.0\n",
      "d-deposit\n",
      "w-withdraw\n",
      "e-exit\n",
      "choose your option:w\n",
      "Enter amount:2000\n",
      "Balance after Withdraw: 18000.0\n",
      "d-deposit\n",
      "w-withdraw\n",
      "e-exit\n",
      "choose your option:d\n",
      "Enter amount:10000\n",
      "Balance after Deposite: 28000.0\n",
      "d-deposit\n",
      "w-withdraw\n",
      "e-exit\n",
      "choose your option:t\n",
      "Invalid option..Pls choose valid option\n",
      "d-deposit\n",
      "w-withdraw\n",
      "e-exit\n",
      "choose your option:e\n",
      "Thanks for banking\n"
     ]
    },
    {
     "ename": "SystemExit",
     "evalue": "",
     "output_type": "error",
     "traceback": [
      "An exception has occurred, use %tb to see the full traceback.\n",
      "\u001b[1;31mSystemExit\u001b[0m\n"
     ]
    },
    {
     "name": "stderr",
     "output_type": "stream",
     "text": [
      "C:\\Users\\Amol\\anaconda3\\lib\\site-packages\\IPython\\core\\interactiveshell.py:3468: UserWarning: To exit: use 'exit', 'quit', or Ctrl-D.\n",
      "  warn(\"To exit: use 'exit', 'quit', or Ctrl-D.\", stacklevel=1)\n"
     ]
    }
   ],
   "source": [
    "# We can modify or delete static variables only by using classname or cls variable\n",
    "\n",
    "import sys\n",
    "class Customer:\n",
    "    \"\"\"Customer class with bank operations.\"\"\"\n",
    "    bankname=\"DURGABANK\"\n",
    "    def __init__ (self,name,balance=0.0):\n",
    "        self.name=name\n",
    "        self.balance=balance\n",
    "    def deposit(self,amt):\n",
    "        self.balance=self.balance+amt\n",
    "        print(\"Balance after Deposite:\",self.balance)\n",
    "    def withdraw(self,amt):\n",
    "        if amt>self.balance:\n",
    "            print(\"Insufficient Funds.. cannot perform this operation\")\n",
    "            sys.exit()\n",
    "        self.balance=self.balance-amt\n",
    "        print(\"Balance after Withdraw:\",self.balance)\n",
    "print(\"Wellcome to \",Customer.bankname)\n",
    "name=input(\"Enter Your Name:\")\n",
    "c=Customer(name)\n",
    "while True:\n",
    "    print(\"d-deposit\\nw-withdraw\\ne-exit\")\n",
    "    option=input(\"choose your option:\")\n",
    "    if option==\"d\" or option==\"D\":\n",
    "        amt=float(input(\"Enter amount:\"))\n",
    "        c.deposit(amt)\n",
    "    elif option==\"w\" or option==\"W\":\n",
    "        amt=float(input(\"Enter amount:\"))\n",
    "        c.withdraw(amt)\n",
    "    elif option==\"e\" or option==\"E\":\n",
    "        print(\"Thanks for banking\")\n",
    "        sys.exit()\n",
    "    else:\n",
    "        print(\"Invalid option..Pls choose valid option\")\n",
    "    \n",
    "    "
   ]
  },
  {
   "cell_type": "markdown",
   "id": "82ed7bdd",
   "metadata": {},
   "source": [
    "# Local Variables:"
   ]
  },
  {
   "cell_type": "code",
   "execution_count": 2,
   "id": "759208e9",
   "metadata": {},
   "outputs": [
    {
     "name": "stdout",
     "output_type": "stream",
     "text": [
      "1000\n",
      "2000\n"
     ]
    }
   ],
   "source": [
    "# example 1\n",
    "\n",
    "class Test:\n",
    "    def m1(self):\n",
    "        a=1000\n",
    "        print(a)\n",
    "    def m2(self):\n",
    "        b=2000\n",
    "        print(b)\n",
    "t=Test()\n",
    "t.m1()\n",
    "t.m2()"
   ]
  },
  {
   "cell_type": "code",
   "execution_count": 4,
   "id": "9d851cae",
   "metadata": {},
   "outputs": [
    {
     "ename": "IndentationError",
     "evalue": "unindent does not match any outer indentation level (<tokenize>, line 6)",
     "output_type": "error",
     "traceback": [
      "\u001b[1;36m  File \u001b[1;32m<tokenize>:6\u001b[1;36m\u001b[0m\n\u001b[1;33m    print(a)\u001b[0m\n\u001b[1;37m    ^\u001b[0m\n\u001b[1;31mIndentationError\u001b[0m\u001b[1;31m:\u001b[0m unindent does not match any outer indentation level\n"
     ]
    }
   ],
   "source": [
    "# example 2\n",
    "\n",
    "class Test:\n",
    "    def m1(self):\n",
    "         a=1000\n",
    "        print(a)\n",
    "    def m2(self):\n",
    "        b=2000\n",
    "        print(a)\n",
    "        print(b)\n",
    "t=Test()\n",
    "t.m1()\n",
    "t.m2()\n",
    "        "
   ]
  },
  {
   "cell_type": "markdown",
   "id": "542e19e1",
   "metadata": {},
   "source": [
    "# Types of Methods:"
   ]
  },
  {
   "cell_type": "markdown",
   "id": "c9d7bbf2",
   "metadata": {},
   "source": [
    "## 1.Instance Methods\n",
    "## 2.Class Methods\n",
    "## 3.Static Methods"
   ]
  },
  {
   "cell_type": "markdown",
   "id": "a667249c",
   "metadata": {},
   "source": [
    "#"
   ]
  },
  {
   "cell_type": "markdown",
   "id": "7959b7cf",
   "metadata": {},
   "source": [
    "# 1.Instance Methods"
   ]
  },
  {
   "cell_type": "code",
   "execution_count": 5,
   "id": "61a81b57",
   "metadata": {},
   "outputs": [
    {
     "name": "stdout",
     "output_type": "stream",
     "text": [
      "Enter Number Of Students2\n",
      "Enter name:kishori\n",
      "Enter Marks90\n",
      "Hi kishori\n",
      "Your marks are : 90\n",
      "You got First Grade\n",
      "\n",
      "Enter name:amol\n",
      "Enter Marks80\n",
      "Hi amol\n",
      "Your marks are : 80\n",
      "You got First Grade\n",
      "\n"
     ]
    }
   ],
   "source": [
    "class Student:\n",
    "    def __init__(self,name,marks):\n",
    "        self.name=name\n",
    "        self.marks=marks\n",
    "    def display(self):\n",
    "        print('Hi',self.name)\n",
    "        print('Your marks are :',self.marks)\n",
    "    def grade(self):\n",
    "        if self.marks>=60:\n",
    "            print('You got First Grade')\n",
    "        elif self.marks>=50:\n",
    "            print('You got Second Grade')\n",
    "        elif self.marks>=35:\n",
    "            print('You got Third Grade')\n",
    "        else:\n",
    "            print('You are failed')\n",
    "n=int(input(\"Enter Number Of Students\"))\n",
    "for i in range(n):\n",
    "    name=input('Enter name:')\n",
    "    marks=int(input(\"Enter Marks\"))\n",
    "    s=Student(name,marks)\n",
    "    s.display()\n",
    "    s.grade()\n",
    "    print()"
   ]
  },
  {
   "cell_type": "markdown",
   "id": "5628b53c",
   "metadata": {},
   "source": [
    "# Setter And Getter Methods"
   ]
  },
  {
   "cell_type": "code",
   "execution_count": 6,
   "id": "aea390c7",
   "metadata": {},
   "outputs": [],
   "source": [
    "# Setter Method\n",
    "\n",
    "# Syntax:\n",
    "\n",
    "def setVariable(self,variable):\n",
    "    self.variable=variable\n"
   ]
  },
  {
   "cell_type": "code",
   "execution_count": 7,
   "id": "ff69ad4e",
   "metadata": {},
   "outputs": [],
   "source": [
    "# Getter Method\n",
    "\n",
    "# Syntax:\n",
    "\n",
    "def getVariable(self,variable):\n",
    "    return self.variable\n"
   ]
  },
  {
   "cell_type": "code",
   "execution_count": 8,
   "id": "ca72439b",
   "metadata": {},
   "outputs": [
    {
     "name": "stdout",
     "output_type": "stream",
     "text": [
      "Enter number of Students:2\n",
      "Enter Name:kishori\n",
      "Enter Marks:90\n",
      "Hi kishori\n",
      "Your Marks are: 90\n",
      "\n",
      "Enter Name:amol\n",
      "Enter Marks:80\n",
      "Hi amol\n",
      "Your Marks are: 80\n",
      "\n"
     ]
    }
   ],
   "source": [
    "class Student:\n",
    "    def setName(self,name):\n",
    "        self.name=name\n",
    "        \n",
    "    def getName(self):\n",
    "        return self.name\n",
    "    \n",
    "    def setMarks(self,marks):\n",
    "        self.marks=marks\n",
    "        \n",
    "    def getMarks(self):\n",
    "        return self.marks\n",
    "    \n",
    "n=int(input(\"Enter number of Students:\"))\n",
    "for i in range(n):\n",
    "    s=Student()\n",
    "    name=input('Enter Name:')\n",
    "    s.setName(name)\n",
    "    marks=int(input(\"Enter Marks:\"))\n",
    "    s.setMarks(marks)\n",
    "    \n",
    "    print(\"Hi\",s.getName())\n",
    "    print(\"Your Marks are:\",s.getMarks())\n",
    "    print()\n",
    "    \n",
    "    "
   ]
  },
  {
   "cell_type": "markdown",
   "id": "e2360bde",
   "metadata": {},
   "source": [
    "# 2 Class Methods:"
   ]
  },
  {
   "cell_type": "code",
   "execution_count": null,
   "id": "62d3c93f",
   "metadata": {},
   "outputs": [],
   "source": []
  }
 ],
 "metadata": {
  "kernelspec": {
   "display_name": "Python 3 (ipykernel)",
   "language": "python",
   "name": "python3"
  },
  "language_info": {
   "codemirror_mode": {
    "name": "ipython",
    "version": 3
   },
   "file_extension": ".py",
   "mimetype": "text/x-python",
   "name": "python",
   "nbconvert_exporter": "python",
   "pygments_lexer": "ipython3",
   "version": "3.10.9"
  }
 },
 "nbformat": 4,
 "nbformat_minor": 5
}
