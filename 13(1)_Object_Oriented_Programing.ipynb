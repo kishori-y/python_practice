{
 "cells": [
  {
   "cell_type": "markdown",
   "id": "50314b86",
   "metadata": {},
   "source": [
    "# OBJECT ORIENTED PROGRAMMING"
   ]
  },
  {
   "cell_type": "code",
   "execution_count": 1,
   "id": "c0296a91",
   "metadata": {},
   "outputs": [
    {
     "name": "stdout",
     "output_type": "stream",
     "text": [
      "This is student class with required data\n",
      "Help on class student in module __main__:\n",
      "\n",
      "class student(builtins.object)\n",
      " |  This is student class with required data\n",
      " |  \n",
      " |  Data descriptors defined here:\n",
      " |  \n",
      " |  __dict__\n",
      " |      dictionary for instance variables (if defined)\n",
      " |  \n",
      " |  __weakref__\n",
      " |      list of weak references to the object (if defined)\n",
      "\n"
     ]
    }
   ],
   "source": [
    "class student:\n",
    "    '''This is student class with required data'''\n",
    "print(student.__doc__)\n",
    "help(student)\n"
   ]
  },
  {
   "cell_type": "code",
   "execution_count": 9,
   "id": "fe9e5614",
   "metadata": {},
   "outputs": [
    {
     "name": "stdout",
     "output_type": "stream",
     "text": [
      "Hello I am : durga\n",
      "My age is : 40\n",
      "My marks are : 80\n"
     ]
    }
   ],
   "source": [
    "class student:\n",
    "    '''Developed by durga for python demo'''\n",
    "    def __init__(self):\n",
    "        self.name='durga'\n",
    "        self.age=40\n",
    "        self.marks=80\n",
    "        \n",
    "    def talk(self):\n",
    "        print(\"Hello I am :\",self.name)\n",
    "        print(\"My age is :\",self.age)\n",
    "        print(\"My marks are :\",self.marks)\n",
    "        \n",
    "s1=student( )\n",
    "s1.talk()\n",
    "    "
   ]
  },
  {
   "cell_type": "code",
   "execution_count": 14,
   "id": "9634b914",
   "metadata": {},
   "outputs": [
    {
     "name": "stdout",
     "output_type": "stream",
     "text": [
      "constructor execution...\n",
      "constructor execution...\n",
      "constructor execution...\n",
      "Method execution...\n"
     ]
    }
   ],
   "source": [
    "# Program to demonistrate constructor will exicute only once per obect:\n",
    "\n",
    "class Test:\n",
    "    \n",
    "    def __init__(self):\n",
    "        print(\"constructor execution...\")\n",
    "    \n",
    "    def m1(self):\n",
    "        print(\"Method execution...\")\n",
    "        \n",
    "t1=Test()\n",
    "t2=Test()\n",
    "t3=Test()\n",
    "t1.m1()"
   ]
  },
  {
   "cell_type": "code",
   "execution_count": 24,
   "id": "b384eb18",
   "metadata": {},
   "outputs": [
    {
     "name": "stdout",
     "output_type": "stream",
     "text": [
      "Student name: Durga\n",
      " RollNo: 101\n",
      " Marks: 80\n",
      "Student name: sunny\n",
      " RollNo: 102\n",
      " Marks: 90\n"
     ]
    }
   ],
   "source": [
    "class Student:\n",
    "    '''This is student class with required data'''\n",
    "    def __init__(self,x,y,z):\n",
    "        self.name=x\n",
    "        self.rollno=y\n",
    "        self.marks=z\n",
    "        \n",
    "    def display(self):\n",
    "        print(\"Student name: {}\\n RollNo: {}\\n Marks: {}\".format(self.name,self.rollno,self.marks))\n",
    "        \n",
    "s1=Student('Durga',101,80)\n",
    "s1.display()\n",
    "s2=Student('sunny',102,90)  \n",
    "s2.display()"
   ]
  },
  {
   "cell_type": "code",
   "execution_count": 22,
   "id": "6968dcb7",
   "metadata": {},
   "outputs": [
    {
     "name": "stdout",
     "output_type": "stream",
     "text": [
      "Hello my name is :  durga\n",
      "My rollno is :  101\n",
      "My marks are :  80\n",
      "Hello my name is :  sunny\n",
      "My rollno is :  102\n",
      "My marks are :  90\n"
     ]
    }
   ],
   "source": [
    "# Reference variable:\n",
    "\n",
    "class Student:\n",
    "    def __init__ (self,name,rollno,marks):\n",
    "        self.name=name\n",
    "        self.rollno=rollno\n",
    "        self.marks=marks\n",
    "        \n",
    "    def talk(self):\n",
    "        print(\"Hello my name is : \",self.name)\n",
    "        print(\"My rollno is : \",self.rollno)\n",
    "        print(\"My marks are : \",self.marks)\n",
    "        \n",
    "s1=Student('durga',101,80)  \n",
    "s1.talk()\n",
    "s2=Student('sunny',102,90)  \n",
    "s2.talk()"
   ]
  },
  {
   "cell_type": "code",
   "execution_count": 7,
   "id": "b408b514",
   "metadata": {},
   "outputs": [
    {
     "name": "stdout",
     "output_type": "stream",
     "text": [
      "\n",
      "Hello my name is:  durga\n",
      "My rollno is:  101\n",
      "My marks are:  80\n",
      "\n",
      "Student name:durga\n",
      "Rollno:101\n",
      "marks80\n",
      "\n",
      "Hello my name is:  sunny\n",
      "My rollno is:  102\n",
      "My marks are:  90\n",
      "\n",
      "Student name:sunny\n",
      "Rollno:102\n",
      "marks90\n"
     ]
    }
   ],
   "source": [
    "class Student:\n",
    "    def __init__ (self,x,y,z):\n",
    "        self.name=x\n",
    "        self.rollno=y\n",
    "        self.marks=z\n",
    "        \n",
    "    def display(self):\n",
    "        print(\"\\nHello my name is: \",self.name)\n",
    "        print(\"My rollno is: \",self.rollno)\n",
    "        print(\"My marks are: \",self.marks)\n",
    "        \n",
    "        print(\"\\nStudent name:{}\\nRollno:{}\\nmarks{}\".format(self.name,self.rollno,self.marks))\n",
    "        \n",
    "s1=Student('durga',101,80)  \n",
    "s1.display()\n",
    "s2=Student('sunny',102,90)  \n",
    "s2.display()"
   ]
  },
  {
   "cell_type": "markdown",
   "id": "4653bb3e",
   "metadata": {},
   "source": [
    "# INSTANCE VARIABLE"
   ]
  },
  {
   "cell_type": "code",
   "execution_count": 16,
   "id": "6a3cab92",
   "metadata": {},
   "outputs": [
    {
     "name": "stdout",
     "output_type": "stream",
     "text": [
      "{'eno': 100, 'ename': 'Durga', 'esal': 10000}\n",
      "{'eno': 100, 'ename': 'Durga', 'esal': 10000}\n"
     ]
    }
   ],
   "source": [
    "# 1 inside constructor by using self variable\n",
    "\n",
    "class Employee:\n",
    "    def __init__(self):\n",
    "        self.eno=100\n",
    "        self.ename='Durga'\n",
    "        self.esal=10000\n",
    "        \n",
    "e=Employee()\n",
    "e2=Employee()\n",
    "print(e.__dict__)\n",
    "print(e.__dict__)"
   ]
  },
  {
   "cell_type": "code",
   "execution_count": 26,
   "id": "fe35580b",
   "metadata": {},
   "outputs": [
    {
     "name": "stdout",
     "output_type": "stream",
     "text": [
      "{'a': 10, 'b': 20, 'c': 30, 'd': 40}\n"
     ]
    }
   ],
   "source": [
    "# 2 inside instance method by using self variable\n",
    "\n",
    "class Test:\n",
    "    def __init__(self):\n",
    "        self.a=10\n",
    "        self.b=20\n",
    "        \n",
    "    def m1(self):\n",
    "        self.c=30\n",
    "    \n",
    "t=Test()\n",
    "t.m1()\n",
    "t.d=40  # 3 Outside of the class by using object refrence variable\n",
    "print(t.__dict__)"
   ]
  },
  {
   "cell_type": "code",
   "execution_count": 22,
   "id": "c885b58a",
   "metadata": {},
   "outputs": [
    {
     "name": "stdout",
     "output_type": "stream",
     "text": [
      "10\n",
      "20\n",
      "10 20\n"
     ]
    }
   ],
   "source": [
    "# How to access instance variable\n",
    "\n",
    "class Test:\n",
    "    def __init__(self):\n",
    "        self.a=10\n",
    "        self.b=20\n",
    "        \n",
    "    def display(self):\n",
    "        print(self.a)\n",
    "        print(self.b)\n",
    "        \n",
    "t=Test() \n",
    "t.display()\n",
    "print(t.a,t.b)\n",
    "    "
   ]
  },
  {
   "cell_type": "code",
   "execution_count": 25,
   "id": "a2e637d6",
   "metadata": {},
   "outputs": [
    {
     "name": "stdout",
     "output_type": "stream",
     "text": [
      "{'a': 10, 'b': 20, 'c': 30, 'd': 40}\n",
      "{'a': 10, 'b': 20, 'c': 30}\n",
      "{'a': 10, 'b': 20}\n"
     ]
    }
   ],
   "source": [
    "# How to delete instance variable from the object\n",
    "\n",
    "class Test:\n",
    "    def __init__(self):\n",
    "        self.a=10\n",
    "        self.b=20\n",
    "        self.c=30\n",
    "        self.d=40\n",
    "        \n",
    "    def m1(self):\n",
    "        del self.d\n",
    "        \n",
    "t=Test() \n",
    "print(t.__dict__)\n",
    "t.m1()\n",
    "print(t.__dict__)\n",
    "del t.c\n",
    "print(t.__dict__)"
   ]
  },
  {
   "cell_type": "code",
   "execution_count": 26,
   "id": "92ac59fb",
   "metadata": {},
   "outputs": [
    {
     "name": "stdout",
     "output_type": "stream",
     "text": [
      "{'b': 20, 'c': 30, 'd': 40}\n",
      "{'a': 10, 'b': 20, 'c': 30, 'd': 40}\n"
     ]
    }
   ],
   "source": [
    "# The instance variables which are deleted from one object,will not be deleted from other objects\n",
    "\n",
    "class Test:\n",
    "    def __init__(self):\n",
    "        self.a=10\n",
    "        self.b=20\n",
    "        self.c=30\n",
    "        self.d=40\n",
    "        \n",
    "t1=Test()\n",
    "t2=Test()\n",
    "del t1.a\n",
    "print(t1.__dict__)\n",
    "print(t2.__dict__)\n",
    "        "
   ]
  },
  {
   "cell_type": "code",
   "execution_count": 29,
   "id": "b21e20c3",
   "metadata": {},
   "outputs": [
    {
     "name": "stdout",
     "output_type": "stream",
     "text": [
      "t1: 888 999\n",
      "t2: 10 20\n"
     ]
    }
   ],
   "source": [
    "class Test:\n",
    "    def __init__(self):\n",
    "        self.a=10\n",
    "        self.b=20\n",
    "        \n",
    "t1=Test()        \n",
    "t1.a=888\n",
    "t1.b=999\n",
    "t2=Test()\n",
    "print(\"t1:\",t1.a,t1.b)\n",
    "print(\"t2:\",t2.a,t2.b)"
   ]
  },
  {
   "cell_type": "markdown",
   "id": "5b44eb8c",
   "metadata": {},
   "source": [
    "# Static Variable"
   ]
  },
  {
   "cell_type": "code",
   "execution_count": 1,
   "id": "d96472b5",
   "metadata": {},
   "outputs": [
    {
     "name": "stdout",
     "output_type": "stream",
     "text": [
      "t1 :  10 20\n",
      "t2 :  10 20\n",
      "t1 :  888 999\n",
      "t2 :  888 20\n"
     ]
    }
   ],
   "source": [
    "class Test:\n",
    "    x=10\n",
    "    def __init__(self):\n",
    "        self.y=20\n",
    "t1=Test()\n",
    "t2=Test()\n",
    "print('t1 : ',t1.x,t1.y)\n",
    "print('t2 : ',t2.x,t2.y)\n",
    "Test.x=888\n",
    "t1.y=999\n",
    "\n",
    "print('t1 : ',t1.x,t1.y)\n",
    "print('t2 : ',t2.x,t2.y)\n"
   ]
  },
  {
   "cell_type": "code",
   "execution_count": 6,
   "id": "9a8ae7f1",
   "metadata": {},
   "outputs": [
    {
     "name": "stdout",
     "output_type": "stream",
     "text": [
      "{'__module__': '__main__', 'a': 10, '__init__': <function Test.__init__ at 0x0000027A2C6F24D0>, 'm1': <function Test.m1 at 0x0000027A2C6F2200>, 'm2': <classmethod(<function Test.m2 at 0x0000027A2C6F2320>)>, 'm3': <staticmethod(<function Test.m3 at 0x0000027A2C6F2560>)>, '__dict__': <attribute '__dict__' of 'Test' objects>, '__weakref__': <attribute '__weakref__' of 'Test' objects>, '__doc__': None}\n",
      "{'__module__': '__main__', 'a': 10, '__init__': <function Test.__init__ at 0x0000027A2C6F24D0>, 'm1': <function Test.m1 at 0x0000027A2C6F2200>, 'm2': <classmethod(<function Test.m2 at 0x0000027A2C6F2320>)>, 'm3': <staticmethod(<function Test.m3 at 0x0000027A2C6F2560>)>, '__dict__': <attribute '__dict__' of 'Test' objects>, '__weakref__': <attribute '__weakref__' of 'Test' objects>, '__doc__': None, 'b': 20}\n",
      "{'__module__': '__main__', 'a': 10, '__init__': <function Test.__init__ at 0x0000027A2C6F24D0>, 'm1': <function Test.m1 at 0x0000027A2C6F2200>, 'm2': <classmethod(<function Test.m2 at 0x0000027A2C6F2320>)>, 'm3': <staticmethod(<function Test.m3 at 0x0000027A2C6F2560>)>, '__dict__': <attribute '__dict__' of 'Test' objects>, '__weakref__': <attribute '__weakref__' of 'Test' objects>, '__doc__': None, 'b': 20, 'c': 30}\n",
      "{'__module__': '__main__', 'a': 10, '__init__': <function Test.__init__ at 0x0000027A2C6F24D0>, 'm1': <function Test.m1 at 0x0000027A2C6F2200>, 'm2': <classmethod(<function Test.m2 at 0x0000027A2C6F2320>)>, 'm3': <staticmethod(<function Test.m3 at 0x0000027A2C6F2560>)>, '__dict__': <attribute '__dict__' of 'Test' objects>, '__weakref__': <attribute '__weakref__' of 'Test' objects>, '__doc__': None, 'b': 20, 'c': 30, 'd1': 40, 'd2': 400}\n",
      "{'__module__': '__main__', 'a': 10, '__init__': <function Test.__init__ at 0x0000027A2C6F24D0>, 'm1': <function Test.m1 at 0x0000027A2C6F2200>, 'm2': <classmethod(<function Test.m2 at 0x0000027A2C6F2320>)>, 'm3': <staticmethod(<function Test.m3 at 0x0000027A2C6F2560>)>, '__dict__': <attribute '__dict__' of 'Test' objects>, '__weakref__': <attribute '__weakref__' of 'Test' objects>, '__doc__': None, 'b': 20, 'c': 30, 'd1': 40, 'd2': 400, 'e': 50}\n",
      "{'__module__': '__main__', 'a': 10, '__init__': <function Test.__init__ at 0x0000027A2C6F24D0>, 'm1': <function Test.m1 at 0x0000027A2C6F2200>, 'm2': <classmethod(<function Test.m2 at 0x0000027A2C6F2320>)>, 'm3': <staticmethod(<function Test.m3 at 0x0000027A2C6F2560>)>, '__dict__': <attribute '__dict__' of 'Test' objects>, '__weakref__': <attribute '__weakref__' of 'Test' objects>, '__doc__': None, 'b': 20, 'c': 30, 'd1': 40, 'd2': 400, 'e': 50, 'f': 60}\n"
     ]
    }
   ],
   "source": [
    "# Various places to declare static variables:\n",
    "\n",
    "class Test:\n",
    "    a=10\n",
    "    def __init__(self):\n",
    "        Test.b=20\n",
    "    def m1(self):\n",
    "        Test.c=30\n",
    "    @classmethod\n",
    "    def m2(cls):\n",
    "        cls.d1=40\n",
    "        Test.d2=400\n",
    "    @staticmethod\n",
    "    def m3():\n",
    "        Test.e=50\n",
    "print (Test.__dict__)\n",
    "t=Test()\n",
    "print (Test.__dict__)\n",
    "t.m1()\n",
    "print (Test.__dict__)\n",
    "Test.m2()\n",
    "print (Test.__dict__)\n",
    "Test.m3()\n",
    "print (Test.__dict__)\n",
    "Test.f=60\n",
    "print (Test.__dict__)\n",
    " "
   ]
  },
  {
   "cell_type": "code",
   "execution_count": 2,
   "id": "4e5bae34",
   "metadata": {},
   "outputs": [
    {
     "name": "stdout",
     "output_type": "stream",
     "text": [
      "10\n",
      "10\n",
      "10\n",
      "10\n",
      "10\n",
      "10\n",
      "10\n",
      "10\n",
      "10\n"
     ]
    }
   ],
   "source": [
    "# How to Access static variables:\n",
    "\n",
    "class Test:\n",
    "    a=10\n",
    "    def __init__ (self):\n",
    "        print(self.a)\n",
    "        print(Test.a)\n",
    "    def m1(self):\n",
    "        print(self.a)\n",
    "        print(Test.a)\n",
    "    @classmethod\n",
    "    def m2(cls):\n",
    "        print(cls.a)\n",
    "        print(Test.a)\n",
    "    @staticmethod\n",
    "    def m3():\n",
    "        print(Test.a)\n",
    "t=Test()\n",
    "print(Test.a)\n",
    "print(t.a)\n",
    "t.m1()\n",
    "t.m2()\n",
    "t.m3()\n",
    "    "
   ]
  },
  {
   "cell_type": "code",
   "execution_count": 4,
   "id": "19a40596",
   "metadata": {},
   "outputs": [
    {
     "name": "stdout",
     "output_type": "stream",
     "text": [
      "777\n",
      "888\n",
      "999\n"
     ]
    }
   ],
   "source": [
    "# where we can modify the value of static variable \n",
    "\n",
    "class Test:\n",
    "    a=777\n",
    "    @classmethod\n",
    "    def m1(cls):\n",
    "        cls.a=888\n",
    "    @staticmethod\n",
    "    def m2():\n",
    "        Test.a=999\n",
    "print(Test.a)\n",
    "Test.m1()\n",
    "print(Test.a)\n",
    "Test.m2()\n",
    "print(Test.a)"
   ]
  },
  {
   "cell_type": "code",
   "execution_count": 6,
   "id": "21a15778",
   "metadata": {},
   "outputs": [
    {
     "name": "stdout",
     "output_type": "stream",
     "text": [
      "10\n",
      "888\n"
     ]
    }
   ],
   "source": [
    "# if we change the value of static variable by using either self or obect refrence variable:\n",
    "\n",
    "# example 1:\n",
    "\n",
    "class Test:\n",
    "    a=10\n",
    "    def m1(self):\n",
    "        self.a=888\n",
    "        \n",
    "t1=Test()\n",
    "t1.m1()\n",
    "print(Test.a)\n",
    "print(t1.a)"
   ]
  },
  {
   "cell_type": "code",
   "execution_count": 8,
   "id": "f4332436",
   "metadata": {},
   "outputs": [
    {
     "name": "stdout",
     "output_type": "stream",
     "text": [
      "t1: 10 20\n",
      "t2: 10 20\n",
      "t1: 888 999\n",
      "t2: 10 20\n"
     ]
    }
   ],
   "source": [
    "# example 2:\n",
    "\n",
    "class Test:\n",
    "    x=10\n",
    "    def __init__ (self):\n",
    "        self.y=20\n",
    "        \n",
    "t1=Test()\n",
    "t2=Test()\n",
    "print('t1:',t1.x,t1.y)\n",
    "print('t2:',t2.x,t2.y)\n",
    "t1.x=888\n",
    "t1.y=999\n",
    "print('t1:',t1.x,t1.y)\n",
    "print('t2:',t2.x,t2.y)"
   ]
  },
  {
   "cell_type": "code",
   "execution_count": 9,
   "id": "14ca6ef5",
   "metadata": {},
   "outputs": [
    {
     "name": "stdout",
     "output_type": "stream",
     "text": [
      "888 999\n",
      "888 20\n"
     ]
    }
   ],
   "source": [
    "# example 3:\n",
    "\n",
    "class Test:\n",
    "    a=10\n",
    "    def __init__ (self):\n",
    "        self.b=20\n",
    "t1=Test()\n",
    "t2=Test()\n",
    "Test.a=888\n",
    "t1.b=999\n",
    "print( t1.a,t1.b)\n",
    "print( t2.a,t2.b)"
   ]
  },
  {
   "cell_type": "code",
   "execution_count": 10,
   "id": "eb8ea841",
   "metadata": {},
   "outputs": [
    {
     "name": "stdout",
     "output_type": "stream",
     "text": [
      "888 999\n",
      "10 20\n"
     ]
    }
   ],
   "source": [
    "# example 4:\n",
    "\n",
    "class Test:\n",
    "    a=10\n",
    "    def __init__(self):\n",
    "        self.b=20\n",
    "    def m1 (self):\n",
    "        self.a=888\n",
    "        self.b=999\n",
    "t1=Test()\n",
    "t2=Test()\n",
    "t1.m1()\n",
    "print( t1.a,t1.b)\n",
    "print( t2.a,t2.b)       "
   ]
  },
  {
   "cell_type": "code",
   "execution_count": 19,
   "id": "f63c6b59",
   "metadata": {},
   "outputs": [
    {
     "name": "stdout",
     "output_type": "stream",
     "text": [
      "888 20\n",
      "888 20\n",
      "888 999\n"
     ]
    }
   ],
   "source": [
    "# example 5:\n",
    "\n",
    "class Test:\n",
    "    a=10\n",
    "    def __init__(self):\n",
    "        self.b=20\n",
    "    @classmethod\n",
    "    def m1(cls):\n",
    "        cls.a=888\n",
    "        cls.b=999\n",
    "t1=Test()\n",
    "t2=Test()\n",
    "t1.m1()\n",
    "print(t1.a,t1.b)\n",
    "print(t2.a,t2.b)       \n",
    "print(Test.a,Test.b)        "
   ]
  },
  {
   "cell_type": "code",
   "execution_count": 18,
   "id": "510c50ea",
   "metadata": {},
   "outputs": [
    {
     "name": "stdout",
     "output_type": "stream",
     "text": [
      "{'__module__': '__main__', 'm1': <classmethod(<function Test.m1 at 0x000001C0DACD9B40>)>, '__dict__': <attribute '__dict__' of 'Test' objects>, '__weakref__': <attribute '__weakref__' of 'Test' objects>, '__doc__': None}\n"
     ]
    }
   ],
   "source": [
    "# How to delete static variables of a class:\n",
    "\n",
    "class Test:\n",
    "    a=10\n",
    "    @classmethod\n",
    "    def m1(cls):\n",
    "        del cls.a\n",
    "Test.m1()\n",
    "print(Test.__dict__)        "
   ]
  },
  {
   "cell_type": "code",
   "execution_count": 20,
   "id": "2a220c1e",
   "metadata": {},
   "outputs": [
    {
     "name": "stdout",
     "output_type": "stream",
     "text": [
      "{'__module__': '__main__', 'a': 10, '__init__': <function Test.__init__ at 0x000001C0DACD9D80>, 'm1': <function Test.m1 at 0x000001C0DACDA200>, 'm2': <classmethod(<function Test.m2 at 0x000001C0DACDA8C0>)>, 'm3': <staticmethod(<function Test.m3 at 0x000001C0DACD8700>)>, '__dict__': <attribute '__dict__' of 'Test' objects>, '__weakref__': <attribute '__weakref__' of 'Test' objects>, '__doc__': None}\n",
      "{'__module__': '__main__', '__init__': <function Test.__init__ at 0x000001C0DACD9D80>, 'm1': <function Test.m1 at 0x000001C0DACDA200>, 'm2': <classmethod(<function Test.m2 at 0x000001C0DACDA8C0>)>, 'm3': <staticmethod(<function Test.m3 at 0x000001C0DACD8700>)>, '__dict__': <attribute '__dict__' of 'Test' objects>, '__weakref__': <attribute '__weakref__' of 'Test' objects>, '__doc__': None, 'b': 20}\n",
      "{'__module__': '__main__', '__init__': <function Test.__init__ at 0x000001C0DACD9D80>, 'm1': <function Test.m1 at 0x000001C0DACDA200>, 'm2': <classmethod(<function Test.m2 at 0x000001C0DACDA8C0>)>, 'm3': <staticmethod(<function Test.m3 at 0x000001C0DACD8700>)>, '__dict__': <attribute '__dict__' of 'Test' objects>, '__weakref__': <attribute '__weakref__' of 'Test' objects>, '__doc__': None, 'c': 30}\n",
      "{'__module__': '__main__', '__init__': <function Test.__init__ at 0x000001C0DACD9D80>, 'm1': <function Test.m1 at 0x000001C0DACDA200>, 'm2': <classmethod(<function Test.m2 at 0x000001C0DACDA8C0>)>, 'm3': <staticmethod(<function Test.m3 at 0x000001C0DACD8700>)>, '__dict__': <attribute '__dict__' of 'Test' objects>, '__weakref__': <attribute '__weakref__' of 'Test' objects>, '__doc__': None, 'd': 40}\n",
      "{'__module__': '__main__', '__init__': <function Test.__init__ at 0x000001C0DACD9D80>, 'm1': <function Test.m1 at 0x000001C0DACDA200>, 'm2': <classmethod(<function Test.m2 at 0x000001C0DACDA8C0>)>, 'm3': <staticmethod(<function Test.m3 at 0x000001C0DACD8700>)>, '__dict__': <attribute '__dict__' of 'Test' objects>, '__weakref__': <attribute '__weakref__' of 'Test' objects>, '__doc__': None, 'e': 50}\n",
      "{'__module__': '__main__', '__init__': <function Test.__init__ at 0x000001C0DACD9D80>, 'm1': <function Test.m1 at 0x000001C0DACDA200>, 'm2': <classmethod(<function Test.m2 at 0x000001C0DACDA8C0>)>, 'm3': <staticmethod(<function Test.m3 at 0x000001C0DACD8700>)>, '__dict__': <attribute '__dict__' of 'Test' objects>, '__weakref__': <attribute '__weakref__' of 'Test' objects>, '__doc__': None, 'e': 50, 'f': 60}\n",
      "{'__module__': '__main__', '__init__': <function Test.__init__ at 0x000001C0DACD9D80>, 'm1': <function Test.m1 at 0x000001C0DACDA200>, 'm2': <classmethod(<function Test.m2 at 0x000001C0DACDA8C0>)>, 'm3': <staticmethod(<function Test.m3 at 0x000001C0DACD8700>)>, '__dict__': <attribute '__dict__' of 'Test' objects>, '__weakref__': <attribute '__weakref__' of 'Test' objects>, '__doc__': None, 'f': 60}\n"
     ]
    }
   ],
   "source": [
    "# example:\n",
    "\n",
    "class Test:\n",
    "    a=10\n",
    "    def __init__(self):\n",
    "        Test.b=20\n",
    "        del Test.a\n",
    "    def m1(self):\n",
    "        Test.c=30\n",
    "        del Test.b\n",
    "    @classmethod\n",
    "    def m2(cls):\n",
    "        cls.d=40\n",
    "        del Test.c\n",
    "    @staticmethod\n",
    "    def m3():\n",
    "        Test.e=50\n",
    "        del Test.d\n",
    "print(Test.__dict__)\n",
    "t=Test()\n",
    "print(Test.__dict__)\n",
    "t.m1()\n",
    "print(Test.__dict__)\n",
    "Test.m2()\n",
    "print(Test.__dict__)\n",
    "Test.m3()\n",
    "print(Test.__dict__)\n",
    "Test.f=60\n",
    "print(Test.__dict__)\n",
    "del Test.e\n",
    "print(Test.__dict__)\n"
   ]
  },
  {
   "cell_type": "code",
   "execution_count": 1,
   "id": "d7d9998b",
   "metadata": {},
   "outputs": [
    {
     "name": "stdout",
     "output_type": "stream",
     "text": [
      "Wellcome to  DURGABANK\n",
      "Enter Your Name:kishori\n",
      "d-deposit\n",
      "w-withdraw\n",
      "e-exit\n",
      "choose your option:d\n",
      "Enter amount:10000\n",
      "Balance after Deposite: 10000.0\n",
      "d-deposit\n",
      "w-withdraw\n",
      "e-exit\n",
      "choose your option:D\n",
      "Enter amount:20000\n",
      "Balance after Deposite: 30000.0\n",
      "d-deposit\n",
      "w-withdraw\n",
      "e-exit\n",
      "choose your option:w\n",
      "Enter amount:2000\n",
      "Balance after Withdraw: 28000.0\n",
      "d-deposit\n",
      "w-withdraw\n",
      "e-exit\n",
      "choose your option:t\n",
      "Invalid option..Pls choose valid option\n",
      "d-deposit\n",
      "w-withdraw\n",
      "e-exit\n",
      "choose your option:e\n",
      "Thanks for banking\n"
     ]
    },
    {
     "ename": "SystemExit",
     "evalue": "",
     "output_type": "error",
     "traceback": [
      "An exception has occurred, use %tb to see the full traceback.\n",
      "\u001b[1;31mSystemExit\u001b[0m\n"
     ]
    },
    {
     "name": "stderr",
     "output_type": "stream",
     "text": [
      "C:\\Users\\Amol\\anaconda3\\lib\\site-packages\\IPython\\core\\interactiveshell.py:3468: UserWarning: To exit: use 'exit', 'quit', or Ctrl-D.\n",
      "  warn(\"To exit: use 'exit', 'quit', or Ctrl-D.\", stacklevel=1)\n"
     ]
    }
   ],
   "source": [
    "# We can modify or delete static variables only by using classname or cls variable\n",
    "\n",
    "import sys\n",
    "class Customer:\n",
    "    \"\"\"Customer class with bank operations.\"\"\"\n",
    "    bankname=\"DURGABANK\"\n",
    "    def __init__ (self,name,balance=0.0):\n",
    "        self.name=name\n",
    "        self.balance=balance\n",
    "    def deposit(self,amt):\n",
    "        self.balance=self.balance+amt\n",
    "        print(\"Balance after Deposite:\",self.balance)\n",
    "    def withdraw(self,amt):\n",
    "        if amt>self.balance:\n",
    "            print(\"Insufficient Funds.. cannot perform this operation\")\n",
    "            sys.exit()\n",
    "        self.balance=self.balance-amt\n",
    "        print(\"Balance after Withdraw:\",self.balance)\n",
    "print(\"Wellcome to \",Customer.bankname)\n",
    "name=input(\"Enter Your Name:\")\n",
    "c=Customer(name)\n",
    "while True:\n",
    "    print(\"d-deposit\\nw-withdraw\\ne-exit\")\n",
    "    option=input(\"choose your option:\")\n",
    "    if option==\"d\" or option==\"D\":\n",
    "        amt=float(input(\"Enter amount:\"))\n",
    "        c.deposit(amt)\n",
    "    elif option==\"w\" or option==\"W\":\n",
    "        amt=float(input(\"Enter amount:\"))\n",
    "        c.withdraw(amt)\n",
    "    elif option==\"e\" or option==\"E\":\n",
    "        print(\"Thanks for banking\")\n",
    "        sys.exit()\n",
    "    else:\n",
    "        print(\"Invalid option..Pls choose valid option\")\n",
    "    \n",
    "    "
   ]
  },
  {
   "cell_type": "code",
   "execution_count": null,
   "id": "1ad0e484",
   "metadata": {},
   "outputs": [],
   "source": []
  }
 ],
 "metadata": {
  "kernelspec": {
   "display_name": "Python 3 (ipykernel)",
   "language": "python",
   "name": "python3"
  },
  "language_info": {
   "codemirror_mode": {
    "name": "ipython",
    "version": 3
   },
   "file_extension": ".py",
   "mimetype": "text/x-python",
   "name": "python",
   "nbconvert_exporter": "python",
   "pygments_lexer": "ipython3",
   "version": "3.10.9"
  }
 },
 "nbformat": 4,
 "nbformat_minor": 5
}
